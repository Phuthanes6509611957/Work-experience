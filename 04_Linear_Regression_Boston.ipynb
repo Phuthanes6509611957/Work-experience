{
  "nbformat": 4,
  "nbformat_minor": 0,
  "metadata": {
    "colab": {
      "name": "Linear Regression-Boston.ipynb",
      "provenance": [],
      "collapsed_sections": []
    },
    "kernelspec": {
      "name": "python3",
      "display_name": "Python 3"
    },
    "language_info": {
      "name": "python"
    }
  },
  "cells": [
    {
      "cell_type": "markdown",
      "metadata": {
        "id": "IJhN3st6kzil"
      },
      "source": [
        "## **Compare performance of linear models (OLS-Ridge-Lasso) on Boston dataset**"
      ]
    },
    {
      "cell_type": "code",
      "source": [
        "from google.colab import drive\n",
        "drive.mount('/content/drive')"
      ],
      "metadata": {
        "colab": {
          "base_uri": "https://localhost:8080/"
        },
        "id": "p79uusw1JRBS",
        "outputId": "2bad22b1-25d9-4227-af58-6119438adfdd"
      },
      "execution_count": null,
      "outputs": [
        {
          "output_type": "stream",
          "name": "stdout",
          "text": [
            "Drive already mounted at /content/drive; to attempt to forcibly remount, call drive.mount(\"/content/drive\", force_remount=True).\n"
          ]
        }
      ]
    },
    {
      "cell_type": "code",
      "metadata": {
        "id": "STYVEJ2lBx3h"
      },
      "source": [
        "!pip install mglearn"
      ],
      "execution_count": null,
      "outputs": []
    },
    {
      "cell_type": "markdown",
      "metadata": {
        "id": "_rO-ieAifWiD"
      },
      "source": [
        "## Ordinary Least Squared - Boston dataset"
      ]
    },
    {
      "cell_type": "code",
      "metadata": {
        "id": "r41DdAnGBHI9"
      },
      "source": [
        "import mglearn\n",
        "from sklearn.model_selection import train_test_split\n",
        "from sklearn.linear_model import LinearRegression\u000b\n",
        "\n",
        "X, y = mglearn.datasets.load_extended_boston()\n",
        "\n",
        "X_train, X_test, y_train, y_test = train_test_split(X, y, random_state=0)\n",
        " \n",
        "lr = LinearRegression().fit(X_train, y_train)"
      ],
      "execution_count": null,
      "outputs": []
    },
    {
      "cell_type": "code",
      "metadata": {
        "colab": {
          "base_uri": "https://localhost:8080/"
        },
        "id": "8H7ooxHbB15W",
        "outputId": "eb7369f9-5a7e-434a-a1f4-6e15fa55cf24"
      },
      "source": [
        "print(\"lr.coef_: {}\".format(lr.coef_)) \n",
        "print(\"lr.intercept_: {}\".format(lr.intercept_)) \n"
      ],
      "execution_count": null,
      "outputs": [
        {
          "output_type": "stream",
          "text": [
            "lr.coef_: [-4.12710947e+02 -5.22432068e+01 -1.31898815e+02 -1.20041365e+01\n",
            " -1.55107129e+01  2.87163342e+01  5.47040992e+01 -4.95346659e+01\n",
            "  2.65823927e+01  3.70620316e+01 -1.18281674e+01 -1.80581965e+01\n",
            " -1.95246830e+01  1.22025403e+01  2.98078144e+03  1.50084257e+03\n",
            "  1.14187325e+02 -1.69700520e+01  4.09613691e+01 -2.42636646e+01\n",
            "  5.76157466e+01  1.27812142e+03 -2.23986944e+03  2.22825472e+02\n",
            " -2.18201083e+00  4.29960320e+01 -1.33981515e+01 -1.93893485e+01\n",
            " -2.57541277e+00 -8.10130128e+01  9.66019367e+00  4.91423718e+00\n",
            " -8.12114800e-01 -7.64694179e+00  3.37837099e+01 -1.14464390e+01\n",
            "  6.85083979e+01 -1.73753604e+01  4.28128204e+01  1.13988209e+00\n",
            " -7.72696840e-01  5.68255921e+01  1.42875996e+01  5.39551110e+01\n",
            " -3.21709644e+01  1.92709675e+01 -1.38852338e+01  6.06343266e+01\n",
            " -1.23153942e+01 -1.20041365e+01 -1.77243899e+01 -3.39868183e+01\n",
            "  7.08999816e+00 -9.22538241e+00  1.71980268e+01 -1.27718431e+01\n",
            " -1.19727581e+01  5.73871915e+01 -1.75331865e+01  4.10103194e+00\n",
            "  2.93666477e+01 -1.76611772e+01  7.84049424e+01 -3.19098015e+01\n",
            "  4.81752461e+01 -3.95344813e+01  5.22959055e+00  2.19982410e+01\n",
            "  2.56483934e+01 -4.99982035e+01  2.91457545e+01  8.94267456e+00\n",
            " -7.16599297e+01 -2.28147862e+01  8.40660981e+00 -5.37905422e+00\n",
            "  1.20137322e+00 -5.20877186e+00  4.11452351e+01 -3.78250760e+01\n",
            " -2.67163851e+00 -2.55217108e+01 -3.33982030e+01  4.62272693e+01\n",
            " -2.41509169e+01 -1.77532970e+01 -1.39723701e+01 -2.35522208e+01\n",
            "  3.68353800e+01 -9.46890859e+01  1.44302810e+02 -1.51158659e+01\n",
            " -1.49513436e+01 -2.87729579e+01 -3.17673192e+01  2.49551594e+01\n",
            " -1.84384534e+01  3.65073948e+00  1.73101122e+00  3.53617137e+01\n",
            "  1.19553429e+01  6.77025947e-01  2.73452009e+00  3.03720012e+01]\n",
            "lr.intercept_: 30.93456367364464\n"
          ],
          "name": "stdout"
        }
      ]
    },
    {
      "cell_type": "code",
      "metadata": {
        "colab": {
          "base_uri": "https://localhost:8080/"
        },
        "id": "zcBIXiOtDtbF",
        "outputId": "c528143d-85f5-4251-de36-46e8d6f00dbd"
      },
      "source": [
        "print(\"Training set score: {:.2f}\".format(lr.score(X_train, y_train))) \n",
        "print(\"Test set score: {:.2f}\".format(lr.score(X_test, y_test))) \n"
      ],
      "execution_count": null,
      "outputs": [
        {
          "output_type": "stream",
          "text": [
            "Training set score: 0.95\n",
            "Test set score: 0.61\n"
          ],
          "name": "stdout"
        }
      ]
    },
    {
      "cell_type": "code",
      "metadata": {
        "id": "2iCnjRw1glHI"
      },
      "source": [
        "# With linear regression, we were overfitting our data"
      ],
      "execution_count": null,
      "outputs": []
    },
    {
      "cell_type": "markdown",
      "metadata": {
        "id": "Lyj3Kaf_fl9q"
      },
      "source": [
        "## Ridge Regression - Boston dataset"
      ]
    },
    {
      "cell_type": "code",
      "metadata": {
        "id": "_pJdvUoSHuAO"
      },
      "source": [
        "from sklearn.linear_model import Ridge \n",
        "\n",
        "ridge = Ridge().fit(X_train, y_train)\u000b\n"
      ],
      "execution_count": null,
      "outputs": []
    },
    {
      "cell_type": "code",
      "metadata": {
        "colab": {
          "base_uri": "https://localhost:8080/"
        },
        "id": "PIAdksJUgUJP",
        "outputId": "4bfc9787-359f-4f2d-e1c8-198deff9d2a1"
      },
      "source": [
        "print(\"Training set score: {:.2f}\".format(ridge.score(X_train, y_train))) \n",
        "print(\"Test set score: {:.2f}\".format(ridge.score(X_test, y_test))) \n"
      ],
      "execution_count": null,
      "outputs": [
        {
          "output_type": "stream",
          "text": [
            "Training set score: 0.89\n",
            "Test set score: 0.75\n"
          ],
          "name": "stdout"
        }
      ]
    },
    {
      "cell_type": "code",
      "metadata": {
        "id": "dVlUTsaWggdT"
      },
      "source": [
        "# Ridge is a more restricted model, so we are less likely to overfit. "
      ],
      "execution_count": null,
      "outputs": []
    },
    {
      "cell_type": "markdown",
      "metadata": {
        "id": "-W9ClAxCjdbJ"
      },
      "source": [
        "**Try with different alpha**"
      ]
    },
    {
      "cell_type": "code",
      "metadata": {
        "colab": {
          "base_uri": "https://localhost:8080/"
        },
        "id": "MbdswGOahBXy",
        "outputId": "66a14773-4a57-4b3d-9a65-dd30217f3f5f"
      },
      "source": [
        "# Alpha = 10\n",
        "ridge10 = Ridge(alpha=10).fit(X_train, y_train)\u000b\n",
        "print(\"Training set score: {:.2f}\".format(ridge10.score(X_train, y_train))) \n",
        "print(\"Test set score: {:.2f}\".format(ridge10.score(X_test, y_test))) \n"
      ],
      "execution_count": null,
      "outputs": [
        {
          "output_type": "stream",
          "text": [
            "Training set score: 0.79\n",
            "Test set score: 0.64\n"
          ],
          "name": "stdout"
        }
      ]
    },
    {
      "cell_type": "code",
      "metadata": {
        "colab": {
          "base_uri": "https://localhost:8080/"
        },
        "id": "n-1Nym-eiPog",
        "outputId": "d49d9d6c-fc45-45f8-e755-0749f6ab6ce2"
      },
      "source": [
        "# Alpha = 1 (default)\n",
        "ridge1 = Ridge(alpha=1).fit(X_train, y_train)\u000b\n",
        "print(\"Training set score: {:.2f}\".format(ridge1.score(X_train, y_train))) \n",
        "print(\"Test set score: {:.2f}\".format(ridge1.score(X_test, y_test))) "
      ],
      "execution_count": null,
      "outputs": [
        {
          "output_type": "stream",
          "text": [
            "Training set score: 0.89\n",
            "Test set score: 0.75\n"
          ],
          "name": "stdout"
        }
      ]
    },
    {
      "cell_type": "code",
      "metadata": {
        "colab": {
          "base_uri": "https://localhost:8080/"
        },
        "id": "jQEb1_qPhdzM",
        "outputId": "950c9f45-3e44-48f2-bf5f-8394d5b96920"
      },
      "source": [
        "# Alpha = 0.1\n",
        "ridge01 = Ridge(alpha=0.1).fit(X_train, y_train)\u000b\n",
        "print(\"Training set score: {:.2f}\".format(ridge01.score(X_train, y_train))) \n",
        "print(\"Test set score: {:.2f}\".format(ridge01.score(X_test, y_test))) \n"
      ],
      "execution_count": null,
      "outputs": [
        {
          "output_type": "stream",
          "text": [
            "Training set score: 0.93\n",
            "Test set score: 0.77\n"
          ],
          "name": "stdout"
        }
      ]
    },
    {
      "cell_type": "code",
      "metadata": {
        "colab": {
          "base_uri": "https://localhost:8080/",
          "height": 296
        },
        "id": "3fGL8znDinzp",
        "outputId": "b1c2461d-9336-452b-cad5-af0484551b5e"
      },
      "source": [
        "from matplotlib import pyplot as plt\n",
        "\n",
        "plt.plot(ridge.coef_, 's', label=\"Ridge alpha=1\") \n",
        "plt.plot(ridge10.coef_, '^', label=\"Ridge alpha=10\") \n",
        "plt.plot(ridge01.coef_, 'v', label=\"Ridge alpha=0.1\")\n",
        "\n",
        "plt.plot(lr.coef_, 'o', label=\"LinearRegression\") \n",
        "plt.xlabel(\"Coefficient index\") \n",
        "plt.ylabel(\"Coefficient magnitude\") \n",
        "plt.hlines(0, 0, len(lr.coef_)) \n",
        "plt.ylim(-25, 25) \n",
        "plt.legend() \n"
      ],
      "execution_count": null,
      "outputs": [
        {
          "output_type": "execute_result",
          "data": {
            "text/plain": [
              "<matplotlib.legend.Legend at 0x7f5fe56bc290>"
            ]
          },
          "metadata": {},
          "execution_count": 17
        },
        {
          "output_type": "display_data",
          "data": {
            "image/png": "[encoded data removed]",
            "text/plain": [
              "<Figure size 432x288 with 1 Axes>"
            ]
          },
          "metadata": {
            "needs_background": "light"
          }
        }
      ]
    },
    {
      "cell_type": "markdown",
      "metadata": {
        "id": "sKJutpOhjt24"
      },
      "source": [
        "**Fix alpha but vary the amount of  training data**"
      ]
    },
    {
      "cell_type": "code",
      "metadata": {
        "colab": {
          "base_uri": "https://localhost:8080/",
          "height": 325
        },
        "id": "GuW1PBCwjs6K",
        "outputId": "3d12efee-1bff-4275-f3bd-c597cf3ff5bb"
      },
      "source": [
        "mglearn.plots.plot_ridge_n_samples()"
      ],
      "execution_count": null,
      "outputs": [
        {
          "output_type": "display_data",
          "data": {
            "image/png": "[encoded data removed]",
            "text/plain": [
              "<Figure size 432x288 with 1 Axes>"
            ]
          },
          "metadata": {
            "needs_background": "light"
          }
        }
      ]
    },
    {
      "cell_type": "markdown",
      "metadata": {
        "id": "LqeaNXYknYCj"
      },
      "source": [
        "## Lasso Regression - Boston dataset"
      ]
    },
    {
      "cell_type": "code",
      "metadata": {
        "id": "LJIjZo0IoB91"
      },
      "source": [
        "import numpy as np\n",
        "\n",
        "from sklearn.linear_model import Lasso \n",
        "\n",
        "lasso = Lasso().fit(X_train, y_train)\u000b"
      ],
      "execution_count": null,
      "outputs": []
    },
    {
      "cell_type": "code",
      "metadata": {
        "colab": {
          "base_uri": "https://localhost:8080/"
        },
        "id": "ovbeYAptoFpV",
        "outputId": "332ee551-3f7d-46c0-bc7e-c86cfef71519"
      },
      "source": [
        "print(\"Training set score: {:.2f}\".format(lasso.score(X_train, y_train))) \n",
        "print(\"Test set score: {:.2f}\".format(lasso.score(X_test, y_test))) \n",
        "print(\"Number of features used: {}\".format(np.sum(lasso.coef_ != 0))) \n"
      ],
      "execution_count": null,
      "outputs": [
        {
          "output_type": "stream",
          "text": [
            "Training set score: 0.29\n",
            "Test set score: 0.21\n",
            "Number of features used: 4\n"
          ],
          "name": "stdout"
        }
      ]
    },
    {
      "cell_type": "code",
      "metadata": {
        "id": "m0RBcfG-oSrd"
      },
      "source": [
        "# only 4 out of 105 features are used"
      ],
      "execution_count": null,
      "outputs": []
    },
    {
      "cell_type": "markdown",
      "metadata": {
        "id": "fhBeOfZ4pVSX"
      },
      "source": [
        "**Try with different alpha**"
      ]
    },
    {
      "cell_type": "code",
      "metadata": {
        "colab": {
          "base_uri": "https://localhost:8080/"
        },
        "id": "0i-iBrhToX11",
        "outputId": "6da43bb4-95c5-4fde-e7c1-5525a7cc48dc"
      },
      "source": [
        "lasso001 = Lasso(alpha=0.01, max_iter=100000).fit(X_train, y_train) \n",
        "print(\"Training set score: {:.2f}\".format(lasso001.score(X_train, y_train))) \n",
        "print(\"Test set score: {:.2f}\".format(lasso001.score(X_test, y_test))) \n",
        "print(\"Number of features used: {}\".format(np.sum(lasso001.coef_ != 0))) \n"
      ],
      "execution_count": null,
      "outputs": [
        {
          "output_type": "stream",
          "text": [
            "Training set score: 0.90\n",
            "Test set score: 0.77\n",
            "Number of features used: 33\n"
          ],
          "name": "stdout"
        }
      ]
    },
    {
      "cell_type": "code",
      "metadata": {
        "id": "4xUkl8Sgo7Kp"
      },
      "source": [
        "# The performance is slightly better than using Ridge, and we are using only 33 of the 105 features. \n",
        "# This makes this model potentially easier to understand. \n"
      ],
      "execution_count": null,
      "outputs": []
    },
    {
      "cell_type": "code",
      "metadata": {
        "colab": {
          "base_uri": "https://localhost:8080/"
        },
        "id": "JXR1alPgpG7J",
        "outputId": "7e6d8b82-da97-4dba-83f1-96a49e6ecf7e"
      },
      "source": [
        "lasso00001 = Lasso(alpha=0.0001, max_iter=100000).fit(X_train, y_train) \n",
        "print(\"Training set score: {:.2f}\".format(lasso00001.score(X_train, y_train))) \n",
        "print(\"Test set score: {:.2f}\".format(lasso00001.score(X_test, y_test))) \n",
        "print(\"Number of features used: {}\".format(np.sum(lasso00001.coef_ != 0))) \n"
      ],
      "execution_count": null,
      "outputs": [
        {
          "output_type": "stream",
          "text": [
            "Training set score: 0.95\n",
            "Test set score: 0.64\n",
            "Number of features used: 96\n"
          ],
          "name": "stdout"
        }
      ]
    },
    {
      "cell_type": "code",
      "metadata": {
        "colab": {
          "base_uri": "https://localhost:8080/",
          "height": 340
        },
        "id": "W06kYWflsJr9",
        "outputId": "3737255b-e157-47f0-de35-355b292bf19a"
      },
      "source": [
        "plt.plot(lasso.coef_, 's', label=\"Lasso alpha=1\") \n",
        "plt.plot(lasso001.coef_, '^', label=\"Lasso alpha=0.01\") \n",
        "plt.plot(lasso00001.coef_, 'v', label=\"Lasso alpha=0.0001\")\n",
        "plt.plot(ridge01.coef_, 'o', label=\"Ridge alpha=0.1\") \n",
        "plt.legend(ncol=2, loc=(0, 1.05))\n",
        "plt.ylim(-25, 25)\n",
        "plt.xlabel(\"Coefficient index\") \n",
        "plt.ylabel(\"Coefficient magnitude\")"
      ],
      "execution_count": null,
      "outputs": [
        {
          "output_type": "execute_result",
          "data": {
            "text/plain": [
              "Text(0, 0.5, 'Coefficient magnitude')"
            ]
          },
          "metadata": {},
          "execution_count": 26
        },
        {
          "output_type": "display_data",
          "data": {
            "image/png": "[encoded data removed]",
            "text/plain": [
              "<Figure size 432x288 with 1 Axes>"
            ]
          },
          "metadata": {
            "needs_background": "light"
          }
        }
      ]
    }
  ]
}