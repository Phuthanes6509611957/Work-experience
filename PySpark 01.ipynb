{
  "nbformat": 4,
  "nbformat_minor": 0,
  "metadata": {
    "colab": {
      "provenance": []
    },
    "kernelspec": {
      "name": "python3",
      "display_name": "Python 3"
    },
    "language_info": {
      "name": "python"
    }
  },
  "cells": [
    {
      "cell_type": "code",
      "execution_count": null,
      "metadata": {
        "colab": {
          "base_uri": "https://localhost:8080/"
        },
        "id": "-obNzoJBXl3B",
        "outputId": "61783d57-e319-41d2-c938-e32a0a58df2a"
      },
      "outputs": [
        {
          "output_type": "stream",
          "name": "stdout",
          "text": [
            "Requirement already satisfied: pyspark in /usr/local/lib/python3.11/dist-packages (3.5.4)\n",
            "Requirement already satisfied: py4j in /usr/local/lib/python3.11/dist-packages (0.10.9.7)\n"
          ]
        }
      ],
      "source": [
        "!pip install pyspark py4j"
      ]
    },
    {
      "cell_type": "code",
      "source": [
        "import os\n",
        "import pandas as pd\n",
        "from pyspark.sql.types import StructType, StructField, StringType, IntegerType, DoubleType, LongType, TimestampType"
      ],
      "metadata": {
        "id": "kbq5aHaoX0Jc"
      },
      "execution_count": null,
      "outputs": []
    },
    {
      "cell_type": "code",
      "source": [
        "!pip install findspark"
      ],
      "metadata": {
        "colab": {
          "base_uri": "https://localhost:8080/"
        },
        "id": "kZ2Y-irXX3VC",
        "outputId": "c4e39b5a-5a25-404f-ec24-219687a37a34"
      },
      "execution_count": null,
      "outputs": [
        {
          "output_type": "stream",
          "name": "stdout",
          "text": [
            "Requirement already satisfied: findspark in /usr/local/lib/python3.11/dist-packages (2.0.1)\n"
          ]
        }
      ]
    },
    {
      "cell_type": "code",
      "source": [
        "import findspark\n",
        "findspark.init()\n",
        "from pyspark.sql import SparkSession\n",
        "spark = SparkSession.builder.master(\"local[*]\").getOrCreate()\n",
        "spark.conf.set(\"spark.sql.repl.eagerEval.enabled\", True)\n",
        "spark"
      ],
      "metadata": {
        "colab": {
          "base_uri": "https://localhost:8080/",
          "height": 219
        },
        "id": "W76sTX4NX6Jj",
        "outputId": "207497c4-6a40-446d-eb60-2090ec32f38d"
      },
      "execution_count": null,
      "outputs": [
        {
          "output_type": "execute_result",
          "data": {
            "text/plain": [
              "<pyspark.sql.session.SparkSession at 0x7f11da125210>"
            ],
            "text/html": [
              "\n",
              "            <div>\n",
              "                <p><b>SparkSession - in-memory</b></p>\n",
              "                \n",
              "        <div>\n",
              "            <p><b>SparkContext</b></p>\n",
              "\n",
              "            <p><a href=\"http://4cf6c1c22656:4040\">Spark UI</a></p>\n",
              "\n",
              "            <dl>\n",
              "              <dt>Version</dt>\n",
              "                <dd><code>v3.5.4</code></dd>\n",
              "              <dt>Master</dt>\n",
              "                <dd><code>local[*]</code></dd>\n",
              "              <dt>AppName</dt>\n",
              "                <dd><code>pyspark-shell</code></dd>\n",
              "            </dl>\n",
              "        </div>\n",
              "        \n",
              "            </div>\n",
              "        "
            ]
          },
          "metadata": {},
          "execution_count": 49
        }
      ]
    },
    {
      "cell_type": "markdown",
      "source": [
        "#Loading the Dataset"
      ],
      "metadata": {
        "id": "F-bwMSNnYIdw"
      }
    },
    {
      "cell_type": "code",
      "source": [
        "from google.colab import drive\n",
        "drive.mount('/content/drive')\n"
      ],
      "metadata": {
        "colab": {
          "base_uri": "https://localhost:8080/"
        },
        "id": "xUZ-FhfwYJoq",
        "outputId": "cfbd3293-64cf-45d8-b4dc-50fa36f82260"
      },
      "execution_count": null,
      "outputs": [
        {
          "output_type": "stream",
          "name": "stdout",
          "text": [
            "Drive already mounted at /content/drive; to attempt to forcibly remount, call drive.mount(\"/content/drive\", force_remount=True).\n"
          ]
        }
      ]
    },
    {
      "cell_type": "code",
      "source": [
        "df = spark.read.csv('/content/sleep_cycle_productivity.csv', header=True, inferSchema=True, sep=\",\")\n",
        "df.show(5, truncate=False)\n"
      ],
      "metadata": {
        "colab": {
          "base_uri": "https://localhost:8080/"
        },
        "id": "fyaX1o7ZYRxI",
        "outputId": "5deb40a2-0c7a-48b4-e277-79b37b0e01aa"
      },
      "execution_count": null,
      "outputs": [
        {
          "output_type": "stream",
          "name": "stdout",
          "text": [
            "+----------+---------+---+------+----------------+--------------+-----------------+-------------+-------------------+--------------------+-----------------------------+--------------------+------------------+----------+------------+\n",
            "|Date      |Person_ID|Age|Gender|Sleep Start Time|Sleep End Time|Total Sleep Hours|Sleep Quality|Exercise (mins/day)|Caffeine Intake (mg)|Screen Time Before Bed (mins)|Work Hours (hrs/day)|Productivity Score|Mood Score|Stress Level|\n",
            "+----------+---------+---+------+----------------+--------------+-----------------+-------------+-------------------+--------------------+-----------------------------+--------------------+------------------+----------+------------+\n",
            "|2024-04-12|1860     |32 |Other |23.33           |4.61          |5.28             |3            |86                 |87                  |116                          |8.80892009394567    |8                 |3         |6           |\n",
            "|2024-11-04|1769     |41 |Female|21.02           |2.43          |5.41             |5            |32                 |21                  |88                           |6.329833121584335   |10                |3         |7           |\n",
            "|2024-08-31|2528     |20 |Male  |22.1            |3.45          |5.35             |7            |17                 |88                  |59                           |8.506305742764315   |10                |9         |10          |\n",
            "|2024-02-22|8041     |37 |Other |23.1            |6.65          |7.55             |8            |46                 |34                  |80                           |6.070239852800135   |8                 |4         |2           |\n",
            "|2024-02-23|4843     |46 |Other |21.42           |4.17          |6.75             |10           |61                 |269                 |94                           |11.374993880184935  |8                 |7         |9           |\n",
            "+----------+---------+---+------+----------------+--------------+-----------------+-------------+-------------------+--------------------+-----------------------------+--------------------+------------------+----------+------------+\n",
            "only showing top 5 rows\n",
            "\n"
          ]
        }
      ]
    },
    {
      "cell_type": "markdown",
      "source": [
        "# Viewing the Dataframe"
      ],
      "metadata": {
        "id": "Z8wO2KZmZLgn"
      }
    },
    {
      "cell_type": "code",
      "source": [
        "df.show(5, truncate=False)"
      ],
      "metadata": {
        "id": "Ul1bPzunZNtO",
        "colab": {
          "base_uri": "https://localhost:8080/"
        },
        "outputId": "229bb5ba-3501-4279-a1b6-591d99a748c3"
      },
      "execution_count": null,
      "outputs": [
        {
          "output_type": "stream",
          "name": "stdout",
          "text": [
            "+----------+---------+---+------+----------------+--------------+-----------------+-------------+-------------------+--------------------+-----------------------------+--------------------+------------------+----------+------------+\n",
            "|Date      |Person_ID|Age|Gender|Sleep Start Time|Sleep End Time|Total Sleep Hours|Sleep Quality|Exercise (mins/day)|Caffeine Intake (mg)|Screen Time Before Bed (mins)|Work Hours (hrs/day)|Productivity Score|Mood Score|Stress Level|\n",
            "+----------+---------+---+------+----------------+--------------+-----------------+-------------+-------------------+--------------------+-----------------------------+--------------------+------------------+----------+------------+\n",
            "|2024-04-12|1860     |32 |Other |23.33           |4.61          |5.28             |3            |86                 |87                  |116                          |8.80892009394567    |8                 |3         |6           |\n",
            "|2024-11-04|1769     |41 |Female|21.02           |2.43          |5.41             |5            |32                 |21                  |88                           |6.329833121584335   |10                |3         |7           |\n",
            "|2024-08-31|2528     |20 |Male  |22.1            |3.45          |5.35             |7            |17                 |88                  |59                           |8.506305742764315   |10                |9         |10          |\n",
            "|2024-02-22|8041     |37 |Other |23.1            |6.65          |7.55             |8            |46                 |34                  |80                           |6.070239852800135   |8                 |4         |2           |\n",
            "|2024-02-23|4843     |46 |Other |21.42           |4.17          |6.75             |10           |61                 |269                 |94                           |11.374993880184935  |8                 |7         |9           |\n",
            "+----------+---------+---+------+----------------+--------------+-----------------+-------------+-------------------+--------------------+-----------------------------+--------------------+------------------+----------+------------+\n",
            "only showing top 5 rows\n",
            "\n"
          ]
        }
      ]
    },
    {
      "cell_type": "code",
      "source": [
        "df.limit(5)"
      ],
      "metadata": {
        "colab": {
          "base_uri": "https://localhost:8080/",
          "height": 260
        },
        "id": "SVDmQ-REZQf8",
        "outputId": "f1f4dd00-7560-4436-fca2-a14a1a3fcaaa"
      },
      "execution_count": null,
      "outputs": [
        {
          "output_type": "execute_result",
          "data": {
            "text/plain": [
              "+----------+---------+---+------+----------------+--------------+-----------------+-------------+-------------------+--------------------+-----------------------------+--------------------+------------------+----------+------------+\n",
              "|      Date|Person_ID|Age|Gender|Sleep Start Time|Sleep End Time|Total Sleep Hours|Sleep Quality|Exercise (mins/day)|Caffeine Intake (mg)|Screen Time Before Bed (mins)|Work Hours (hrs/day)|Productivity Score|Mood Score|Stress Level|\n",
              "+----------+---------+---+------+----------------+--------------+-----------------+-------------+-------------------+--------------------+-----------------------------+--------------------+------------------+----------+------------+\n",
              "|2024-04-12|     1860| 32| Other|           23.33|          4.61|             5.28|            3|                 86|                  87|                          116|    8.80892009394567|                 8|         3|           6|\n",
              "|2024-11-04|     1769| 41|Female|           21.02|          2.43|             5.41|            5|                 32|                  21|                           88|   6.329833121584335|                10|         3|           7|\n",
              "|2024-08-31|     2528| 20|  Male|            22.1|          3.45|             5.35|            7|                 17|                  88|                           59|   8.506305742764315|                10|         9|          10|\n",
              "|2024-02-22|     8041| 37| Other|            23.1|          6.65|             7.55|            8|                 46|                  34|                           80|   6.070239852800135|                 8|         4|           2|\n",
              "|2024-02-23|     4843| 46| Other|           21.42|          4.17|             6.75|           10|                 61|                 269|                           94|  11.374993880184935|                 8|         7|           9|\n",
              "+----------+---------+---+------+----------------+--------------+-----------------+-------------+-------------------+--------------------+-----------------------------+--------------------+------------------+----------+------------+"
            ],
            "text/html": [
              "<table border='1'>\n",
              "<tr><th>Date</th><th>Person_ID</th><th>Age</th><th>Gender</th><th>Sleep Start Time</th><th>Sleep End Time</th><th>Total Sleep Hours</th><th>Sleep Quality</th><th>Exercise (mins/day)</th><th>Caffeine Intake (mg)</th><th>Screen Time Before Bed (mins)</th><th>Work Hours (hrs/day)</th><th>Productivity Score</th><th>Mood Score</th><th>Stress Level</th></tr>\n",
              "<tr><td>2024-04-12</td><td>1860</td><td>32</td><td>Other</td><td>23.33</td><td>4.61</td><td>5.28</td><td>3</td><td>86</td><td>87</td><td>116</td><td>8.80892009394567</td><td>8</td><td>3</td><td>6</td></tr>\n",
              "<tr><td>2024-11-04</td><td>1769</td><td>41</td><td>Female</td><td>21.02</td><td>2.43</td><td>5.41</td><td>5</td><td>32</td><td>21</td><td>88</td><td>6.329833121584335</td><td>10</td><td>3</td><td>7</td></tr>\n",
              "<tr><td>2024-08-31</td><td>2528</td><td>20</td><td>Male</td><td>22.1</td><td>3.45</td><td>5.35</td><td>7</td><td>17</td><td>88</td><td>59</td><td>8.506305742764315</td><td>10</td><td>9</td><td>10</td></tr>\n",
              "<tr><td>2024-02-22</td><td>8041</td><td>37</td><td>Other</td><td>23.1</td><td>6.65</td><td>7.55</td><td>8</td><td>46</td><td>34</td><td>80</td><td>6.070239852800135</td><td>8</td><td>4</td><td>2</td></tr>\n",
              "<tr><td>2024-02-23</td><td>4843</td><td>46</td><td>Other</td><td>21.42</td><td>4.17</td><td>6.75</td><td>10</td><td>61</td><td>269</td><td>94</td><td>11.374993880184935</td><td>8</td><td>7</td><td>9</td></tr>\n",
              "</table>\n"
            ]
          },
          "metadata": {},
          "execution_count": 53
        }
      ]
    },
    {
      "cell_type": "markdown",
      "source": [
        "# Viewing Dataframe Columns"
      ],
      "metadata": {
        "id": "qeCph7I9ZzKJ"
      }
    },
    {
      "cell_type": "code",
      "source": [
        "df.columns"
      ],
      "metadata": {
        "colab": {
          "base_uri": "https://localhost:8080/"
        },
        "id": "wqES3jkiZ2cq",
        "outputId": "89f395b7-f83d-4191-929a-4df496b1711f"
      },
      "execution_count": null,
      "outputs": [
        {
          "output_type": "execute_result",
          "data": {
            "text/plain": [
              "['Date',\n",
              " 'Person_ID',\n",
              " 'Age',\n",
              " 'Gender',\n",
              " 'Sleep Start Time',\n",
              " 'Sleep End Time',\n",
              " 'Total Sleep Hours',\n",
              " 'Sleep Quality',\n",
              " 'Exercise (mins/day)',\n",
              " 'Caffeine Intake (mg)',\n",
              " 'Screen Time Before Bed (mins)',\n",
              " 'Work Hours (hrs/day)',\n",
              " 'Productivity Score',\n",
              " 'Mood Score',\n",
              " 'Stress Level']"
            ]
          },
          "metadata": {},
          "execution_count": 54
        }
      ]
    },
    {
      "cell_type": "markdown",
      "source": [
        "# Dataframe Schema"
      ],
      "metadata": {
        "id": "ojcmmRWpZ5O4"
      }
    },
    {
      "cell_type": "code",
      "source": [
        "df.dtypes"
      ],
      "metadata": {
        "colab": {
          "base_uri": "https://localhost:8080/"
        },
        "id": "JwzxnWddZ8dK",
        "outputId": "b0dac1da-a8eb-4b22-e6bf-7b1861a81ea4"
      },
      "execution_count": null,
      "outputs": [
        {
          "output_type": "execute_result",
          "data": {
            "text/plain": [
              "[('Date', 'date'),\n",
              " ('Person_ID', 'int'),\n",
              " ('Age', 'int'),\n",
              " ('Gender', 'string'),\n",
              " ('Sleep Start Time', 'double'),\n",
              " ('Sleep End Time', 'double'),\n",
              " ('Total Sleep Hours', 'double'),\n",
              " ('Sleep Quality', 'int'),\n",
              " ('Exercise (mins/day)', 'int'),\n",
              " ('Caffeine Intake (mg)', 'int'),\n",
              " ('Screen Time Before Bed (mins)', 'int'),\n",
              " ('Work Hours (hrs/day)', 'double'),\n",
              " ('Productivity Score', 'int'),\n",
              " ('Mood Score', 'int'),\n",
              " ('Stress Level', 'int')]"
            ]
          },
          "metadata": {},
          "execution_count": 55
        }
      ]
    },
    {
      "cell_type": "code",
      "source": [
        "df.printSchema()"
      ],
      "metadata": {
        "colab": {
          "base_uri": "https://localhost:8080/"
        },
        "id": "wteD1rbIZ-Fk",
        "outputId": "b50683fa-a0aa-4532-bbf8-5fc2bde5eb57"
      },
      "execution_count": null,
      "outputs": [
        {
          "output_type": "stream",
          "name": "stdout",
          "text": [
            "root\n",
            " |-- Date: date (nullable = true)\n",
            " |-- Person_ID: integer (nullable = true)\n",
            " |-- Age: integer (nullable = true)\n",
            " |-- Gender: string (nullable = true)\n",
            " |-- Sleep Start Time: double (nullable = true)\n",
            " |-- Sleep End Time: double (nullable = true)\n",
            " |-- Total Sleep Hours: double (nullable = true)\n",
            " |-- Sleep Quality: integer (nullable = true)\n",
            " |-- Exercise (mins/day): integer (nullable = true)\n",
            " |-- Caffeine Intake (mg): integer (nullable = true)\n",
            " |-- Screen Time Before Bed (mins): integer (nullable = true)\n",
            " |-- Work Hours (hrs/day): double (nullable = true)\n",
            " |-- Productivity Score: integer (nullable = true)\n",
            " |-- Mood Score: integer (nullable = true)\n",
            " |-- Stress Level: integer (nullable = true)\n",
            "\n"
          ]
        }
      ]
    },
    {
      "cell_type": "markdown",
      "source": [
        "# Inferring Schema Implicitly"
      ],
      "metadata": {
        "id": "De7V3TOGaO4E"
      }
    },
    {
      "cell_type": "code",
      "source": [
        "df = spark.read.csv('/content/sleep_cycle_productivity.csv', header=True, sep=\",\", inferSchema=True)\n",
        "df.printSchema()"
      ],
      "metadata": {
        "colab": {
          "base_uri": "https://localhost:8080/"
        },
        "id": "bwM5a6nCaREf",
        "outputId": "9ae227f0-60ff-4826-b478-526827ec0f7b"
      },
      "execution_count": null,
      "outputs": [
        {
          "output_type": "stream",
          "name": "stdout",
          "text": [
            "root\n",
            " |-- Date: date (nullable = true)\n",
            " |-- Person_ID: integer (nullable = true)\n",
            " |-- Age: integer (nullable = true)\n",
            " |-- Gender: string (nullable = true)\n",
            " |-- Sleep Start Time: double (nullable = true)\n",
            " |-- Sleep End Time: double (nullable = true)\n",
            " |-- Total Sleep Hours: double (nullable = true)\n",
            " |-- Sleep Quality: integer (nullable = true)\n",
            " |-- Exercise (mins/day): integer (nullable = true)\n",
            " |-- Caffeine Intake (mg): integer (nullable = true)\n",
            " |-- Screen Time Before Bed (mins): integer (nullable = true)\n",
            " |-- Work Hours (hrs/day): double (nullable = true)\n",
            " |-- Productivity Score: integer (nullable = true)\n",
            " |-- Mood Score: integer (nullable = true)\n",
            " |-- Stress Level: integer (nullable = true)\n",
            "\n"
          ]
        }
      ]
    },
    {
      "cell_type": "markdown",
      "source": [
        "# Defining Schema Explicitly"
      ],
      "metadata": {
        "id": "rgS48AtpazUR"
      }
    },
    {
      "cell_type": "code",
      "source": [
        "from pyspark.sql.types import *\n",
        "df.columns"
      ],
      "metadata": {
        "colab": {
          "base_uri": "https://localhost:8080/"
        },
        "id": "HKt61cSTa1Kf",
        "outputId": "dcea30ba-43e0-4837-d3aa-40116a3f7267"
      },
      "execution_count": null,
      "outputs": [
        {
          "output_type": "execute_result",
          "data": {
            "text/plain": [
              "['Date',\n",
              " 'Person_ID',\n",
              " 'Age',\n",
              " 'Gender',\n",
              " 'Sleep Start Time',\n",
              " 'Sleep End Time',\n",
              " 'Total Sleep Hours',\n",
              " 'Sleep Quality',\n",
              " 'Exercise (mins/day)',\n",
              " 'Caffeine Intake (mg)',\n",
              " 'Screen Time Before Bed (mins)',\n",
              " 'Work Hours (hrs/day)',\n",
              " 'Productivity Score',\n",
              " 'Mood Score',\n",
              " 'Stress Level']"
            ]
          },
          "metadata": {},
          "execution_count": 58
        }
      ]
    },
    {
      "cell_type": "code",
      "source": [
        "labels = [\n",
        "     ('Date',StringType()),\n",
        "     ('Person_ID',IntegerType()),\n",
        "     ('Age',IntegerType()),\n",
        "     ('Gender',StringType()),\n",
        "     ('Sleep Start Time',DoubleType()),\n",
        "     ('Sleep End Time',DoubleType()),\n",
        "     ('Total Sleep Hours',DoubleType()),\n",
        "     ('Sleep Quality',DoubleType()),\n",
        "     ('Exercise (mins/day)',DoubleType()),\n",
        "     ('Caffeine Intake (mg)',DoubleType()),\n",
        "     ('Screen Time Before Bed (mins)',DoubleType()),\n",
        "     ('Work Hours (hrs/day)',DoubleType()),\n",
        "     ('Productivity Score',DoubleType()),\n",
        "     ('Mood Score',DoubleType()),\n",
        "     ('Stress Level',DoubleType()),\n",
        "]"
      ],
      "metadata": {
        "id": "EQqsUwGOa2rz"
      },
      "execution_count": null,
      "outputs": []
    },
    {
      "cell_type": "code",
      "source": [
        "schema = StructType([StructField (x[0], x[1], True) for x in labels])\n",
        "schema"
      ],
      "metadata": {
        "colab": {
          "base_uri": "https://localhost:8080/"
        },
        "id": "s_tv_iMvjXab",
        "outputId": "93820e46-76dc-478d-d45a-d5b977113a89"
      },
      "execution_count": null,
      "outputs": [
        {
          "output_type": "execute_result",
          "data": {
            "text/plain": [
              "StructType([StructField('Date', StringType(), True), StructField('Person_ID', IntegerType(), True), StructField('Age', IntegerType(), True), StructField('Gender', StringType(), True), StructField('Sleep Start Time', DoubleType(), True), StructField('Sleep End Time', DoubleType(), True), StructField('Total Sleep Hours', DoubleType(), True), StructField('Sleep Quality', DoubleType(), True), StructField('Exercise (mins/day)', DoubleType(), True), StructField('Caffeine Intake (mg)', DoubleType(), True), StructField('Screen Time Before Bed (mins)', DoubleType(), True), StructField('Work Hours (hrs/day)', DoubleType(), True), StructField('Productivity Score', DoubleType(), True), StructField('Mood Score', DoubleType(), True), StructField('Stress Level', DoubleType(), True)])"
            ]
          },
          "metadata": {},
          "execution_count": 60
        }
      ]
    },
    {
      "cell_type": "code",
      "source": [
        "df = spark.read.csv('/content/sleep_cycle_productivity.csv', header=True, sep=\",\", schema=schema)\n",
        "df.printSchema()"
      ],
      "metadata": {
        "colab": {
          "base_uri": "https://localhost:8080/"
        },
        "id": "tEpmgo3ZjaWq",
        "outputId": "e4b605a6-2370-48d1-ed96-b6c448e3bbfc"
      },
      "execution_count": null,
      "outputs": [
        {
          "output_type": "stream",
          "name": "stdout",
          "text": [
            "root\n",
            " |-- Date: string (nullable = true)\n",
            " |-- Person_ID: integer (nullable = true)\n",
            " |-- Age: integer (nullable = true)\n",
            " |-- Gender: string (nullable = true)\n",
            " |-- Sleep Start Time: double (nullable = true)\n",
            " |-- Sleep End Time: double (nullable = true)\n",
            " |-- Total Sleep Hours: double (nullable = true)\n",
            " |-- Sleep Quality: double (nullable = true)\n",
            " |-- Exercise (mins/day): double (nullable = true)\n",
            " |-- Caffeine Intake (mg): double (nullable = true)\n",
            " |-- Screen Time Before Bed (mins): double (nullable = true)\n",
            " |-- Work Hours (hrs/day): double (nullable = true)\n",
            " |-- Productivity Score: double (nullable = true)\n",
            " |-- Mood Score: double (nullable = true)\n",
            " |-- Stress Level: double (nullable = true)\n",
            "\n"
          ]
        }
      ]
    },
    {
      "cell_type": "code",
      "source": [
        "df = spark.read.csv('/content/sleep_cycle_productivity.csv', header=True, sep=\",\", inferSchema=True)\n",
        "df.show(truncate=False)"
      ],
      "metadata": {
        "colab": {
          "base_uri": "https://localhost:8080/"
        },
        "id": "6w0Z-OG8jb0u",
        "outputId": "66d5c4bf-a0f0-4608-9874-b04d4b39f352"
      },
      "execution_count": null,
      "outputs": [
        {
          "output_type": "stream",
          "name": "stdout",
          "text": [
            "+----------+---------+---+------+----------------+--------------+-----------------+-------------+-------------------+--------------------+-----------------------------+--------------------+------------------+----------+------------+\n",
            "|Date      |Person_ID|Age|Gender|Sleep Start Time|Sleep End Time|Total Sleep Hours|Sleep Quality|Exercise (mins/day)|Caffeine Intake (mg)|Screen Time Before Bed (mins)|Work Hours (hrs/day)|Productivity Score|Mood Score|Stress Level|\n",
            "+----------+---------+---+------+----------------+--------------+-----------------+-------------+-------------------+--------------------+-----------------------------+--------------------+------------------+----------+------------+\n",
            "|2024-04-12|1860     |32 |Other |23.33           |4.61          |5.28             |3            |86                 |87                  |116                          |8.80892009394567    |8                 |3         |6           |\n",
            "|2024-11-04|1769     |41 |Female|21.02           |2.43          |5.41             |5            |32                 |21                  |88                           |6.329833121584335   |10                |3         |7           |\n",
            "|2024-08-31|2528     |20 |Male  |22.1            |3.45          |5.35             |7            |17                 |88                  |59                           |8.506305742764315   |10                |9         |10          |\n",
            "|2024-02-22|8041     |37 |Other |23.1            |6.65          |7.55             |8            |46                 |34                  |80                           |6.070239852800135   |8                 |4         |2           |\n",
            "|2024-02-23|4843     |46 |Other |21.42           |4.17          |6.75             |10           |61                 |269                 |94                           |11.374993880184935  |8                 |7         |9           |\n",
            "|2024-07-08|7439     |38 |Male  |21.77           |6.41          |8.64             |10           |88                 |251                 |123                          |6.207993456180347   |1                 |9         |7           |\n",
            "|2024-01-09|6463     |18 |Other |22.83           |6.87          |8.03             |3            |34                 |288                 |122                          |4.592357213872723   |7                 |10        |9           |\n",
            "|2024-01-28|7278     |26 |Female|20.78           |3.14          |6.35             |8            |36                 |98                  |171                          |9.100459770841706   |3                 |1         |3           |\n",
            "|2024-04-10|9110     |31 |Other |20.07           |3.37          |7.31             |7            |26                 |206                 |14                           |4.887126566494651   |3                 |7         |1           |\n",
            "|2024-02-21|6116     |49 |Female|20.37           |3.89          |7.52             |4            |12                 |159                 |70                           |6.318011623310144   |6                 |2         |10          |\n",
            "|2024-02-14|3693     |45 |Female|21.17           |3.29          |6.12             |7            |88                 |230                 |128                          |5.8234813003355335  |9                 |4         |9           |\n",
            "|2024-09-15|8526     |23 |Other |20.6            |4.56          |7.96             |10           |43                 |151                 |58                           |6.585623456166042   |8                 |9         |4           |\n",
            "|2024-04-22|2853     |29 |Female|22.02           |6.08          |8.06             |5            |55                 |80                  |112                          |11.812919646661223  |6                 |7         |5           |\n",
            "|2024-08-11|8392     |18 |Other |21.02           |4.17          |7.15             |10           |31                 |197                 |159                          |8.741573791035147   |7                 |8         |1           |\n",
            "|2024-09-11|5389     |41 |Male  |23.55           |7.22          |7.67             |1            |72                 |123                 |69                           |9.566502454327054   |3                 |4         |4           |\n",
            "|2024-12-11|2986     |36 |Other |23.67           |7.62          |7.95             |7            |81                 |128                 |10                           |6.728530808402068   |9                 |2         |7           |\n",
            "|2024-10-24|1262     |33 |Female|23.93           |7.02          |7.08             |1            |1                  |253                 |139                          |8.46634762885678    |7                 |9         |9           |\n",
            "|2024-04-08|3255     |20 |Female|23.53           |7.24          |7.71             |1            |71                 |103                 |83                           |8.645492971491638   |9                 |3         |9           |\n",
            "|2024-12-14|3961     |35 |Female|21.57           |5.33          |7.76             |9            |32                 |67                  |32                           |7.951149721467477   |4                 |8         |8           |\n",
            "|2024-05-14|2218     |34 |Male  |23.18           |6.23          |7.04             |6            |21                 |237                 |157                          |11.784084438019566  |3                 |6         |8           |\n",
            "+----------+---------+---+------+----------------+--------------+-----------------+-------------+-------------------+--------------------+-----------------------------+--------------------+------------------+----------+------------+\n",
            "only showing top 20 rows\n",
            "\n"
          ]
        }
      ]
    },
    {
      "cell_type": "markdown",
      "source": [
        "# DataFrame Operations on Columns"
      ],
      "metadata": {
        "id": "s2HFUmytjoWy"
      }
    },
    {
      "cell_type": "code",
      "source": [
        "print(df['Total Sleep Hours'])\n",
        "print(\"*\"*20)\n",
        "df.select(df['Total Sleep Hours']).show(truncate=False)"
      ],
      "metadata": {
        "colab": {
          "base_uri": "https://localhost:8080/"
        },
        "id": "WrDxggRdjpZD",
        "outputId": "16cf0362-f418-4521-f61d-b0b4ff95197e"
      },
      "execution_count": null,
      "outputs": [
        {
          "output_type": "stream",
          "name": "stdout",
          "text": [
            "Column<'Total Sleep Hours'>\n",
            "********************\n",
            "+-----------------+\n",
            "|Total Sleep Hours|\n",
            "+-----------------+\n",
            "|5.28             |\n",
            "|5.41             |\n",
            "|5.35             |\n",
            "|7.55             |\n",
            "|6.75             |\n",
            "|8.64             |\n",
            "|8.03             |\n",
            "|6.35             |\n",
            "|7.31             |\n",
            "|7.52             |\n",
            "|6.12             |\n",
            "|7.96             |\n",
            "|8.06             |\n",
            "|7.15             |\n",
            "|7.67             |\n",
            "|7.95             |\n",
            "|7.08             |\n",
            "|7.71             |\n",
            "|7.76             |\n",
            "|7.04             |\n",
            "+-----------------+\n",
            "only showing top 20 rows\n",
            "\n"
          ]
        }
      ]
    },
    {
      "cell_type": "code",
      "source": [
        "# 3rd method\n",
        "# Column name is case insensitive here\n",
        "from pyspark.sql.functions import col\n",
        "df.select(col('Total Sleep Hours')).show(truncate=False)"
      ],
      "metadata": {
        "colab": {
          "base_uri": "https://localhost:8080/"
        },
        "id": "1qZ1MCnikXOd",
        "outputId": "3f4ce991-6166-4e43-ba03-ef92abb24978"
      },
      "execution_count": null,
      "outputs": [
        {
          "output_type": "stream",
          "name": "stdout",
          "text": [
            "+-----------------+\n",
            "|Total Sleep Hours|\n",
            "+-----------------+\n",
            "|5.28             |\n",
            "|5.41             |\n",
            "|5.35             |\n",
            "|7.55             |\n",
            "|6.75             |\n",
            "|8.64             |\n",
            "|8.03             |\n",
            "|6.35             |\n",
            "|7.31             |\n",
            "|7.52             |\n",
            "|6.12             |\n",
            "|7.96             |\n",
            "|8.06             |\n",
            "|7.15             |\n",
            "|7.67             |\n",
            "|7.95             |\n",
            "|7.08             |\n",
            "|7.71             |\n",
            "|7.76             |\n",
            "|7.04             |\n",
            "+-----------------+\n",
            "only showing top 20 rows\n",
            "\n"
          ]
        }
      ]
    },
    {
      "cell_type": "markdown",
      "source": [
        "### Selecting Multiple Columns"
      ],
      "metadata": {
        "id": "YG8TAGoWsoaT"
      }
    },
    {
      "cell_type": "code",
      "source": [
        "print(df['Total Sleep Hours'], df['Sleep Quality'])\n",
        "print(\"*\"*40)\n",
        "df.select(df['Total Sleep Hours'], df['Sleep Quality']).show(truncate=False)"
      ],
      "metadata": {
        "colab": {
          "base_uri": "https://localhost:8080/"
        },
        "id": "oQJfnDJKtQq8",
        "outputId": "a1838d91-18e0-4dfe-d58c-791788d3eeed"
      },
      "execution_count": null,
      "outputs": [
        {
          "output_type": "stream",
          "name": "stdout",
          "text": [
            "Column<'Total Sleep Hours'> Column<'Sleep Quality'>\n",
            "****************************************\n",
            "+-----------------+-------------+\n",
            "|Total Sleep Hours|Sleep Quality|\n",
            "+-----------------+-------------+\n",
            "|5.28             |3            |\n",
            "|5.41             |5            |\n",
            "|5.35             |7            |\n",
            "|7.55             |8            |\n",
            "|6.75             |10           |\n",
            "|8.64             |10           |\n",
            "|8.03             |3            |\n",
            "|6.35             |8            |\n",
            "|7.31             |7            |\n",
            "|7.52             |4            |\n",
            "|6.12             |7            |\n",
            "|7.96             |10           |\n",
            "|8.06             |5            |\n",
            "|7.15             |10           |\n",
            "|7.67             |1            |\n",
            "|7.95             |7            |\n",
            "|7.08             |1            |\n",
            "|7.71             |1            |\n",
            "|7.76             |9            |\n",
            "|7.04             |6            |\n",
            "+-----------------+-------------+\n",
            "only showing top 20 rows\n",
            "\n"
          ]
        }
      ]
    },
    {
      "cell_type": "code",
      "source": [
        "from pyspark.sql.functions import col\n",
        "df.select(col('Total Sleep Hours'),col('Sleep Quality')).show(truncate=False)"
      ],
      "metadata": {
        "colab": {
          "base_uri": "https://localhost:8080/"
        },
        "id": "Jk_NMaCxuKaA",
        "outputId": "be9fa801-0afc-479e-ff67-b0cf01987a1a"
      },
      "execution_count": null,
      "outputs": [
        {
          "output_type": "stream",
          "name": "stdout",
          "text": [
            "+-----------------+-------------+\n",
            "|Total Sleep Hours|Sleep Quality|\n",
            "+-----------------+-------------+\n",
            "|5.28             |3            |\n",
            "|5.41             |5            |\n",
            "|5.35             |7            |\n",
            "|7.55             |8            |\n",
            "|6.75             |10           |\n",
            "|8.64             |10           |\n",
            "|8.03             |3            |\n",
            "|6.35             |8            |\n",
            "|7.31             |7            |\n",
            "|7.52             |4            |\n",
            "|6.12             |7            |\n",
            "|7.96             |10           |\n",
            "|8.06             |5            |\n",
            "|7.15             |10           |\n",
            "|7.67             |1            |\n",
            "|7.95             |7            |\n",
            "|7.08             |1            |\n",
            "|7.71             |1            |\n",
            "|7.76             |9            |\n",
            "|7.04             |6            |\n",
            "+-----------------+-------------+\n",
            "only showing top 20 rows\n",
            "\n"
          ]
        }
      ]
    },
    {
      "cell_type": "markdown",
      "source": [
        "### Adding New Columns"
      ],
      "metadata": {
        "id": "9oPBJhZtuR8W"
      }
    },
    {
      "cell_type": "code",
      "source": [
        "# CASE 1: Adding a new column\n",
        "# We will add a new column called 'first_column' at the end\n",
        "from pyspark.sql.functions import lit\n",
        "df = df.withColumn('first_column',lit(1))\n",
        "# lit means literal. It populates the row with the literal value given.\n",
        "# When adding static data / constant values, it is a good practice to use it.\n",
        "df.show(5,truncate=False)"
      ],
      "metadata": {
        "colab": {
          "base_uri": "https://localhost:8080/"
        },
        "id": "kJb5LpI1uX6q",
        "outputId": "d3523837-4f03-431e-b6f4-c166f8e041f5"
      },
      "execution_count": null,
      "outputs": [
        {
          "output_type": "stream",
          "name": "stdout",
          "text": [
            "+----------+---------+---+------+----------------+--------------+-----------------+-------------+-------------------+--------------------+-----------------------------+--------------------+------------------+----------+------------+------------+\n",
            "|Date      |Person_ID|Age|Gender|Sleep Start Time|Sleep End Time|Total Sleep Hours|Sleep Quality|Exercise (mins/day)|Caffeine Intake (mg)|Screen Time Before Bed (mins)|Work Hours (hrs/day)|Productivity Score|Mood Score|Stress Level|first_column|\n",
            "+----------+---------+---+------+----------------+--------------+-----------------+-------------+-------------------+--------------------+-----------------------------+--------------------+------------------+----------+------------+------------+\n",
            "|2024-04-12|1860     |32 |Other |23.33           |4.61          |5.28             |3            |86                 |87                  |116                          |8.80892009394567    |8                 |3         |6           |1           |\n",
            "|2024-11-04|1769     |41 |Female|21.02           |2.43          |5.41             |5            |32                 |21                  |88                           |6.329833121584335   |10                |3         |7           |1           |\n",
            "|2024-08-31|2528     |20 |Male  |22.1            |3.45          |5.35             |7            |17                 |88                  |59                           |8.506305742764315   |10                |9         |10          |1           |\n",
            "|2024-02-22|8041     |37 |Other |23.1            |6.65          |7.55             |8            |46                 |34                  |80                           |6.070239852800135   |8                 |4         |2           |1           |\n",
            "|2024-02-23|4843     |46 |Other |21.42           |4.17          |6.75             |10           |61                 |269                 |94                           |11.374993880184935  |8                 |7         |9           |1           |\n",
            "+----------+---------+---+------+----------------+--------------+-----------------+-------------+-------------------+--------------------+-----------------------------+--------------------+------------------+----------+------------+------------+\n",
            "only showing top 5 rows\n",
            "\n"
          ]
        }
      ]
    },
    {
      "cell_type": "code",
      "source": [
        "# CASE 2: Adding multiple columns\n",
        "# We will add two new columns called 'second_column' and 'third_column' at the end\n",
        "df = df.withColumn('second_column', lit(2)) \\\n",
        "       .withColumn('third_column', lit('Third Column'))\n",
        "# lit means literal. It populates the row with the literal value given.\n",
        "# When adding static data / constant values, it is a good practice to use it.\n",
        "df.show(5,truncate=False)"
      ],
      "metadata": {
        "colab": {
          "base_uri": "https://localhost:8080/"
        },
        "id": "EFmj0HFxurSy",
        "outputId": "6ed79d5e-b753-4a5c-a476-97f7e7194363"
      },
      "execution_count": null,
      "outputs": [
        {
          "output_type": "stream",
          "name": "stdout",
          "text": [
            "+----------+---------+---+------+----------------+--------------+-----------------+-------------+-------------------+--------------------+-----------------------------+--------------------+------------------+----------+------------+------------+-------------+------------+\n",
            "|Date      |Person_ID|Age|Gender|Sleep Start Time|Sleep End Time|Total Sleep Hours|Sleep Quality|Exercise (mins/day)|Caffeine Intake (mg)|Screen Time Before Bed (mins)|Work Hours (hrs/day)|Productivity Score|Mood Score|Stress Level|first_column|second_column|third_column|\n",
            "+----------+---------+---+------+----------------+--------------+-----------------+-------------+-------------------+--------------------+-----------------------------+--------------------+------------------+----------+------------+------------+-------------+------------+\n",
            "|2024-04-12|1860     |32 |Other |23.33           |4.61          |5.28             |3            |86                 |87                  |116                          |8.80892009394567    |8                 |3         |6           |1           |2            |Third Column|\n",
            "|2024-11-04|1769     |41 |Female|21.02           |2.43          |5.41             |5            |32                 |21                  |88                           |6.329833121584335   |10                |3         |7           |1           |2            |Third Column|\n",
            "|2024-08-31|2528     |20 |Male  |22.1            |3.45          |5.35             |7            |17                 |88                  |59                           |8.506305742764315   |10                |9         |10          |1           |2            |Third Column|\n",
            "|2024-02-22|8041     |37 |Other |23.1            |6.65          |7.55             |8            |46                 |34                  |80                           |6.070239852800135   |8                 |4         |2           |1           |2            |Third Column|\n",
            "|2024-02-23|4843     |46 |Other |21.42           |4.17          |6.75             |10           |61                 |269                 |94                           |11.374993880184935  |8                 |7         |9           |1           |2            |Third Column|\n",
            "+----------+---------+---+------+----------------+--------------+-----------------+-------------+-------------------+--------------------+-----------------------------+--------------------+------------------+----------+------------+------------+-------------+------------+\n",
            "only showing top 5 rows\n",
            "\n"
          ]
        }
      ]
    },
    {
      "cell_type": "code",
      "source": [
        "# CASE 3: Deriving a new column from an exisitng one\n",
        "# We will add a new column called 'car_model' which has the value of car and model appended together with a space in between\n",
        "from pyspark.sql.functions import concat\n",
        "df = df.withColumn('Age_Sleep Quality', concat(col(\"Age\"), lit(\" \"), col(\"Sleep Quality\")))\n",
        "# lit means literal. It populates the row with the literal value given.\n",
        "# When adding static data / constant values, it is a good practice to use it.\n",
        "df.show(5,truncate=False)"
      ],
      "metadata": {
        "colab": {
          "base_uri": "https://localhost:8080/"
        },
        "id": "6WgVgAIkuvEh",
        "outputId": "798d2134-e84e-4e15-c88b-8162fac13e5b"
      },
      "execution_count": null,
      "outputs": [
        {
          "output_type": "stream",
          "name": "stdout",
          "text": [
            "+----------+---------+---+------+----------------+--------------+-----------------+-------------+-------------------+--------------------+-----------------------------+--------------------+------------------+----------+------------+------------+-------------+------------+-----------------+\n",
            "|Date      |Person_ID|Age|Gender|Sleep Start Time|Sleep End Time|Total Sleep Hours|Sleep Quality|Exercise (mins/day)|Caffeine Intake (mg)|Screen Time Before Bed (mins)|Work Hours (hrs/day)|Productivity Score|Mood Score|Stress Level|first_column|second_column|third_column|Age_Sleep Quality|\n",
            "+----------+---------+---+------+----------------+--------------+-----------------+-------------+-------------------+--------------------+-----------------------------+--------------------+------------------+----------+------------+------------+-------------+------------+-----------------+\n",
            "|2024-04-12|1860     |32 |Other |23.33           |4.61          |5.28             |3            |86                 |87                  |116                          |8.80892009394567    |8                 |3         |6           |1           |2            |Third Column|32 3             |\n",
            "|2024-11-04|1769     |41 |Female|21.02           |2.43          |5.41             |5            |32                 |21                  |88                           |6.329833121584335   |10                |3         |7           |1           |2            |Third Column|41 5             |\n",
            "|2024-08-31|2528     |20 |Male  |22.1            |3.45          |5.35             |7            |17                 |88                  |59                           |8.506305742764315   |10                |9         |10          |1           |2            |Third Column|20 7             |\n",
            "|2024-02-22|8041     |37 |Other |23.1            |6.65          |7.55             |8            |46                 |34                  |80                           |6.070239852800135   |8                 |4         |2           |1           |2            |Third Column|37 8             |\n",
            "|2024-02-23|4843     |46 |Other |21.42           |4.17          |6.75             |10           |61                 |269                 |94                           |11.374993880184935  |8                 |7         |9           |1           |2            |Third Column|46 10            |\n",
            "+----------+---------+---+------+----------------+--------------+-----------------+-------------+-------------------+--------------------+-----------------------------+--------------------+------------------+----------+------------+------------+-------------+------------+-----------------+\n",
            "only showing top 5 rows\n",
            "\n"
          ]
        }
      ]
    },
    {
      "cell_type": "markdown",
      "source": [
        "### Renaming Columns"
      ],
      "metadata": {
        "id": "Vx51XD0SvJoF"
      }
    },
    {
      "cell_type": "code",
      "source": [
        "#Renaming a column in PySpark\n",
        "df = df.withColumnRenamed('first_column', 'new_column_one') \\\n",
        "       .withColumnRenamed('second_column', 'new_column_two') \\\n",
        "       .withColumnRenamed('third_column', 'new_column_three')\n",
        "df.show(truncate=False)"
      ],
      "metadata": {
        "colab": {
          "base_uri": "https://localhost:8080/"
        },
        "id": "LKpsGEmnvIsj",
        "outputId": "8a9e6fc5-c325-44ee-e410-2cd9aee04e2a"
      },
      "execution_count": null,
      "outputs": [
        {
          "output_type": "stream",
          "name": "stdout",
          "text": [
            "+----------+---------+---+------+----------------+--------------+-----------------+-------------+-------------------+--------------------+-----------------------------+--------------------+------------------+----------+------------+--------------+--------------+----------------+-----------------+\n",
            "|Date      |Person_ID|Age|Gender|Sleep Start Time|Sleep End Time|Total Sleep Hours|Sleep Quality|Exercise (mins/day)|Caffeine Intake (mg)|Screen Time Before Bed (mins)|Work Hours (hrs/day)|Productivity Score|Mood Score|Stress Level|new_column_one|new_column_two|new_column_three|Age_Sleep Quality|\n",
            "+----------+---------+---+------+----------------+--------------+-----------------+-------------+-------------------+--------------------+-----------------------------+--------------------+------------------+----------+------------+--------------+--------------+----------------+-----------------+\n",
            "|2024-04-12|1860     |32 |Other |23.33           |4.61          |5.28             |3            |86                 |87                  |116                          |8.80892009394567    |8                 |3         |6           |1             |2             |Third Column    |32 3             |\n",
            "|2024-11-04|1769     |41 |Female|21.02           |2.43          |5.41             |5            |32                 |21                  |88                           |6.329833121584335   |10                |3         |7           |1             |2             |Third Column    |41 5             |\n",
            "|2024-08-31|2528     |20 |Male  |22.1            |3.45          |5.35             |7            |17                 |88                  |59                           |8.506305742764315   |10                |9         |10          |1             |2             |Third Column    |20 7             |\n",
            "|2024-02-22|8041     |37 |Other |23.1            |6.65          |7.55             |8            |46                 |34                  |80                           |6.070239852800135   |8                 |4         |2           |1             |2             |Third Column    |37 8             |\n",
            "|2024-02-23|4843     |46 |Other |21.42           |4.17          |6.75             |10           |61                 |269                 |94                           |11.374993880184935  |8                 |7         |9           |1             |2             |Third Column    |46 10            |\n",
            "|2024-07-08|7439     |38 |Male  |21.77           |6.41          |8.64             |10           |88                 |251                 |123                          |6.207993456180347   |1                 |9         |7           |1             |2             |Third Column    |38 10            |\n",
            "|2024-01-09|6463     |18 |Other |22.83           |6.87          |8.03             |3            |34                 |288                 |122                          |4.592357213872723   |7                 |10        |9           |1             |2             |Third Column    |18 3             |\n",
            "|2024-01-28|7278     |26 |Female|20.78           |3.14          |6.35             |8            |36                 |98                  |171                          |9.100459770841706   |3                 |1         |3           |1             |2             |Third Column    |26 8             |\n",
            "|2024-04-10|9110     |31 |Other |20.07           |3.37          |7.31             |7            |26                 |206                 |14                           |4.887126566494651   |3                 |7         |1           |1             |2             |Third Column    |31 7             |\n",
            "|2024-02-21|6116     |49 |Female|20.37           |3.89          |7.52             |4            |12                 |159                 |70                           |6.318011623310144   |6                 |2         |10          |1             |2             |Third Column    |49 4             |\n",
            "|2024-02-14|3693     |45 |Female|21.17           |3.29          |6.12             |7            |88                 |230                 |128                          |5.8234813003355335  |9                 |4         |9           |1             |2             |Third Column    |45 7             |\n",
            "|2024-09-15|8526     |23 |Other |20.6            |4.56          |7.96             |10           |43                 |151                 |58                           |6.585623456166042   |8                 |9         |4           |1             |2             |Third Column    |23 10            |\n",
            "|2024-04-22|2853     |29 |Female|22.02           |6.08          |8.06             |5            |55                 |80                  |112                          |11.812919646661223  |6                 |7         |5           |1             |2             |Third Column    |29 5             |\n",
            "|2024-08-11|8392     |18 |Other |21.02           |4.17          |7.15             |10           |31                 |197                 |159                          |8.741573791035147   |7                 |8         |1           |1             |2             |Third Column    |18 10            |\n",
            "|2024-09-11|5389     |41 |Male  |23.55           |7.22          |7.67             |1            |72                 |123                 |69                           |9.566502454327054   |3                 |4         |4           |1             |2             |Third Column    |41 1             |\n",
            "|2024-12-11|2986     |36 |Other |23.67           |7.62          |7.95             |7            |81                 |128                 |10                           |6.728530808402068   |9                 |2         |7           |1             |2             |Third Column    |36 7             |\n",
            "|2024-10-24|1262     |33 |Female|23.93           |7.02          |7.08             |1            |1                  |253                 |139                          |8.46634762885678    |7                 |9         |9           |1             |2             |Third Column    |33 1             |\n",
            "|2024-04-08|3255     |20 |Female|23.53           |7.24          |7.71             |1            |71                 |103                 |83                           |8.645492971491638   |9                 |3         |9           |1             |2             |Third Column    |20 1             |\n",
            "|2024-12-14|3961     |35 |Female|21.57           |5.33          |7.76             |9            |32                 |67                  |32                           |7.951149721467477   |4                 |8         |8           |1             |2             |Third Column    |35 9             |\n",
            "|2024-05-14|2218     |34 |Male  |23.18           |6.23          |7.04             |6            |21                 |237                 |157                          |11.784084438019566  |3                 |6         |8           |1             |2             |Third Column    |34 6             |\n",
            "+----------+---------+---+------+----------------+--------------+-----------------+-------------+-------------------+--------------------+-----------------------------+--------------------+------------------+----------+------------+--------------+--------------+----------------+-----------------+\n",
            "only showing top 20 rows\n",
            "\n"
          ]
        }
      ]
    },
    {
      "cell_type": "markdown",
      "source": [
        "### Grouping By Columns"
      ],
      "metadata": {
        "id": "_RdpbOhRvgQs"
      }
    },
    {
      "cell_type": "code",
      "source": [
        "# Group By a column in PySpark\n",
        "df.groupBy('Sleep Quality').count().show(5)"
      ],
      "metadata": {
        "colab": {
          "base_uri": "https://localhost:8080/"
        },
        "id": "GSpoHzehvjEs",
        "outputId": "97a404ca-d4e9-4b4f-b906-c2ba19e1bf8c"
      },
      "execution_count": null,
      "outputs": [
        {
          "output_type": "stream",
          "name": "stdout",
          "text": [
            "+-------------+-----+\n",
            "|Sleep Quality|count|\n",
            "+-------------+-----+\n",
            "|            1|  480|\n",
            "|            6|  489|\n",
            "|            3|  490|\n",
            "|            5|  521|\n",
            "|            9|  480|\n",
            "+-------------+-----+\n",
            "only showing top 5 rows\n",
            "\n"
          ]
        }
      ]
    },
    {
      "cell_type": "code",
      "source": [
        "# Group By multiple columns in PySpark\n",
        "df.groupBy('Sleep Quality', 'Caffeine Intake (mg)').count().show(5)"
      ],
      "metadata": {
        "colab": {
          "base_uri": "https://localhost:8080/"
        },
        "id": "BdW8AYKEvuRH",
        "outputId": "7762b5f9-993f-4c22-bc82-484abc9d97d7"
      },
      "execution_count": null,
      "outputs": [
        {
          "output_type": "stream",
          "name": "stdout",
          "text": [
            "+-------------+--------------------+-----+\n",
            "|Sleep Quality|Caffeine Intake (mg)|count|\n",
            "+-------------+--------------------+-----+\n",
            "|            3|                  22|    1|\n",
            "|            3|                  57|    8|\n",
            "|            8|                 264|    2|\n",
            "|            7|                  55|    2|\n",
            "|            3|                  89|    2|\n",
            "+-------------+--------------------+-----+\n",
            "only showing top 5 rows\n",
            "\n"
          ]
        }
      ]
    },
    {
      "cell_type": "markdown",
      "source": [
        "### Removing Columns"
      ],
      "metadata": {
        "id": "FGueFCIqwj5t"
      }
    },
    {
      "cell_type": "code",
      "source": [
        "#Remove columns in PySpark\n",
        "df = df.drop('new_column_one')\n",
        "df.show(5,truncate=False)"
      ],
      "metadata": {
        "colab": {
          "base_uri": "https://localhost:8080/"
        },
        "id": "S1r_OOndwmU-",
        "outputId": "9ec09392-0eda-4a22-fe1b-d0177fc67676"
      },
      "execution_count": null,
      "outputs": [
        {
          "output_type": "stream",
          "name": "stdout",
          "text": [
            "+----------+---------+---+------+----------------+--------------+-----------------+-------------+-------------------+--------------------+-----------------------------+--------------------+------------------+----------+------------+--------------+----------------+-----------------+\n",
            "|Date      |Person_ID|Age|Gender|Sleep Start Time|Sleep End Time|Total Sleep Hours|Sleep Quality|Exercise (mins/day)|Caffeine Intake (mg)|Screen Time Before Bed (mins)|Work Hours (hrs/day)|Productivity Score|Mood Score|Stress Level|new_column_two|new_column_three|Age_Sleep Quality|\n",
            "+----------+---------+---+------+----------------+--------------+-----------------+-------------+-------------------+--------------------+-----------------------------+--------------------+------------------+----------+------------+--------------+----------------+-----------------+\n",
            "|2024-04-12|1860     |32 |Other |23.33           |4.61          |5.28             |3            |86                 |87                  |116                          |8.80892009394567    |8                 |3         |6           |2             |Third Column    |32 3             |\n",
            "|2024-11-04|1769     |41 |Female|21.02           |2.43          |5.41             |5            |32                 |21                  |88                           |6.329833121584335   |10                |3         |7           |2             |Third Column    |41 5             |\n",
            "|2024-08-31|2528     |20 |Male  |22.1            |3.45          |5.35             |7            |17                 |88                  |59                           |8.506305742764315   |10                |9         |10          |2             |Third Column    |20 7             |\n",
            "|2024-02-22|8041     |37 |Other |23.1            |6.65          |7.55             |8            |46                 |34                  |80                           |6.070239852800135   |8                 |4         |2           |2             |Third Column    |37 8             |\n",
            "|2024-02-23|4843     |46 |Other |21.42           |4.17          |6.75             |10           |61                 |269                 |94                           |11.374993880184935  |8                 |7         |9           |2             |Third Column    |46 10            |\n",
            "+----------+---------+---+------+----------------+--------------+-----------------+-------------+-------------------+--------------------+-----------------------------+--------------------+------------------+----------+------------+--------------+----------------+-----------------+\n",
            "only showing top 5 rows\n",
            "\n"
          ]
        }
      ]
    },
    {
      "cell_type": "code",
      "source": [
        "#Remove multiple columnss in one go\n",
        "df = df.drop('new_column_two') \\\n",
        "       .drop('new_column_three')\n",
        "df.show(5,truncate=False)"
      ],
      "metadata": {
        "colab": {
          "base_uri": "https://localhost:8080/"
        },
        "id": "R16rAbWfxnWo",
        "outputId": "0804b018-5f9a-4640-bd88-e5d4d244a1e9"
      },
      "execution_count": null,
      "outputs": [
        {
          "output_type": "stream",
          "name": "stdout",
          "text": [
            "+----------+---------+---+------+----------------+--------------+-----------------+-------------+-------------------+--------------------+-----------------------------+--------------------+------------------+----------+------------+-----------------+\n",
            "|Date      |Person_ID|Age|Gender|Sleep Start Time|Sleep End Time|Total Sleep Hours|Sleep Quality|Exercise (mins/day)|Caffeine Intake (mg)|Screen Time Before Bed (mins)|Work Hours (hrs/day)|Productivity Score|Mood Score|Stress Level|Age_Sleep Quality|\n",
            "+----------+---------+---+------+----------------+--------------+-----------------+-------------+-------------------+--------------------+-----------------------------+--------------------+------------------+----------+------------+-----------------+\n",
            "|2024-04-12|1860     |32 |Other |23.33           |4.61          |5.28             |3            |86                 |87                  |116                          |8.80892009394567    |8                 |3         |6           |32 3             |\n",
            "|2024-11-04|1769     |41 |Female|21.02           |2.43          |5.41             |5            |32                 |21                  |88                           |6.329833121584335   |10                |3         |7           |41 5             |\n",
            "|2024-08-31|2528     |20 |Male  |22.1            |3.45          |5.35             |7            |17                 |88                  |59                           |8.506305742764315   |10                |9         |10          |20 7             |\n",
            "|2024-02-22|8041     |37 |Other |23.1            |6.65          |7.55             |8            |46                 |34                  |80                           |6.070239852800135   |8                 |4         |2           |37 8             |\n",
            "|2024-02-23|4843     |46 |Other |21.42           |4.17          |6.75             |10           |61                 |269                 |94                           |11.374993880184935  |8                 |7         |9           |46 10            |\n",
            "+----------+---------+---+------+----------------+--------------+-----------------+-------------+-------------------+--------------------+-----------------------------+--------------------+------------------+----------+------------+-----------------+\n",
            "only showing top 5 rows\n",
            "\n"
          ]
        }
      ]
    },
    {
      "cell_type": "markdown",
      "source": [
        "## DataFrame Operations on Rows"
      ],
      "metadata": {
        "id": "U3SXb2vTxsU-"
      }
    },
    {
      "cell_type": "markdown",
      "source": [
        "We will discuss the follwoing in this section:\n",
        "\n",
        "1.   Filtering Rows\n",
        "2. \t Get Distinct Rows\n",
        "3.   Sorting Rows\n",
        "4.   Union Dataframes"
      ],
      "metadata": {
        "id": "vDgYSBR7yb-F"
      }
    },
    {
      "cell_type": "markdown",
      "source": [
        "### Filtering Rows"
      ],
      "metadata": {
        "id": "jfNvueUHyjwj"
      }
    },
    {
      "cell_type": "code",
      "source": [
        "# Filtering rows in PySpark\n",
        "total_count = df.count()\n",
        "print(\"TOTAL RECORD COUNT: \" + str(total_count))\n",
        "exercise_filtered_count = df.filter(col('Exercise (mins/day)')>=30).count()\n",
        "print(\"EXERCISE FILTERED RECORD COUNT: \" + str(exercise_filtered_count))\n",
        "df.filter(col('Exercise (mins/day)')>=30).show(truncate=False)"
      ],
      "metadata": {
        "colab": {
          "base_uri": "https://localhost:8080/"
        },
        "id": "R8ZKFN2hyoTP",
        "outputId": "bc31cde3-d2ec-453b-b265-09f39b303cc3"
      },
      "execution_count": null,
      "outputs": [
        {
          "output_type": "stream",
          "name": "stdout",
          "text": [
            "TOTAL RECORD COUNT: 5000\n",
            "EXERCISE FILTERED RECORD COUNT: 3280\n",
            "+----------+---------+---+------+----------------+--------------+-----------------+-------------+-------------------+--------------------+-----------------------------+--------------------+------------------+----------+------------+-----------------+\n",
            "|Date      |Person_ID|Age|Gender|Sleep Start Time|Sleep End Time|Total Sleep Hours|Sleep Quality|Exercise (mins/day)|Caffeine Intake (mg)|Screen Time Before Bed (mins)|Work Hours (hrs/day)|Productivity Score|Mood Score|Stress Level|Age_Sleep Quality|\n",
            "+----------+---------+---+------+----------------+--------------+-----------------+-------------+-------------------+--------------------+-----------------------------+--------------------+------------------+----------+------------+-----------------+\n",
            "|2024-04-12|1860     |32 |Other |23.33           |4.61          |5.28             |3            |86                 |87                  |116                          |8.80892009394567    |8                 |3         |6           |32 3             |\n",
            "|2024-11-04|1769     |41 |Female|21.02           |2.43          |5.41             |5            |32                 |21                  |88                           |6.329833121584335   |10                |3         |7           |41 5             |\n",
            "|2024-02-22|8041     |37 |Other |23.1            |6.65          |7.55             |8            |46                 |34                  |80                           |6.070239852800135   |8                 |4         |2           |37 8             |\n",
            "|2024-02-23|4843     |46 |Other |21.42           |4.17          |6.75             |10           |61                 |269                 |94                           |11.374993880184935  |8                 |7         |9           |46 10            |\n",
            "|2024-07-08|7439     |38 |Male  |21.77           |6.41          |8.64             |10           |88                 |251                 |123                          |6.207993456180347   |1                 |9         |7           |38 10            |\n",
            "|2024-01-09|6463     |18 |Other |22.83           |6.87          |8.03             |3            |34                 |288                 |122                          |4.592357213872723   |7                 |10        |9           |18 3             |\n",
            "|2024-01-28|7278     |26 |Female|20.78           |3.14          |6.35             |8            |36                 |98                  |171                          |9.100459770841706   |3                 |1         |3           |26 8             |\n",
            "|2024-02-14|3693     |45 |Female|21.17           |3.29          |6.12             |7            |88                 |230                 |128                          |5.8234813003355335  |9                 |4         |9           |45 7             |\n",
            "|2024-09-15|8526     |23 |Other |20.6            |4.56          |7.96             |10           |43                 |151                 |58                           |6.585623456166042   |8                 |9         |4           |23 10            |\n",
            "|2024-04-22|2853     |29 |Female|22.02           |6.08          |8.06             |5            |55                 |80                  |112                          |11.812919646661223  |6                 |7         |5           |29 5             |\n",
            "|2024-08-11|8392     |18 |Other |21.02           |4.17          |7.15             |10           |31                 |197                 |159                          |8.741573791035147   |7                 |8         |1           |18 10            |\n",
            "|2024-09-11|5389     |41 |Male  |23.55           |7.22          |7.67             |1            |72                 |123                 |69                           |9.566502454327054   |3                 |4         |4           |41 1             |\n",
            "|2024-12-11|2986     |36 |Other |23.67           |7.62          |7.95             |7            |81                 |128                 |10                           |6.728530808402068   |9                 |2         |7           |36 7             |\n",
            "|2024-04-08|3255     |20 |Female|23.53           |7.24          |7.71             |1            |71                 |103                 |83                           |8.645492971491638   |9                 |3         |9           |20 1             |\n",
            "|2024-12-14|3961     |35 |Female|21.57           |5.33          |7.76             |9            |32                 |67                  |32                           |7.951149721467477   |4                 |8         |8           |35 9             |\n",
            "|2024-10-09|1225     |38 |Female|20.45           |4.29          |7.84             |1            |68                 |146                 |3                            |4.194527731451631   |1                 |1         |5           |38 1             |\n",
            "|2024-01-06|2060     |41 |Male  |20.75           |6.08          |9.33             |3            |59                 |115                 |159                          |10.809093372134855  |3                 |2         |9           |41 3             |\n",
            "|2024-11-16|7655     |33 |Female|23.83           |6.02          |6.19             |2            |65                 |287                 |85                           |6.625221339797855   |10                |6         |10          |33 2             |\n",
            "|2024-08-24|4343     |56 |Other |20.35           |4.5           |8.15             |3            |75                 |153                 |143                          |5.269171581139928   |6                 |9         |5           |56 3             |\n",
            "|2024-02-16|3141     |22 |Female|21.78           |6.32          |8.53             |4            |32                 |253                 |100                          |7.1880378751789875  |10                |6         |5           |22 4             |\n",
            "+----------+---------+---+------+----------------+--------------+-----------------+-------------+-------------------+--------------------+-----------------------------+--------------------+------------------+----------+------------+-----------------+\n",
            "only showing top 20 rows\n",
            "\n"
          ]
        }
      ]
    },
    {
      "cell_type": "code",
      "source": [
        "# Filtering rows in PySpark based on Multiple conditions\n",
        "total_count = df.count()\n",
        "print(\"TOTAL RECORD COUNT: \" + str(total_count))\n",
        "exercise_filtered_count = df.filter((col('Exercise (mins/day)')>=30) &\n",
        "                                  (col('Sleep Quality')>=5)).count() # Two conditions added here\n",
        "print(\"EUROPE FILTERED RECORD COUNT: \" + str(exercise_filtered_count))\n",
        "df.filter(col('Exercise (mins/day)')>=30).show(truncate=False)"
      ],
      "metadata": {
        "colab": {
          "base_uri": "https://localhost:8080/"
        },
        "id": "Snh_tLTAzsn-",
        "outputId": "a0de6a51-d528-49f6-fbe4-daa153e3c439"
      },
      "execution_count": null,
      "outputs": [
        {
          "output_type": "stream",
          "name": "stdout",
          "text": [
            "TOTAL RECORD COUNT: 5000\n",
            "EUROPE FILTERED RECORD COUNT: 1988\n",
            "+----------+---------+---+------+----------------+--------------+-----------------+-------------+-------------------+--------------------+-----------------------------+--------------------+------------------+----------+------------+-----------------+\n",
            "|Date      |Person_ID|Age|Gender|Sleep Start Time|Sleep End Time|Total Sleep Hours|Sleep Quality|Exercise (mins/day)|Caffeine Intake (mg)|Screen Time Before Bed (mins)|Work Hours (hrs/day)|Productivity Score|Mood Score|Stress Level|Age_Sleep Quality|\n",
            "+----------+---------+---+------+----------------+--------------+-----------------+-------------+-------------------+--------------------+-----------------------------+--------------------+------------------+----------+------------+-----------------+\n",
            "|2024-04-12|1860     |32 |Other |23.33           |4.61          |5.28             |3            |86                 |87                  |116                          |8.80892009394567    |8                 |3         |6           |32 3             |\n",
            "|2024-11-04|1769     |41 |Female|21.02           |2.43          |5.41             |5            |32                 |21                  |88                           |6.329833121584335   |10                |3         |7           |41 5             |\n",
            "|2024-02-22|8041     |37 |Other |23.1            |6.65          |7.55             |8            |46                 |34                  |80                           |6.070239852800135   |8                 |4         |2           |37 8             |\n",
            "|2024-02-23|4843     |46 |Other |21.42           |4.17          |6.75             |10           |61                 |269                 |94                           |11.374993880184935  |8                 |7         |9           |46 10            |\n",
            "|2024-07-08|7439     |38 |Male  |21.77           |6.41          |8.64             |10           |88                 |251                 |123                          |6.207993456180347   |1                 |9         |7           |38 10            |\n",
            "|2024-01-09|6463     |18 |Other |22.83           |6.87          |8.03             |3            |34                 |288                 |122                          |4.592357213872723   |7                 |10        |9           |18 3             |\n",
            "|2024-01-28|7278     |26 |Female|20.78           |3.14          |6.35             |8            |36                 |98                  |171                          |9.100459770841706   |3                 |1         |3           |26 8             |\n",
            "|2024-02-14|3693     |45 |Female|21.17           |3.29          |6.12             |7            |88                 |230                 |128                          |5.8234813003355335  |9                 |4         |9           |45 7             |\n",
            "|2024-09-15|8526     |23 |Other |20.6            |4.56          |7.96             |10           |43                 |151                 |58                           |6.585623456166042   |8                 |9         |4           |23 10            |\n",
            "|2024-04-22|2853     |29 |Female|22.02           |6.08          |8.06             |5            |55                 |80                  |112                          |11.812919646661223  |6                 |7         |5           |29 5             |\n",
            "|2024-08-11|8392     |18 |Other |21.02           |4.17          |7.15             |10           |31                 |197                 |159                          |8.741573791035147   |7                 |8         |1           |18 10            |\n",
            "|2024-09-11|5389     |41 |Male  |23.55           |7.22          |7.67             |1            |72                 |123                 |69                           |9.566502454327054   |3                 |4         |4           |41 1             |\n",
            "|2024-12-11|2986     |36 |Other |23.67           |7.62          |7.95             |7            |81                 |128                 |10                           |6.728530808402068   |9                 |2         |7           |36 7             |\n",
            "|2024-04-08|3255     |20 |Female|23.53           |7.24          |7.71             |1            |71                 |103                 |83                           |8.645492971491638   |9                 |3         |9           |20 1             |\n",
            "|2024-12-14|3961     |35 |Female|21.57           |5.33          |7.76             |9            |32                 |67                  |32                           |7.951149721467477   |4                 |8         |8           |35 9             |\n",
            "|2024-10-09|1225     |38 |Female|20.45           |4.29          |7.84             |1            |68                 |146                 |3                            |4.194527731451631   |1                 |1         |5           |38 1             |\n",
            "|2024-01-06|2060     |41 |Male  |20.75           |6.08          |9.33             |3            |59                 |115                 |159                          |10.809093372134855  |3                 |2         |9           |41 3             |\n",
            "|2024-11-16|7655     |33 |Female|23.83           |6.02          |6.19             |2            |65                 |287                 |85                           |6.625221339797855   |10                |6         |10          |33 2             |\n",
            "|2024-08-24|4343     |56 |Other |20.35           |4.5           |8.15             |3            |75                 |153                 |143                          |5.269171581139928   |6                 |9         |5           |56 3             |\n",
            "|2024-02-16|3141     |22 |Female|21.78           |6.32          |8.53             |4            |32                 |253                 |100                          |7.1880378751789875  |10                |6         |5           |22 4             |\n",
            "+----------+---------+---+------+----------------+--------------+-----------------+-------------+-------------------+--------------------+-----------------------------+--------------------+------------------+----------+------------+-----------------+\n",
            "only showing top 20 rows\n",
            "\n"
          ]
        }
      ]
    },
    {
      "cell_type": "markdown",
      "source": [
        "### Get Distinct Rows"
      ],
      "metadata": {
        "id": "eygXtn0w0bGE"
      }
    },
    {
      "cell_type": "code",
      "source": [
        "#Get Unique Rows in PySpark\n",
        "df.select('Exercise (mins/day)').distinct().show()"
      ],
      "metadata": {
        "colab": {
          "base_uri": "https://localhost:8080/"
        },
        "id": "9Sr79N9W0dyX",
        "outputId": "890fb4e0-9ccb-4eaa-d12d-ee710c66fab3"
      },
      "execution_count": null,
      "outputs": [
        {
          "output_type": "stream",
          "name": "stdout",
          "text": [
            "+-------------------+\n",
            "|Exercise (mins/day)|\n",
            "+-------------------+\n",
            "|                 31|\n",
            "|                 85|\n",
            "|                 65|\n",
            "|                 53|\n",
            "|                 78|\n",
            "|                 34|\n",
            "|                 81|\n",
            "|                 28|\n",
            "|                 76|\n",
            "|                 26|\n",
            "|                 27|\n",
            "|                 44|\n",
            "|                 12|\n",
            "|                 22|\n",
            "|                 47|\n",
            "|                  1|\n",
            "|                 52|\n",
            "|                 13|\n",
            "|                 86|\n",
            "|                  6|\n",
            "+-------------------+\n",
            "only showing top 20 rows\n",
            "\n"
          ]
        }
      ]
    },
    {
      "cell_type": "code",
      "source": [
        "#Get Unique Rows in PySpark based on mutliple columns\n",
        "df.select('Exercise (mins/day)','Sleep Quality').distinct().show()"
      ],
      "metadata": {
        "colab": {
          "base_uri": "https://localhost:8080/"
        },
        "id": "Thel80aW03eA",
        "outputId": "96b01afd-98bb-48cf-edc7-44ec25a0be28"
      },
      "execution_count": null,
      "outputs": [
        {
          "output_type": "stream",
          "name": "stdout",
          "text": [
            "+-------------------+-------------+\n",
            "|Exercise (mins/day)|Sleep Quality|\n",
            "+-------------------+-------------+\n",
            "|                 79|           10|\n",
            "|                 71|            4|\n",
            "|                 43|            7|\n",
            "|                 86|           10|\n",
            "|                 33|            8|\n",
            "|                 59|            7|\n",
            "|                 62|            1|\n",
            "|                 41|            3|\n",
            "|                 48|            6|\n",
            "|                 10|            2|\n",
            "|                 23|            6|\n",
            "|                 69|            1|\n",
            "|                 34|            5|\n",
            "|                 16|            3|\n",
            "|                 83|            6|\n",
            "|                 17|            1|\n",
            "|                 27|            9|\n",
            "|                 17|            2|\n",
            "|                 73|            4|\n",
            "|                 13|           10|\n",
            "+-------------------+-------------+\n",
            "only showing top 20 rows\n",
            "\n"
          ]
        }
      ]
    },
    {
      "cell_type": "markdown",
      "source": [
        "### Sorting Rows"
      ],
      "metadata": {
        "id": "KS6XOf0W1C5T"
      }
    },
    {
      "cell_type": "code",
      "source": [
        "# Sort Rows in PySpark\n",
        "# By default the data will be sorted in ascending order\n",
        "df.orderBy('Exercise (mins/day)').show(truncate=False)"
      ],
      "metadata": {
        "colab": {
          "base_uri": "https://localhost:8080/"
        },
        "id": "Pr1J7qXJ1Ez3",
        "outputId": "3c5825df-72ea-4a72-c7b5-2aeabfe0406f"
      },
      "execution_count": null,
      "outputs": [
        {
          "output_type": "stream",
          "name": "stdout",
          "text": [
            "+----------+---------+---+------+----------------+--------------+-----------------+-------------+-------------------+--------------------+-----------------------------+--------------------+------------------+----------+------------+-----------------+\n",
            "|Date      |Person_ID|Age|Gender|Sleep Start Time|Sleep End Time|Total Sleep Hours|Sleep Quality|Exercise (mins/day)|Caffeine Intake (mg)|Screen Time Before Bed (mins)|Work Hours (hrs/day)|Productivity Score|Mood Score|Stress Level|Age_Sleep Quality|\n",
            "+----------+---------+---+------+----------------+--------------+-----------------+-------------+-------------------+--------------------+-----------------------------+--------------------+------------------+----------+------------+-----------------+\n",
            "|2024-08-31|1711     |31 |Other |20.35           |3.61          |7.26             |6            |0                  |19                  |163                          |9.090458180962525   |2                 |3         |7           |31 6             |\n",
            "|2024-11-19|6276     |55 |Male  |23.0            |8.09          |9.09             |3            |0                  |28                  |178                          |6.936652536071771   |9                 |3         |3           |55 3             |\n",
            "|2024-09-16|4206     |30 |Male  |22.27           |5.57          |7.31             |10           |0                  |137                 |102                          |11.139016916746398  |9                 |8         |3           |30 10            |\n",
            "|2024-11-17|1713     |37 |Male  |22.78           |4.69          |5.91             |4            |0                  |218                 |14                           |7.722502607262469   |6                 |2         |5           |37 4             |\n",
            "|2024-02-06|8840     |35 |Other |22.83           |7.22          |8.38             |6            |0                  |216                 |147                          |11.324750024141435  |6                 |6         |2           |35 6             |\n",
            "|2024-06-09|3560     |51 |Male  |23.7            |7.69          |7.99             |4            |0                  |70                  |177                          |10.975304490244044  |3                 |8         |8           |51 4             |\n",
            "|2024-09-12|2268     |42 |Male  |23.15           |4.12          |4.97             |3            |0                  |112                 |78                           |8.862095864147253   |5                 |2         |4           |42 3             |\n",
            "|2024-09-13|6732     |38 |Female|21.58           |2.71          |5.12             |9            |0                  |54                  |114                          |8.730203485959434   |5                 |9         |5           |38 9             |\n",
            "|2024-05-07|3264     |24 |Other |21.97           |5.93          |7.96             |10           |0                  |44                  |167                          |6.910666462721148   |8                 |7         |2           |24 10            |\n",
            "|2024-08-08|6462     |50 |Other |21.88           |7.17          |9.28             |7            |0                  |62                  |166                          |5.600130090126612   |9                 |8         |5           |50 7             |\n",
            "|2024-03-11|5794     |55 |Female|22.75           |7.75          |9.0              |7            |0                  |232                 |19                           |9.179504805112      |10                |8         |5           |55 7             |\n",
            "|2024-09-13|2720     |47 |Female|22.85           |6.26          |7.41             |7            |0                  |18                  |45                           |4.81257714915729    |8                 |5         |1           |47 7             |\n",
            "|2024-05-21|1266     |57 |Other |20.78           |5.17          |8.39             |10           |0                  |8                   |111                          |8.10721748260497    |1                 |8         |10          |57 10            |\n",
            "|2024-07-20|4980     |46 |Female|23.98           |4.83          |4.85             |6            |0                  |42                  |54                           |9.723873438195115   |2                 |2         |1           |46 6             |\n",
            "|2024-02-26|3505     |58 |Female|21.58           |4.68          |7.1              |8            |0                  |281                 |48                           |7.270964487628517   |7                 |2         |2           |58 8             |\n",
            "|2024-06-11|7909     |29 |Male  |23.22           |7.69          |8.47             |4            |0                  |192                 |21                           |11.507731700942106  |4                 |3         |9           |29 4             |\n",
            "|2024-01-27|1788     |56 |Female|21.87           |4.33          |6.46             |2            |0                  |3                   |3                            |6.3288392442173995  |7                 |2         |9           |56 2             |\n",
            "|2024-06-16|5797     |24 |Male  |22.62           |5.67          |7.05             |8            |0                  |207                 |30                           |4.059188225539036   |8                 |8         |7           |24 8             |\n",
            "|2024-11-12|4686     |41 |Female|23.97           |8.67          |8.7              |4            |0                  |203                 |148                          |4.4342674380526965  |3                 |4         |10          |41 4             |\n",
            "|2024-06-13|6178     |36 |Other |21.73           |4.59          |6.86             |2            |0                  |212                 |130                          |4.269840859661752   |7                 |1         |9           |36 2             |\n",
            "+----------+---------+---+------+----------------+--------------+-----------------+-------------+-------------------+--------------------+-----------------------------+--------------------+------------------+----------+------------+-----------------+\n",
            "only showing top 20 rows\n",
            "\n"
          ]
        }
      ]
    },
    {
      "cell_type": "code",
      "source": [
        "# To change the sorting order, you can use the ascending parameter\n",
        "df.orderBy('Exercise (mins/day)', ascending=False).show(truncate=False)"
      ],
      "metadata": {
        "colab": {
          "base_uri": "https://localhost:8080/"
        },
        "id": "XiqkMRcq1K_C",
        "outputId": "b4a2713a-995f-4370-caab-292bfdfb7993"
      },
      "execution_count": null,
      "outputs": [
        {
          "output_type": "stream",
          "name": "stdout",
          "text": [
            "+----------+---------+---+------+----------------+--------------+-----------------+-------------+-------------------+--------------------+-----------------------------+--------------------+------------------+----------+------------+-----------------+\n",
            "|Date      |Person_ID|Age|Gender|Sleep Start Time|Sleep End Time|Total Sleep Hours|Sleep Quality|Exercise (mins/day)|Caffeine Intake (mg)|Screen Time Before Bed (mins)|Work Hours (hrs/day)|Productivity Score|Mood Score|Stress Level|Age_Sleep Quality|\n",
            "+----------+---------+---+------+----------------+--------------+-----------------+-------------+-------------------+--------------------+-----------------------------+--------------------+------------------+----------+------------+-----------------+\n",
            "|2024-09-03|1984     |38 |Female|23.25           |5.21          |5.96             |2            |89                 |103                 |126                          |11.04540322170719   |9                 |8         |6           |38 2             |\n",
            "|2024-02-15|8505     |19 |Female|21.05           |6.43          |9.38             |9            |89                 |201                 |72                           |9.051988442045323   |1                 |7         |9           |19 9             |\n",
            "|2024-11-14|8268     |46 |Other |21.22           |2.04          |4.83             |3            |89                 |231                 |18                           |7.52804480744931    |2                 |7         |5           |46 3             |\n",
            "|2024-03-12|9650     |34 |Female|20.93           |4.31          |7.38             |7            |89                 |30                  |111                          |10.489300831033058  |8                 |7         |2           |34 7             |\n",
            "|2024-10-24|5349     |38 |Male  |22.98           |7.05          |8.07             |1            |89                 |52                  |143                          |4.815200199133115   |5                 |6         |7           |38 1             |\n",
            "|2024-10-15|4072     |36 |Other |23.22           |5.69          |6.47             |5            |89                 |219                 |62                           |11.817393473770538  |9                 |9         |9           |36 5             |\n",
            "|2024-02-25|8221     |34 |Female|21.62           |6.61          |8.99             |10           |89                 |242                 |97                           |8.482928087968661   |5                 |4         |6           |34 10            |\n",
            "|2024-11-23|1909     |59 |Male  |20.05           |3.42          |7.37             |1            |89                 |102                 |159                          |7.25458117918772    |2                 |3         |8           |59 1             |\n",
            "|2024-09-16|6781     |30 |Female|23.93           |8.09          |8.15             |4            |89                 |55                  |62                           |6.8333103073008745  |7                 |7         |10          |30 4             |\n",
            "|2024-02-28|8616     |57 |Other |21.17           |4.33          |7.16             |7            |89                 |204                 |122                          |9.985286611101484   |6                 |10        |9           |57 7             |\n",
            "|2024-03-15|1401     |34 |Other |22.12           |3.12          |5.0              |1            |89                 |4                   |131                          |7.700650279210943   |8                 |8         |3           |34 1             |\n",
            "|2024-03-19|1981     |51 |Female|22.65           |7.27          |8.62             |7            |89                 |205                 |57                           |9.218769980665105   |8                 |1         |7           |51 7             |\n",
            "|2024-05-20|7659     |40 |Female|21.67           |3.84          |6.17             |4            |89                 |255                 |160                          |10.199331099041107  |1                 |3         |3           |40 4             |\n",
            "|2024-04-25|5291     |53 |Other |20.4            |5.3           |8.9              |8            |89                 |155                 |59                           |5.493554379691297   |7                 |5         |7           |53 8             |\n",
            "|2024-11-29|6225     |59 |Other |20.23           |1.96          |5.73             |7            |89                 |56                  |51                           |8.676946813151101   |4                 |4         |2           |59 7             |\n",
            "|2024-06-21|7822     |18 |Female|22.75           |6.7           |7.95             |3            |89                 |178                 |57                           |10.503623869177648  |8                 |3         |3           |18 3             |\n",
            "|2024-05-14|3038     |55 |Other |23.47           |6.86          |7.4              |3            |89                 |147                 |109                          |6.937084466429706   |6                 |7         |5           |55 3             |\n",
            "|2024-12-24|9846     |36 |Female|21.52           |5.49          |7.97             |6            |89                 |26                  |27                           |6.68897228667719    |8                 |6         |9           |36 6             |\n",
            "|2024-05-31|4476     |59 |Other |22.55           |4.62          |6.07             |2            |89                 |138                 |176                          |7.708613017909376   |9                 |2         |9           |59 2             |\n",
            "|2024-10-05|2741     |35 |Male  |21.72           |3.6           |5.88             |7            |89                 |279                 |168                          |6.203251040477968   |7                 |2         |8           |35 7             |\n",
            "+----------+---------+---+------+----------------+--------------+-----------------+-------------+-------------------+--------------------+-----------------------------+--------------------+------------------+----------+------------+-----------------+\n",
            "only showing top 20 rows\n",
            "\n"
          ]
        }
      ]
    },
    {
      "cell_type": "code",
      "source": [
        "# Using groupBy aand orderBy together\n",
        "df.groupBy(\"Gender\").count().orderBy('count', ascending=False).show(10)"
      ],
      "metadata": {
        "colab": {
          "base_uri": "https://localhost:8080/"
        },
        "id": "AJTuHGru17Yx",
        "outputId": "ded796c0-e64a-4974-d1e7-0cb07cd90036"
      },
      "execution_count": null,
      "outputs": [
        {
          "output_type": "stream",
          "name": "stdout",
          "text": [
            "+------+-----+\n",
            "|Gender|count|\n",
            "+------+-----+\n",
            "|  Male| 1718|\n",
            "|Female| 1675|\n",
            "| Other| 1607|\n",
            "+------+-----+\n",
            "\n"
          ]
        }
      ]
    },
    {
      "cell_type": "markdown",
      "source": [
        "### Union Dataframes"
      ],
      "metadata": {
        "id": "7JjjuI8uWrwY"
      }
    },
    {
      "cell_type": "code",
      "source": [
        "# CASE 1: Union When columns are in order\n",
        "df = spark.read.csv('/content/sleep_cycle_productivity.csv', header=True, sep=\",\", inferSchema=True)\n",
        "male_caffeine = df.filter((col('Gender')=='Male') & (col('Caffeine Intake (mg)')>0))\n",
        "female_caffeine = df.filter((col('Gender')=='Female') & (col('Caffeine Intake (mg)')>0))\n",
        "print(\"MALE CAFFEINE: \"+str(male_caffeine.count()))\n",
        "print(\"FEMALE CAFFEINE: \"+str(female_caffeine.count()))\n",
        "print(\"MALE FEMALE CAFFEINE: \"+str(male_caffeine.union(female_caffeine).count()))"
      ],
      "metadata": {
        "colab": {
          "base_uri": "https://localhost:8080/"
        },
        "id": "0SZ9uGkHWxQR",
        "outputId": "a2768de6-e303-4d86-eee6-064b80714a82"
      },
      "execution_count": null,
      "outputs": [
        {
          "output_type": "stream",
          "name": "stdout",
          "text": [
            "MALE CAFFEINE: 1716\n",
            "FEMALE CAFFEINE: 1668\n",
            "MALE FEMALE CAFFEINE: 3384\n"
          ]
        }
      ]
    },
    {
      "cell_type": "code",
      "source": [
        "# CASE 1: Union When columns are not in order\n",
        "# Creating two dataframes with jumbled columns\n",
        "df1 = spark.createDataFrame([[1, 2, 3]], [\"col0\", \"col1\", \"col2\"])\n",
        "df2 = spark.createDataFrame([[4, 5, 6]], [\"col1\", \"col2\", \"col0\"])\n",
        "df1.unionByName(df2).show()"
      ],
      "metadata": {
        "colab": {
          "base_uri": "https://localhost:8080/"
        },
        "id": "d-LSIDKqeZmb",
        "outputId": "269a5c87-e3eb-4cec-f161-072739325f2f"
      },
      "execution_count": null,
      "outputs": [
        {
          "output_type": "stream",
          "name": "stdout",
          "text": [
            "+----+----+----+\n",
            "|col0|col1|col2|\n",
            "+----+----+----+\n",
            "|   1|   2|   3|\n",
            "|   6|   4|   5|\n",
            "+----+----+----+\n",
            "\n"
          ]
        }
      ]
    },
    {
      "cell_type": "markdown",
      "source": [
        "## Common Data Manipulation Functions"
      ],
      "metadata": {
        "id": "iBTAIPS3ejqJ"
      }
    },
    {
      "cell_type": "code",
      "source": [
        "# Functions available in PySpark\n",
        "from pyspark.sql import functions\n",
        "# Similar to python, we can use the dir function to view the avaiable functions\n",
        "print(dir(functions))"
      ],
      "metadata": {
        "colab": {
          "base_uri": "https://localhost:8080/"
        },
        "id": "7G5OpiuXel-1",
        "outputId": "4322b4e9-6978-41d9-ef06-0eda3f4b1f28"
      },
      "execution_count": null,
      "outputs": [
        {
          "output_type": "stream",
          "name": "stdout",
          "text": [
            "['Any', 'ArrayType', 'Callable', 'Column', 'DataFrame', 'DataType', 'Dict', 'Iterable', 'JVMView', 'List', 'Optional', 'PandasUDFType', 'PySparkTypeError', 'PySparkValueError', 'SparkContext', 'StringType', 'StructType', 'TYPE_CHECKING', 'Tuple', 'Type', 'Union', 'UserDefinedFunction', 'UserDefinedTableFunction', 'ValuesView', '__builtins__', '__cached__', '__doc__', '__file__', '__loader__', '__name__', '__package__', '__spec__', '_create_column_from_literal', '_create_lambda', '_create_py_udf', '_create_py_udtf', '_from_numpy_type', '_get_jvm_function', '_get_lambda_parameters', '_invoke_binary_math_function', '_invoke_function', '_invoke_function_over_columns', '_invoke_function_over_seq_of_columns', '_invoke_higher_order_function', '_options_to_str', '_test', '_to_java_column', '_to_seq', '_unresolved_named_lambda_variable', 'abs', 'acos', 'acosh', 'add_months', 'aes_decrypt', 'aes_encrypt', 'aggregate', 'any_value', 'approxCountDistinct', 'approx_count_distinct', 'approx_percentile', 'array', 'array_agg', 'array_append', 'array_compact', 'array_contains', 'array_distinct', 'array_except', 'array_insert', 'array_intersect', 'array_join', 'array_max', 'array_min', 'array_position', 'array_prepend', 'array_remove', 'array_repeat', 'array_size', 'array_sort', 'array_union', 'arrays_overlap', 'arrays_zip', 'asc', 'asc_nulls_first', 'asc_nulls_last', 'ascii', 'asin', 'asinh', 'assert_true', 'atan', 'atan2', 'atanh', 'avg', 'base64', 'bin', 'bit_and', 'bit_count', 'bit_get', 'bit_length', 'bit_or', 'bit_xor', 'bitmap_bit_position', 'bitmap_bucket_number', 'bitmap_construct_agg', 'bitmap_count', 'bitmap_or_agg', 'bitwiseNOT', 'bitwise_not', 'bool_and', 'bool_or', 'broadcast', 'bround', 'btrim', 'bucket', 'call_function', 'call_udf', 'cardinality', 'cast', 'cbrt', 'ceil', 'ceiling', 'char', 'char_length', 'character_length', 'coalesce', 'col', 'collect_list', 'collect_set', 'column', 'concat', 'concat_ws', 'contains', 'conv', 'convert_timezone', 'corr', 'cos', 'cosh', 'cot', 'count', 'countDistinct', 'count_distinct', 'count_if', 'count_min_sketch', 'covar_pop', 'covar_samp', 'crc32', 'create_map', 'csc', 'cume_dist', 'curdate', 'current_catalog', 'current_database', 'current_date', 'current_schema', 'current_timestamp', 'current_timezone', 'current_user', 'date_add', 'date_diff', 'date_format', 'date_from_unix_date', 'date_part', 'date_sub', 'date_trunc', 'dateadd', 'datediff', 'datepart', 'day', 'dayofmonth', 'dayofweek', 'dayofyear', 'days', 'decimal', 'decode', 'degrees', 'dense_rank', 'desc', 'desc_nulls_first', 'desc_nulls_last', 'e', 'element_at', 'elt', 'encode', 'endswith', 'equal_null', 'every', 'exists', 'exp', 'explode', 'explode_outer', 'expm1', 'expr', 'extract', 'factorial', 'filter', 'find_in_set', 'first', 'first_value', 'flatten', 'floor', 'forall', 'format_number', 'format_string', 'from_csv', 'from_json', 'from_unixtime', 'from_utc_timestamp', 'functools', 'get', 'get_active_spark_context', 'get_json_object', 'getbit', 'greatest', 'grouping', 'grouping_id', 'has_numpy', 'hash', 'hex', 'histogram_numeric', 'hll_sketch_agg', 'hll_sketch_estimate', 'hll_union', 'hll_union_agg', 'hour', 'hours', 'hypot', 'ifnull', 'ilike', 'initcap', 'inline', 'inline_outer', 'input_file_block_length', 'input_file_block_start', 'input_file_name', 'inspect', 'instr', 'isnan', 'isnotnull', 'isnull', 'java_method', 'json_array_length', 'json_object_keys', 'json_tuple', 'kurtosis', 'lag', 'last', 'last_day', 'last_value', 'lcase', 'lead', 'least', 'left', 'length', 'levenshtein', 'like', 'lit', 'ln', 'localtimestamp', 'locate', 'log', 'log10', 'log1p', 'log2', 'lower', 'lpad', 'ltrim', 'make_date', 'make_dt_interval', 'make_interval', 'make_timestamp', 'make_timestamp_ltz', 'make_timestamp_ntz', 'make_ym_interval', 'map_concat', 'map_contains_key', 'map_entries', 'map_filter', 'map_from_arrays', 'map_from_entries', 'map_keys', 'map_values', 'map_zip_with', 'mask', 'max', 'max_by', 'md5', 'mean', 'median', 'min', 'min_by', 'minute', 'mode', 'monotonically_increasing_id', 'month', 'months', 'months_between', 'named_struct', 'nanvl', 'negate', 'negative', 'next_day', 'now', 'np', 'nth_value', 'ntile', 'nullif', 'nvl', 'nvl2', 'octet_length', 'overlay', 'overload', 'pandas_udf', 'parse_url', 'percent_rank', 'percentile', 'percentile_approx', 'pi', 'pmod', 'posexplode', 'posexplode_outer', 'position', 'positive', 'pow', 'power', 'printf', 'product', 'quarter', 'radians', 'raise_error', 'rand', 'randn', 'rank', 'reduce', 'reflect', 'regexp', 'regexp_count', 'regexp_extract', 'regexp_extract_all', 'regexp_instr', 'regexp_like', 'regexp_replace', 'regexp_substr', 'regr_avgx', 'regr_avgy', 'regr_count', 'regr_intercept', 'regr_r2', 'regr_slope', 'regr_sxx', 'regr_sxy', 'regr_syy', 'repeat', 'replace', 'reverse', 'right', 'rint', 'rlike', 'round', 'row_number', 'rpad', 'rtrim', 'schema_of_csv', 'schema_of_json', 'sec', 'second', 'sentences', 'sequence', 'session_window', 'sha', 'sha1', 'sha2', 'shiftLeft', 'shiftRight', 'shiftRightUnsigned', 'shiftleft', 'shiftright', 'shiftrightunsigned', 'shuffle', 'sign', 'signum', 'sin', 'sinh', 'size', 'skewness', 'slice', 'some', 'sort_array', 'soundex', 'spark_partition_id', 'split', 'split_part', 'sqrt', 'stack', 'startswith', 'std', 'stddev', 'stddev_pop', 'stddev_samp', 'str_to_map', 'struct', 'substr', 'substring', 'substring_index', 'sum', 'sumDistinct', 'sum_distinct', 'sys', 'tan', 'tanh', 'timestamp_micros', 'timestamp_millis', 'timestamp_seconds', 'toDegrees', 'toRadians', 'to_binary', 'to_char', 'to_csv', 'to_date', 'to_json', 'to_number', 'to_str', 'to_timestamp', 'to_timestamp_ltz', 'to_timestamp_ntz', 'to_unix_timestamp', 'to_utc_timestamp', 'to_varchar', 'transform', 'transform_keys', 'transform_values', 'translate', 'trim', 'trunc', 'try_add', 'try_aes_decrypt', 'try_avg', 'try_divide', 'try_element_at', 'try_multiply', 'try_remote_functions', 'try_subtract', 'try_sum', 'try_to_binary', 'try_to_number', 'try_to_timestamp', 'typeof', 'ucase', 'udf', 'udtf', 'unbase64', 'unhex', 'unix_date', 'unix_micros', 'unix_millis', 'unix_seconds', 'unix_timestamp', 'unwrap_udt', 'upper', 'url_decode', 'url_encode', 'user', 'var_pop', 'var_samp', 'variance', 'version', 'warnings', 'weekday', 'weekofyear', 'when', 'width_bucket', 'window', 'window_time', 'xpath', 'xpath_boolean', 'xpath_double', 'xpath_float', 'xpath_int', 'xpath_long', 'xpath_number', 'xpath_short', 'xpath_string', 'xxhash64', 'year', 'years', 'zip_with']\n"
          ]
        }
      ]
    },
    {
      "cell_type": "markdown",
      "source": [
        "### String Functions"
      ],
      "metadata": {
        "id": "1KBQZXCaeqUh"
      }
    },
    {
      "cell_type": "code",
      "source": [
        "# Loading the data\n",
        "from pyspark.sql.functions import col\n",
        "df = spark.read.csv('/content/sleep_cycle_productivity.csv', header=True, sep=\",\", inferSchema=True)"
      ],
      "metadata": {
        "id": "UEMam8RTes5l"
      },
      "execution_count": null,
      "outputs": []
    },
    {
      "cell_type": "code",
      "source": [
        "from pyspark.sql.functions import col,lower, upper, substring\n",
        "# Prints out the details of a function\n",
        "help(substring)\n",
        "# alias is used to rename the column name in the output\n",
        "df.select(col('Gender'),lower(col('Gender')),upper(col('Gender')),substring(col('Gender'),1,4).alias(\"concatenated value\")).show(5, False)"
      ],
      "metadata": {
        "colab": {
          "base_uri": "https://localhost:8080/"
        },
        "id": "LqGg1QY0ezUq",
        "outputId": "596f5f54-16d6-43a6-9463-18db26b5584a"
      },
      "execution_count": null,
      "outputs": [
        {
          "output_type": "stream",
          "name": "stdout",
          "text": [
            "Help on function substring in module pyspark.sql.functions:\n",
            "\n",
            "substring(str: 'ColumnOrName', pos: int, len: int) -> pyspark.sql.column.Column\n",
            "    Substring starts at `pos` and is of length `len` when str is String type or\n",
            "    returns the slice of byte array that starts at `pos` in byte and is of length `len`\n",
            "    when str is Binary type.\n",
            "    \n",
            "    .. versionadded:: 1.5.0\n",
            "    \n",
            "    .. versionchanged:: 3.4.0\n",
            "        Supports Spark Connect.\n",
            "    \n",
            "    Notes\n",
            "    -----\n",
            "    The position is not zero based, but 1 based index.\n",
            "    \n",
            "    Parameters\n",
            "    ----------\n",
            "    str : :class:`~pyspark.sql.Column` or str\n",
            "        target column to work on.\n",
            "    pos : int\n",
            "        starting position in str.\n",
            "    len : int\n",
            "        length of chars.\n",
            "    \n",
            "    Returns\n",
            "    -------\n",
            "    :class:`~pyspark.sql.Column`\n",
            "        substring of given value.\n",
            "    \n",
            "    Examples\n",
            "    --------\n",
            "    >>> df = spark.createDataFrame([('abcd',)], ['s',])\n",
            "    >>> df.select(substring(df.s, 1, 2).alias('s')).collect()\n",
            "    [Row(s='ab')]\n",
            "\n",
            "+------+-------------+-------------+------------------+\n",
            "|Gender|lower(Gender)|upper(Gender)|concatenated value|\n",
            "+------+-------------+-------------+------------------+\n",
            "|Other |other        |OTHER        |Othe              |\n",
            "|Female|female       |FEMALE       |Fema              |\n",
            "|Male  |male         |MALE         |Male              |\n",
            "|Other |other        |OTHER        |Othe              |\n",
            "|Other |other        |OTHER        |Othe              |\n",
            "+------+-------------+-------------+------------------+\n",
            "only showing top 5 rows\n",
            "\n"
          ]
        }
      ]
    },
    {
      "cell_type": "code",
      "source": [
        "from pyspark.sql.functions import concat\n",
        "df.select(col(\"Caffeine Intake (mg)\"),col(\"Sleep Quality\"),concat(col(\"Caffeine Intake (mg)\"), lit(\" \"), col(\"Sleep Quality\"))).show(5, False)"
      ],
      "metadata": {
        "colab": {
          "base_uri": "https://localhost:8080/"
        },
        "id": "5EPvMGEgfSY1",
        "outputId": "d68b6f44-8d07-4d37-e673-5c3e03d39534"
      },
      "execution_count": null,
      "outputs": [
        {
          "output_type": "stream",
          "name": "stdout",
          "text": [
            "+--------------------+-------------+----------------------------------------------+\n",
            "|Caffeine Intake (mg)|Sleep Quality|concat(Caffeine Intake (mg),  , Sleep Quality)|\n",
            "+--------------------+-------------+----------------------------------------------+\n",
            "|87                  |3            |87 3                                          |\n",
            "|21                  |5            |21 5                                          |\n",
            "|88                  |7            |88 7                                          |\n",
            "|34                  |8            |34 8                                          |\n",
            "|269                 |10           |269 10                                        |\n",
            "+--------------------+-------------+----------------------------------------------+\n",
            "only showing top 5 rows\n",
            "\n"
          ]
        }
      ]
    },
    {
      "cell_type": "markdown",
      "source": [
        "### Numeric functions"
      ],
      "metadata": {
        "id": "UVkaLP7-fyb_"
      }
    },
    {
      "cell_type": "markdown",
      "source": [
        "Show the oldest date and the most recent date"
      ],
      "metadata": {
        "id": "PwZZhrKtf1-K"
      }
    },
    {
      "cell_type": "code",
      "source": [
        "from pyspark.sql.functions import min, max\n",
        "df.select(min(col('Total Sleep Hours')), max(col('Total Sleep Hours'))).show()"
      ],
      "metadata": {
        "colab": {
          "base_uri": "https://localhost:8080/"
        },
        "id": "1m_6GVjSf4Cg",
        "outputId": "d2c9a94a-237b-45ed-d584-2d7e14dcd2cf"
      },
      "execution_count": null,
      "outputs": [
        {
          "output_type": "stream",
          "name": "stdout",
          "text": [
            "+----------------------+----------------------+\n",
            "|min(Total Sleep Hours)|max(Total Sleep Hours)|\n",
            "+----------------------+----------------------+\n",
            "|                   4.5|                   9.5|\n",
            "+----------------------+----------------------+\n",
            "\n"
          ]
        }
      ]
    },
    {
      "cell_type": "markdown",
      "source": [
        "Add 10 to the minimum and maximum weight"
      ],
      "metadata": {
        "id": "rxL44plmgD71"
      }
    },
    {
      "cell_type": "code",
      "source": [
        "from pyspark.sql.functions import min, max, lit\n",
        "df.select(min(col('Total Sleep Hours'))+lit(10), max(col('Total Sleep Hours')+lit(10))).show()"
      ],
      "metadata": {
        "colab": {
          "base_uri": "https://localhost:8080/"
        },
        "id": "eZJBToHPgCzn",
        "outputId": "522a36f5-2f71-4d78-b648-db1499537a67"
      },
      "execution_count": null,
      "outputs": [
        {
          "output_type": "stream",
          "name": "stdout",
          "text": [
            "+-----------------------------+-----------------------------+\n",
            "|(min(Total Sleep Hours) + 10)|max((Total Sleep Hours + 10))|\n",
            "+-----------------------------+-----------------------------+\n",
            "|                         14.5|                         19.5|\n",
            "+-----------------------------+-----------------------------+\n",
            "\n"
          ]
        }
      ]
    },
    {
      "cell_type": "markdown",
      "source": [
        "### Operations on Date"
      ],
      "metadata": {
        "id": "bFQN0FwZgP1d"
      }
    },
    {
      "cell_type": "code",
      "source": [
        "from pyspark.sql.functions import to_date, to_timestamp, lit\n",
        "df = spark.createDataFrame([('2019-12-25 13:30:00',)], ['DOB'])\n",
        "df.show()\n",
        "df.printSchema()"
      ],
      "metadata": {
        "colab": {
          "base_uri": "https://localhost:8080/"
        },
        "id": "88ZRafB5gX4I",
        "outputId": "605c35fb-483d-468b-820c-2536f99e5099"
      },
      "execution_count": null,
      "outputs": [
        {
          "output_type": "stream",
          "name": "stdout",
          "text": [
            "+-------------------+\n",
            "|                DOB|\n",
            "+-------------------+\n",
            "|2019-12-25 13:30:00|\n",
            "+-------------------+\n",
            "\n",
            "root\n",
            " |-- DOB: string (nullable = true)\n",
            "\n"
          ]
        }
      ]
    },
    {
      "cell_type": "code",
      "source": [
        "df = spark.createDataFrame([('2019-12-25 13:30:00',)], ['DOB'])\n",
        "df = df.select(to_date(col('DOB'),'yyyy-MM-dd HH:mm:ss'), to_timestamp(col('DOB'),'yyyy-MM-dd HH:mm:ss'))\n",
        "df.show()\n",
        "df.printSchema()"
      ],
      "metadata": {
        "colab": {
          "base_uri": "https://localhost:8080/"
        },
        "id": "X_gfglDHgcA2",
        "outputId": "e29fbfc5-d866-4ea0-cf5f-63b81e765130"
      },
      "execution_count": null,
      "outputs": [
        {
          "output_type": "stream",
          "name": "stdout",
          "text": [
            "+---------------------------------+--------------------------------------+\n",
            "|to_date(DOB, yyyy-MM-dd HH:mm:ss)|to_timestamp(DOB, yyyy-MM-dd HH:mm:ss)|\n",
            "+---------------------------------+--------------------------------------+\n",
            "|                       2019-12-25|                   2019-12-25 13:30:00|\n",
            "+---------------------------------+--------------------------------------+\n",
            "\n",
            "root\n",
            " |-- to_date(DOB, yyyy-MM-dd HH:mm:ss): date (nullable = true)\n",
            " |-- to_timestamp(DOB, yyyy-MM-dd HH:mm:ss): timestamp (nullable = true)\n",
            "\n"
          ]
        }
      ]
    },
    {
      "cell_type": "code",
      "source": [
        "df = spark.createDataFrame([('25/Dec/2019 13:30:00',)], ['DOB'])\n",
        "df = df.select(to_date(col('DOB'),'dd/MMM/yyyy HH:mm:ss'), to_timestamp(col('DOB'),'dd/MMM/yyyy HH:mm:ss'))\n",
        "df.show()\n",
        "df.printSchema()"
      ],
      "metadata": {
        "colab": {
          "base_uri": "https://localhost:8080/"
        },
        "id": "OKcD5OIcgeIP",
        "outputId": "9b5bc95c-3ae3-4cac-d415-ac5511781da6"
      },
      "execution_count": null,
      "outputs": [
        {
          "output_type": "stream",
          "name": "stdout",
          "text": [
            "+----------------------------------+---------------------------------------+\n",
            "|to_date(DOB, dd/MMM/yyyy HH:mm:ss)|to_timestamp(DOB, dd/MMM/yyyy HH:mm:ss)|\n",
            "+----------------------------------+---------------------------------------+\n",
            "|                        2019-12-25|                    2019-12-25 13:30:00|\n",
            "+----------------------------------+---------------------------------------+\n",
            "\n",
            "root\n",
            " |-- to_date(DOB, dd/MMM/yyyy HH:mm:ss): date (nullable = true)\n",
            " |-- to_timestamp(DOB, dd/MMM/yyyy HH:mm:ss): timestamp (nullable = true)\n",
            "\n"
          ]
        }
      ]
    },
    {
      "cell_type": "markdown",
      "source": [
        "**What is 3 days earlier that the oldest date and 3 days later than the most recent date?**"
      ],
      "metadata": {
        "id": "2lz4wJvMgjuZ"
      }
    },
    {
      "cell_type": "code",
      "source": [
        "from pyspark.sql.functions import date_add, date_sub\n",
        "# create a dummy dataframe\n",
        "df = spark.createDataFrame([('1990-01-01',),('1995-01-03',),('2021-03-30',)], ['Date'])\n",
        "# find out the required dates\n",
        "df.select(date_add(max(col('Date')),3), date_sub(min(col('Date')),3)).show()"
      ],
      "metadata": {
        "colab": {
          "base_uri": "https://localhost:8080/"
        },
        "id": "hEFMAN5dgjNH",
        "outputId": "a73d8104-82e1-4767-ad93-bdf4c3a15141"
      },
      "execution_count": null,
      "outputs": [
        {
          "output_type": "stream",
          "name": "stdout",
          "text": [
            "+----------------------+----------------------+\n",
            "|date_add(max(Date), 3)|date_sub(min(Date), 3)|\n",
            "+----------------------+----------------------+\n",
            "|            2021-04-02|            1989-12-29|\n",
            "+----------------------+----------------------+\n",
            "\n"
          ]
        }
      ]
    },
    {
      "cell_type": "markdown",
      "source": [
        "## Joins in PySpark"
      ],
      "metadata": {
        "id": "z9kS231khA3f"
      }
    },
    {
      "cell_type": "code",
      "source": [
        "# Create two dataframes\n",
        "cars_df = spark.createDataFrame([[1, 'Car A'],[2, 'Car B'],[3, 'Car C']], [\"id\", \"car_name\"])\n",
        "car_price_df = spark.createDataFrame([[1, 1000],[2, 2000],[3, 3000]], [\"id\", \"car_price\"])\n",
        "cars_df.show()\n",
        "car_price_df.show()"
      ],
      "metadata": {
        "colab": {
          "base_uri": "https://localhost:8080/"
        },
        "id": "ysgNFT0RhCs2",
        "outputId": "8a478dda-94ba-4bc9-f17a-fcaba8f09190"
      },
      "execution_count": null,
      "outputs": [
        {
          "output_type": "stream",
          "name": "stdout",
          "text": [
            "+---+--------+\n",
            "| id|car_name|\n",
            "+---+--------+\n",
            "|  1|   Car A|\n",
            "|  2|   Car B|\n",
            "|  3|   Car C|\n",
            "+---+--------+\n",
            "\n",
            "+---+---------+\n",
            "| id|car_price|\n",
            "+---+---------+\n",
            "|  1|     1000|\n",
            "|  2|     2000|\n",
            "|  3|     3000|\n",
            "+---+---------+\n",
            "\n"
          ]
        }
      ]
    },
    {
      "cell_type": "code",
      "source": [
        "# Executing an inner join so we can see the id, name and price of each car in one row\n",
        "cars_df.join(car_price_df, cars_df.id == car_price_df.id, 'inner').select(cars_df['id'],cars_df['car_name'],car_price_df['car_price']).show(truncate=False)"
      ],
      "metadata": {
        "colab": {
          "base_uri": "https://localhost:8080/"
        },
        "id": "BNT-ZYNihFug",
        "outputId": "f97c1374-9571-4250-fe32-2e2f08ad9610"
      },
      "execution_count": null,
      "outputs": [
        {
          "output_type": "stream",
          "name": "stdout",
          "text": [
            "+---+--------+---------+\n",
            "|id |car_name|car_price|\n",
            "+---+--------+---------+\n",
            "|1  |Car A   |1000     |\n",
            "|2  |Car B   |2000     |\n",
            "|3  |Car C   |3000     |\n",
            "+---+--------+---------+\n",
            "\n"
          ]
        }
      ]
    },
    {
      "cell_type": "markdown",
      "source": [
        "As you can see, we have done an inner join between two dataframes. The following joins are supported by PySpark:\n",
        "1. inner (default)\n",
        "2. cross\n",
        "3. outer\n",
        "4. full\n",
        "5. full_outer\n",
        "6. left\n",
        "7. left_outer\n",
        "8. right\n",
        "9. right_outer\n",
        "10. left_semi\n",
        "11. left_anti"
      ],
      "metadata": {
        "id": "GAzDdcPOhJyn"
      }
    },
    {
      "cell_type": "markdown",
      "source": [
        "## Spark SQL"
      ],
      "metadata": {
        "id": "PuiC2zHFhM3W"
      }
    },
    {
      "cell_type": "code",
      "source": [
        "# Load data\n",
        "df = spark.read.csv('/content/sleep_cycle_productivity.csv', header=True, sep=\",\")\n",
        "# Register Temporary Table\n",
        "df.createOrReplaceTempView(\"temp\")\n",
        "# Select all data from temp table\n",
        "spark.sql(\"select * from temp limit 5\").show()\n",
        "# Select count of data in table\n",
        "spark.sql(\"select count(*) as total_count from temp\").show()"
      ],
      "metadata": {
        "colab": {
          "base_uri": "https://localhost:8080/"
        },
        "id": "QOVEdvDIhMJn",
        "outputId": "1d97f2ff-153b-4030-812e-481d73b33359"
      },
      "execution_count": null,
      "outputs": [
        {
          "output_type": "stream",
          "name": "stdout",
          "text": [
            "+----------+---------+---+------+----------------+--------------+-----------------+-------------+-------------------+--------------------+-----------------------------+--------------------+------------------+----------+------------+\n",
            "|      Date|Person_ID|Age|Gender|Sleep Start Time|Sleep End Time|Total Sleep Hours|Sleep Quality|Exercise (mins/day)|Caffeine Intake (mg)|Screen Time Before Bed (mins)|Work Hours (hrs/day)|Productivity Score|Mood Score|Stress Level|\n",
            "+----------+---------+---+------+----------------+--------------+-----------------+-------------+-------------------+--------------------+-----------------------------+--------------------+------------------+----------+------------+\n",
            "|2024-04-12|     1860| 32| Other|           23.33|          4.61|             5.28|            3|                 86|                  87|                          116|    8.80892009394567|                 8|         3|           6|\n",
            "|2024-11-04|     1769| 41|Female|           21.02|          2.43|             5.41|            5|                 32|                  21|                           88|   6.329833121584335|                10|         3|           7|\n",
            "|2024-08-31|     2528| 20|  Male|            22.1|          3.45|             5.35|            7|                 17|                  88|                           59|   8.506305742764315|                10|         9|          10|\n",
            "|2024-02-22|     8041| 37| Other|            23.1|          6.65|             7.55|            8|                 46|                  34|                           80|   6.070239852800135|                 8|         4|           2|\n",
            "|2024-02-23|     4843| 46| Other|           21.42|          4.17|             6.75|           10|                 61|                 269|                           94|  11.374993880184935|                 8|         7|           9|\n",
            "+----------+---------+---+------+----------------+--------------+-----------------+-------------+-------------------+--------------------+-----------------------------+--------------------+------------------+----------+------------+\n",
            "\n",
            "+-----------+\n",
            "|total_count|\n",
            "+-----------+\n",
            "|       5000|\n",
            "+-----------+\n",
            "\n"
          ]
        }
      ]
    },
    {
      "cell_type": "markdown",
      "source": [
        "## RDD"
      ],
      "metadata": {
        "id": "aQWU3EGViPrL"
      }
    },
    {
      "cell_type": "markdown",
      "source": [
        "> ด้วย `map` คุณสามารถกำหนดฟังก์ชันและใช้กับแต่ละเรคอร์ดใน RDD ได้  \n",
        "> `flatMap` จะสร้าง RDD ใหม่โดยใช้ฟังก์ชันกับทุกองค์ประกอบใน RDD และทำให้ผลลัพธ์แบนราบ (flattening)  \n",
        "> `filter` จะสร้าง RDD ใหม่ที่มีเพียงองค์ประกอบที่ตรงตามเงื่อนไขที่กำหนด  \n",
        "> ส่วน `reduce` ใช้สำหรับรวมค่าขององค์ประกอบที่อยู่ติดกันเป็นผลลัพธ์เดียว  \n",
        "\n",
        "ตัวอย่างเช่น หากคุณมีชุดตัวเลข คุณสามารถใช้ `reduce` เพื่อนำตัวเลขทั้งหมดมารวมกันโดยให้ฟังก์ชันรับค่าเข้ามาสองค่าและลดให้เหลือหนึ่งค่า\n",
        "\n",
        "### เหตุผลที่ควรใช้ DataFrame แทน RDD:\n",
        "1. **สามารถแทนข้อมูลในรูปแบบแถวและคอลัมน์** ซึ่งช่วยให้เข้าใจง่ายขึ้น แต่ก็หมายความว่ามันสามารถรองรับเฉพาะข้อมูลที่มีโครงสร้าง (structured) และกึ่งโครงสร้าง (semi-structured) เท่านั้น  \n",
        "2. **รองรับการประมวลผลข้อมูลจากหลายรูปแบบ** เช่น AVRO, CSV, JSON และสามารถดึงข้อมูลจากระบบจัดเก็บข้อมูลต่าง ๆ เช่น HDFS, Hive Tables, และ MySQL  \n",
        "3. **มีความสามารถในการปรับปรุงประสิทธิภาพงาน (Job Optimization) ที่ดีกว่า RDD**  \n",
        "4. **DataFrame API ใช้งานง่ายมาก** และเหมาะสำหรับการวิเคราะห์ข้อมูล  "
      ],
      "metadata": {
        "id": "omm7UFuHiTdj"
      }
    },
    {
      "cell_type": "code",
      "source": [
        "sleep = spark.sparkContext.textFile('/content/sleep_cycle_productivity.csv')\n",
        "print(sleep.first())\n",
        "sleep_header = sleep.first()\n",
        "sleep_rest = sleep.filter(lambda line: line!=sleep_header)\n",
        "print(sleep.first())"
      ],
      "metadata": {
        "colab": {
          "base_uri": "https://localhost:8080/"
        },
        "id": "WfP6Vbv1ickc",
        "outputId": "1b5021a6-13df-40e6-d20e-232125c27cfd"
      },
      "execution_count": null,
      "outputs": [
        {
          "output_type": "stream",
          "name": "stdout",
          "text": [
            "Date,Person_ID,Age,Gender,Sleep Start Time,Sleep End Time,Total Sleep Hours,Sleep Quality,Exercise (mins/day),Caffeine Intake (mg),Screen Time Before Bed (mins),Work Hours (hrs/day),Productivity Score,Mood Score,Stress Level\n",
            "Date,Person_ID,Age,Gender,Sleep Start Time,Sleep End Time,Total Sleep Hours,Sleep Quality,Exercise (mins/day),Caffeine Intake (mg),Screen Time Before Bed (mins),Work Hours (hrs/day),Productivity Score,Mood Score,Stress Level\n"
          ]
        }
      ]
    },
    {
      "cell_type": "markdown",
      "source": [
        "**How many cars are there in our csv data?**"
      ],
      "metadata": {
        "id": "pcrgnySoisLh"
      }
    },
    {
      "cell_type": "code",
      "source": [
        "sleep_rest.map(lambda line: line.split(\",\")).count()"
      ],
      "metadata": {
        "colab": {
          "base_uri": "https://localhost:8080/"
        },
        "id": "1GJGjVlyiuZ7",
        "outputId": "8694abf8-03f1-465e-f3e4-94a1306716b4"
      },
      "execution_count": null,
      "outputs": [
        {
          "output_type": "execute_result",
          "data": {
            "text/plain": [
              "5000"
            ]
          },
          "metadata": {},
          "execution_count": 106
        }
      ]
    },
    {
      "cell_type": "markdown",
      "source": [
        "**Display the Date, Person_ID, Age, Gender and Total Sleep Hours of Female**"
      ],
      "metadata": {
        "id": "y2qKfKFziy54"
      }
    },
    {
      "cell_type": "code",
      "source": [
        "# Car name is column  0\n",
        "(sleep_rest.filter(lambda line: line.split(\",\")[3]=='Female').\n",
        " map(lambda line: (line.split(\",\")[0],\n",
        "    line.split(\",\")[1],\n",
        "    line.split(\",\")[2],\n",
        "    line.split(\",\")[3],\n",
        "    line.split(\",\")[5])).collect())"
      ],
      "metadata": {
        "colab": {
          "base_uri": "https://localhost:8080/"
        },
        "id": "dj0a9uCxi07N",
        "outputId": "e3e95e19-1517-4103-fdf3-e9f03d779cc0"
      },
      "execution_count": null,
      "outputs": [
        {
          "output_type": "execute_result",
          "data": {
            "text/plain": [
              "[('2024-11-04', '1769', '41', 'Female', '2.43'),\n",
              " ('2024-01-28', '7278', '26', 'Female', '3.14'),\n",
              " ('2024-02-21', '6116', '49', 'Female', '3.89'),\n",
              " ('2024-02-14', '3693', '45', 'Female', '3.29'),\n",
              " ('2024-04-22', '2853', '29', 'Female', '6.08'),\n",
              " ('2024-10-24', '1262', '33', 'Female', '7.02'),\n",
              " ('2024-04-08', '3255', '20', 'Female', '7.24'),\n",
              " ('2024-12-14', '3961', '35', 'Female', '5.33'),\n",
              " ('2024-10-09', '1225', '38', 'Female', '4.29'),\n",
              " ('2024-08-10', '7709', '20', 'Female', '7.39'),\n",
              " ('2024-11-16', '7655', '33', 'Female', '6.02'),\n",
              " ('2024-02-27', '8509', '59', 'Female', '6.07'),\n",
              " ('2024-09-18', '1876', '49', 'Female', '6.25'),\n",
              " ('2024-02-16', '3141', '22', 'Female', '6.32'),\n",
              " ('2024-04-09', '3849', '48', 'Female', '4.32'),\n",
              " ('2024-06-08', '1851', '41', 'Female', '4.13'),\n",
              " ('2024-04-24', '9808', '24', 'Female', '4.46'),\n",
              " ('2024-07-10', '3786', '52', 'Female', '4.04'),\n",
              " ('2024-05-23', '2062', '59', 'Female', '5.46'),\n",
              " ('2024-09-09', '2542', '30', 'Female', '5.78'),\n",
              " ('2024-05-05', '5268', '30', 'Female', '8.15'),\n",
              " ('2024-06-04', '5468', '25', 'Female', '6.4'),\n",
              " ('2024-12-13', '8239', '56', 'Female', '4.43'),\n",
              " ('2024-07-25', '2252', '38', 'Female', '2.73'),\n",
              " ('2024-11-21', '7376', '29', 'Female', '2.69'),\n",
              " ('2024-12-15', '3878', '34', 'Female', '3.92'),\n",
              " ('2024-03-18', '1364', '43', 'Female', '4.08'),\n",
              " ('2024-04-10', '3739', '43', 'Female', '5.91'),\n",
              " ('2024-08-24', '2065', '42', 'Female', '5.81'),\n",
              " ('2024-09-13', '6732', '38', 'Female', '2.71'),\n",
              " ('2024-12-26', '1688', '37', 'Female', '4.63'),\n",
              " ('2024-04-06', '4675', '25', 'Female', '7.96'),\n",
              " ('2024-04-24', '3573', '26', 'Female', '2.19'),\n",
              " ('2024-12-07', '3074', '48', 'Female', '4.4'),\n",
              " ('2024-04-07', '5150', '41', 'Female', '3.99'),\n",
              " ('2024-05-10', '2252', '47', 'Female', '3.49'),\n",
              " ('2024-08-14', '4241', '51', 'Female', '4.33'),\n",
              " ('2024-08-23', '1271', '27', 'Female', '3.75'),\n",
              " ('2024-11-14', '9202', '30', 'Female', '5.56'),\n",
              " ('2024-08-05', '1936', '20', 'Female', '3.72'),\n",
              " ('2024-05-02', '2218', '42', 'Female', '8.23'),\n",
              " ('2024-09-07', '4972', '43', 'Female', '3.2'),\n",
              " ('2024-06-18', '5286', '44', 'Female', '8.01'),\n",
              " ('2024-03-14', '6352', '49', 'Female', '6.11'),\n",
              " ('2024-01-12', '9073', '18', 'Female', '2.65'),\n",
              " ('2024-10-07', '1791', '29', 'Female', '5.58'),\n",
              " ('2024-12-14', '1959', '41', 'Female', '6.8'),\n",
              " ('2024-11-23', '4389', '37', 'Female', '5.89'),\n",
              " ('2024-01-24', '9595', '54', 'Female', '4.68'),\n",
              " ('2024-09-23', '8010', '25', 'Female', '5.45'),\n",
              " ('2024-08-17', '2735', '20', 'Female', '6.12'),\n",
              " ('2024-10-12', '5211', '25', 'Female', '9.24'),\n",
              " ('2024-05-15', '8123', '20', 'Female', '2.86'),\n",
              " ('2024-01-12', '1560', '59', 'Female', '4.14'),\n",
              " ('2024-06-11', '7721', '44', 'Female', '7.57'),\n",
              " ('2024-03-23', '6448', '45', 'Female', '3.22'),\n",
              " ('2024-11-24', '4009', '32', 'Female', '4.58'),\n",
              " ('2024-04-21', '6132', '26', 'Female', '6.12'),\n",
              " ('2024-09-10', '1161', '47', 'Female', '3.11'),\n",
              " ('2024-12-21', '9623', '53', 'Female', '5.47'),\n",
              " ('2024-09-15', '6068', '47', 'Female', '5.72'),\n",
              " ('2024-02-18', '9895', '22', 'Female', '1.8'),\n",
              " ('2024-04-15', '8896', '30', 'Female', '6.07'),\n",
              " ('2024-06-16', '3105', '45', 'Female', '0.84'),\n",
              " ('2024-02-16', '9078', '57', 'Female', '5.96'),\n",
              " ('2024-01-21', '1669', '30', 'Female', '8.36'),\n",
              " ('2024-08-03', '1587', '45', 'Female', '5.84'),\n",
              " ('2024-07-28', '7716', '29', 'Female', '2.63'),\n",
              " ('2024-12-12', '9365', '40', 'Female', '1.56'),\n",
              " ('2024-10-20', '2819', '38', 'Female', '4.8'),\n",
              " ('2024-03-04', '7468', '25', 'Female', '7.25'),\n",
              " ('2024-05-01', '3172', '54', 'Female', '6.47'),\n",
              " ('2024-09-08', '9017', '57', 'Female', '3.99'),\n",
              " ('2024-01-20', '2960', '29', 'Female', '3.65'),\n",
              " ('2024-06-19', '4906', '27', 'Female', '5.63'),\n",
              " ('2024-07-06', '7465', '19', 'Female', '2.89'),\n",
              " ('2024-02-01', '6565', '27', 'Female', '6.39'),\n",
              " ('2024-08-28', '8161', '46', 'Female', '4.98'),\n",
              " ('2024-05-28', '1539', '57', 'Female', '5.95'),\n",
              " ('2024-02-15', '4748', '55', 'Female', '2.39'),\n",
              " ('2024-01-29', '9931', '43', 'Female', '3.09'),\n",
              " ('2024-08-13', '3783', '38', 'Female', '1.96'),\n",
              " ('2024-04-16', '9436', '33', 'Female', '4.36'),\n",
              " ('2024-08-29', '6973', '46', 'Female', '7.81'),\n",
              " ('2024-11-19', '4008', '18', 'Female', '7.11'),\n",
              " ('2024-04-21', '1614', '45', 'Female', '1.28'),\n",
              " ('2024-01-24', '4075', '20', 'Female', '4.0'),\n",
              " ('2024-02-08', '6141', '38', 'Female', '3.92'),\n",
              " ('2024-12-04', '9234', '52', 'Female', '6.88'),\n",
              " ('2024-04-04', '1451', '40', 'Female', '7.21'),\n",
              " ('2024-04-27', '1887', '50', 'Female', '3.95'),\n",
              " ('2024-03-19', '7358', '36', 'Female', '6.37'),\n",
              " ('2024-11-17', '1517', '22', 'Female', '1.52'),\n",
              " ('2024-12-10', '9399', '19', 'Female', '2.57'),\n",
              " ('2024-05-27', '4554', '19', 'Female', '4.57'),\n",
              " ('2024-08-24', '3093', '59', 'Female', '4.63'),\n",
              " ('2024-06-09', '5426', '33', 'Female', '3.95'),\n",
              " ('2024-12-23', '2014', '44', 'Female', '8.19'),\n",
              " ('2024-05-16', '2873', '38', 'Female', '2.69'),\n",
              " ('2024-05-18', '8352', '30', 'Female', '3.88'),\n",
              " ('2024-02-05', '7121', '59', 'Female', '7.13'),\n",
              " ('2024-09-03', '4687', '38', 'Female', '4.53'),\n",
              " ('2024-05-17', '9306', '53', 'Female', '4.22'),\n",
              " ('2024-11-30', '9923', '35', 'Female', '6.18'),\n",
              " ('2024-09-01', '4645', '59', 'Female', '4.26'),\n",
              " ('2024-04-13', '5172', '55', 'Female', '2.86'),\n",
              " ('2024-09-02', '6232', '59', 'Female', '0.98'),\n",
              " ('2024-02-28', '3904', '58', 'Female', '2.63'),\n",
              " ('2024-07-27', '5749', '37', 'Female', '7.08'),\n",
              " ('2024-10-19', '3789', '19', 'Female', '4.63'),\n",
              " ('2024-05-07', '3387', '33', 'Female', '3.26'),\n",
              " ('2024-12-15', '7034', '28', 'Female', '2.65'),\n",
              " ('2024-10-12', '1870', '30', 'Female', '5.39'),\n",
              " ('2024-05-26', '2051', '19', 'Female', '7.52'),\n",
              " ('2024-07-26', '7513', '21', 'Female', '4.4'),\n",
              " ('2024-10-22', '9378', '33', 'Female', '5.33'),\n",
              " ('2024-09-20', '7726', '56', 'Female', '2.86'),\n",
              " ('2024-10-18', '9711', '22', 'Female', '6.33'),\n",
              " ('2024-11-21', '5926', '53', 'Female', '5.42'),\n",
              " ('2024-04-17', '7553', '28', 'Female', '6.9'),\n",
              " ('2024-06-08', '6593', '42', 'Female', '4.78'),\n",
              " ('2024-08-03', '4981', '51', 'Female', '4.57'),\n",
              " ('2024-03-27', '3364', '24', 'Female', '4.21'),\n",
              " ('2024-12-09', '5042', '46', 'Female', '6.73'),\n",
              " ('2024-12-23', '9106', '54', 'Female', '5.5'),\n",
              " ('2024-01-11', '8382', '40', 'Female', '9.05'),\n",
              " ('2024-10-18', '9947', '44', 'Female', '1.64'),\n",
              " ('2024-02-08', '4715', '47', 'Female', '5.62'),\n",
              " ('2024-08-24', '7533', '23', 'Female', '5.21'),\n",
              " ('2024-05-14', '1421', '54', 'Female', '1.46'),\n",
              " ('2024-01-22', '2473', '23', 'Female', '4.39'),\n",
              " ('2024-04-22', '3313', '33', 'Female', '6.67'),\n",
              " ('2024-12-03', '9558', '35', 'Female', '2.96'),\n",
              " ('2024-04-08', '1126', '52', 'Female', '3.71'),\n",
              " ('2024-03-13', '1198', '19', 'Female', '5.53'),\n",
              " ('2024-08-10', '7232', '48', 'Female', '4.49'),\n",
              " ('2024-07-14', '1378', '20', 'Female', '5.45'),\n",
              " ('2024-01-24', '6969', '31', 'Female', '7.54'),\n",
              " ('2024-10-04', '3721', '46', 'Female', '7.63'),\n",
              " ('2024-10-10', '2128', '53', 'Female', '2.91'),\n",
              " ('2024-05-25', '8942', '57', 'Female', '5.14'),\n",
              " ('2024-05-05', '7568', '59', 'Female', '2.7'),\n",
              " ('2024-01-16', '9683', '57', 'Female', '7.8'),\n",
              " ('2024-11-22', '3155', '32', 'Female', '4.2'),\n",
              " ('2024-03-01', '7413', '49', 'Female', '3.39'),\n",
              " ('2024-05-09', '5734', '53', 'Female', '4.41'),\n",
              " ('2024-05-28', '1924', '41', 'Female', '1.74'),\n",
              " ('2024-08-20', '3713', '43', 'Female', '6.78'),\n",
              " ('2024-09-25', '4661', '41', 'Female', '2.83'),\n",
              " ('2024-01-11', '1142', '20', 'Female', '4.81'),\n",
              " ('2024-09-23', '5517', '25', 'Female', '5.6'),\n",
              " ('2024-05-14', '6413', '39', 'Female', '3.7'),\n",
              " ('2024-07-04', '4326', '29', 'Female', '8.04'),\n",
              " ('2024-07-22', '7159', '40', 'Female', '5.67'),\n",
              " ('2024-11-02', '3569', '29', 'Female', '7.21'),\n",
              " ('2024-05-25', '8082', '52', 'Female', '5.06'),\n",
              " ('2024-02-06', '5428', '36', 'Female', '1.66'),\n",
              " ('2024-02-03', '7468', '27', 'Female', '0.96'),\n",
              " ('2024-07-11', '7747', '56', 'Female', '1.18'),\n",
              " ('2024-08-06', '9283', '33', 'Female', '5.61'),\n",
              " ('2024-06-20', '5052', '40', 'Female', '6.22'),\n",
              " ('2024-07-22', '3241', '31', 'Female', '3.46'),\n",
              " ('2024-05-12', '6739', '59', 'Female', '6.25'),\n",
              " ('2024-01-03', '3261', '39', 'Female', '2.88'),\n",
              " ('2024-12-20', '2872', '58', 'Female', '2.75'),\n",
              " ('2024-09-30', '6285', '54', 'Female', '4.48'),\n",
              " ('2024-03-06', '4670', '19', 'Female', '5.07'),\n",
              " ('2024-02-04', '6231', '47', 'Female', '7.31'),\n",
              " ('2024-12-24', '7073', '37', 'Female', '7.07'),\n",
              " ('2024-12-02', '9697', '59', 'Female', '7.53'),\n",
              " ('2024-11-15', '3149', '59', 'Female', '5.92'),\n",
              " ('2024-10-26', '8265', '22', 'Female', '2.72'),\n",
              " ('2024-07-03', '7041', '19', 'Female', '5.82'),\n",
              " ('2024-10-12', '2790', '23', 'Female', '7.51'),\n",
              " ('2024-07-22', '3032', '53', 'Female', '7.68'),\n",
              " ('2024-09-11', '3428', '47', 'Female', '6.07'),\n",
              " ('2024-01-16', '5886', '24', 'Female', '5.44'),\n",
              " ('2024-12-21', '1028', '52', 'Female', '4.52'),\n",
              " ('2024-08-02', '2906', '57', 'Female', '3.78'),\n",
              " ('2024-04-30', '3975', '43', 'Female', '5.53'),\n",
              " ('2024-07-30', '9699', '33', 'Female', '5.17'),\n",
              " ('2024-01-11', '1858', '33', 'Female', '2.52'),\n",
              " ('2024-05-18', '4345', '31', 'Female', '7.03'),\n",
              " ('2024-05-14', '3269', '45', 'Female', '8.0'),\n",
              " ('2024-08-29', '5581', '21', 'Female', '4.17'),\n",
              " ('2024-12-14', '1224', '27', 'Female', '8.28'),\n",
              " ('2024-08-22', '7643', '50', 'Female', '8.36'),\n",
              " ('2024-07-17', '8630', '37', 'Female', '2.28'),\n",
              " ('2024-02-18', '2325', '55', 'Female', '1.0'),\n",
              " ('2024-08-19', '9648', '58', 'Female', '4.07'),\n",
              " ('2024-10-02', '2736', '40', 'Female', '3.1'),\n",
              " ('2024-04-08', '5070', '24', 'Female', '8.49'),\n",
              " ('2024-12-02', '1809', '29', 'Female', '3.58'),\n",
              " ('2024-06-14', '3908', '58', 'Female', '4.24'),\n",
              " ('2024-08-11', '5613', '52', 'Female', '4.6'),\n",
              " ('2024-11-29', '5134', '54', 'Female', '4.78'),\n",
              " ('2024-04-22', '4061', '40', 'Female', '3.91'),\n",
              " ('2024-05-03', '4602', '24', 'Female', '7.99'),\n",
              " ('2024-12-28', '4740', '56', 'Female', '3.49'),\n",
              " ('2024-10-01', '8233', '32', 'Female', '7.0'),\n",
              " ('2024-08-03', '9444', '23', 'Female', '7.02'),\n",
              " ('2024-04-14', '9791', '19', 'Female', '3.67'),\n",
              " ('2024-06-09', '1238', '37', 'Female', '5.52'),\n",
              " ('2024-02-17', '8764', '45', 'Female', '6.87'),\n",
              " ('2024-01-10', '7458', '22', 'Female', '2.06'),\n",
              " ('2024-10-07', '8382', '29', 'Female', '6.05'),\n",
              " ('2024-12-03', '3889', '51', 'Female', '3.29'),\n",
              " ('2024-01-23', '7668', '42', 'Female', '2.51'),\n",
              " ('2024-04-21', '4167', '57', 'Female', '7.94'),\n",
              " ('2024-04-15', '7694', '45', 'Female', '7.62'),\n",
              " ('2024-06-25', '3110', '50', 'Female', '5.89'),\n",
              " ('2024-11-05', '9529', '20', 'Female', '4.24'),\n",
              " ('2024-04-20', '3916', '29', 'Female', '5.35'),\n",
              " ('2024-01-13', '6938', '34', 'Female', '5.05'),\n",
              " ('2024-08-30', '4688', '27', 'Female', '3.46'),\n",
              " ('2024-01-14', '1256', '43', 'Female', '0.83'),\n",
              " ('2024-04-01', '1446', '57', 'Female', '6.38'),\n",
              " ('2024-07-10', '7802', '32', 'Female', '6.54'),\n",
              " ('2024-07-02', '4770', '23', 'Female', '5.66'),\n",
              " ('2024-07-18', '3586', '42', 'Female', '2.38'),\n",
              " ('2024-12-04', '6769', '55', 'Female', '2.63'),\n",
              " ('2024-01-23', '8727', '57', 'Female', '5.22'),\n",
              " ('2024-10-07', '1256', '49', 'Female', '2.33'),\n",
              " ('2024-02-26', '9848', '56', 'Female', '6.18'),\n",
              " ('2024-07-07', '5483', '31', 'Female', '4.73'),\n",
              " ('2024-02-10', '6241', '52', 'Female', '8.02'),\n",
              " ('2024-09-14', '5370', '37', 'Female', '5.99'),\n",
              " ('2024-07-02', '1544', '27', 'Female', '8.6'),\n",
              " ('2024-05-15', '1386', '42', 'Female', '4.74'),\n",
              " ('2024-05-14', '3484', '42', 'Female', '2.66'),\n",
              " ('2024-04-09', '7704', '26', 'Female', '4.52'),\n",
              " ('2024-10-05', '2050', '23', 'Female', '5.43'),\n",
              " ('2024-03-30', '5635', '25', 'Female', '7.65'),\n",
              " ('2024-10-07', '5979', '19', 'Female', '1.87'),\n",
              " ('2024-09-25', '9494', '40', 'Female', '6.26'),\n",
              " ('2024-06-15', '1565', '52', 'Female', '4.99'),\n",
              " ('2024-04-20', '1716', '33', 'Female', '3.3'),\n",
              " ('2024-07-01', '1889', '48', 'Female', '4.55'),\n",
              " ('2024-12-23', '7539', '48', 'Female', '9.1'),\n",
              " ('2024-09-20', '2118', '58', 'Female', '3.2'),\n",
              " ('2024-07-30', '5760', '47', 'Female', '2.15'),\n",
              " ('2024-05-10', '5511', '37', 'Female', '2.32'),\n",
              " ('2024-09-05', '9664', '38', 'Female', '4.13'),\n",
              " ('2024-09-27', '7651', '50', 'Female', '2.62'),\n",
              " ('2024-07-04', '4937', '32', 'Female', '5.61'),\n",
              " ('2024-04-04', '4397', '27', 'Female', '3.92'),\n",
              " ('2024-11-13', '1442', '18', 'Female', '3.35'),\n",
              " ('2024-01-13', '1740', '43', 'Female', '0.79'),\n",
              " ('2024-02-28', '6370', '32', 'Female', '2.61'),\n",
              " ('2024-10-17', '2715', '40', 'Female', '5.56'),\n",
              " ('2024-03-12', '9650', '34', 'Female', '4.31'),\n",
              " ('2024-06-18', '3422', '43', 'Female', '4.01'),\n",
              " ('2024-02-20', '5746', '24', 'Female', '3.31'),\n",
              " ('2024-02-06', '2478', '43', 'Female', '5.84'),\n",
              " ('2024-09-11', '9705', '20', 'Female', '3.97'),\n",
              " ('2024-10-01', '9437', '59', 'Female', '3.75'),\n",
              " ('2024-01-23', '9401', '36', 'Female', '4.75'),\n",
              " ('2024-12-13', '3280', '27', 'Female', '5.3'),\n",
              " ('2024-12-29', '3107', '51', 'Female', '8.08'),\n",
              " ('2024-11-20', '3808', '36', 'Female', '5.08'),\n",
              " ('2024-11-04', '5791', '44', 'Female', '6.5'),\n",
              " ('2024-12-21', '1124', '42', 'Female', '7.75'),\n",
              " ('2024-08-19', '4957', '28', 'Female', '3.44'),\n",
              " ('2024-05-12', '7227', '50', 'Female', '0.89'),\n",
              " ('2024-02-11', '1730', '51', 'Female', '2.23'),\n",
              " ('2024-08-24', '4535', '34', 'Female', '1.74'),\n",
              " ('2024-01-26', '2885', '45', 'Female', '5.71'),\n",
              " ('2024-05-30', '4909', '33', 'Female', '7.77'),\n",
              " ('2024-04-21', '3368', '44', 'Female', '7.02'),\n",
              " ('2024-10-30', '2308', '44', 'Female', '7.15'),\n",
              " ('2024-04-27', '1665', '34', 'Female', '5.06'),\n",
              " ('2024-04-19', '9561', '20', 'Female', '3.68'),\n",
              " ('2024-01-24', '7994', '23', 'Female', '1.68'),\n",
              " ('2024-11-21', '9015', '46', 'Female', '5.36'),\n",
              " ('2024-10-03', '2487', '32', 'Female', '4.95'),\n",
              " ('2024-07-08', '9287', '43', 'Female', '4.67'),\n",
              " ('2024-04-24', '7406', '31', 'Female', '7.21'),\n",
              " ('2024-09-02', '1143', '28', 'Female', '5.41'),\n",
              " ('2024-04-13', '3567', '32', 'Female', '7.47'),\n",
              " ('2024-12-24', '9440', '44', 'Female', '2.99'),\n",
              " ('2024-01-16', '1605', '55', 'Female', '5.22'),\n",
              " ('2024-07-28', '4046', '28', 'Female', '2.77'),\n",
              " ('2024-09-21', '2361', '20', 'Female', '4.46'),\n",
              " ('2024-03-24', '9713', '46', 'Female', '3.36'),\n",
              " ('2024-12-13', '2612', '29', 'Female', '6.18'),\n",
              " ('2024-06-20', '2295', '39', 'Female', '5.98'),\n",
              " ('2024-02-20', '1633', '56', 'Female', '6.64'),\n",
              " ('2024-03-23', '6452', '43', 'Female', '3.98'),\n",
              " ('2024-10-02', '9204', '20', 'Female', '3.85'),\n",
              " ('2024-05-31', '5668', '35', 'Female', '2.06'),\n",
              " ('2024-12-21', '6912', '28', 'Female', '3.56'),\n",
              " ('2024-05-09', '6346', '20', 'Female', '5.01'),\n",
              " ('2024-05-19', '8720', '32', 'Female', '6.77'),\n",
              " ('2024-05-26', '5422', '48', 'Female', '8.69'),\n",
              " ('2024-05-20', '3755', '53', 'Female', '2.03'),\n",
              " ('2024-06-06', '9656', '57', 'Female', '6.53'),\n",
              " ('2024-03-16', '3292', '49', 'Female', '8.0'),\n",
              " ('2024-06-06', '3745', '51', 'Female', '3.28'),\n",
              " ('2024-06-30', '1033', '45', 'Female', '5.0'),\n",
              " ('2024-11-12', '3673', '28', 'Female', '8.25'),\n",
              " ('2024-10-08', '9772', '50', 'Female', '3.21'),\n",
              " ('2024-11-05', '7661', '31', 'Female', '6.02'),\n",
              " ('2024-11-07', '1362', '30', 'Female', '7.75'),\n",
              " ('2024-11-03', '7851', '38', 'Female', '5.12'),\n",
              " ('2024-10-06', '6419', '59', 'Female', '3.69'),\n",
              " ('2024-04-08', '2059', '34', 'Female', '5.29'),\n",
              " ('2024-12-16', '9702', '30', 'Female', '5.17'),\n",
              " ('2024-05-25', '3525', '30', 'Female', '2.63'),\n",
              " ('2024-08-18', '4232', '50', 'Female', '5.74'),\n",
              " ('2024-05-28', '8155', '51', 'Female', '5.17'),\n",
              " ('2024-11-26', '4793', '40', 'Female', '3.67'),\n",
              " ('2024-02-05', '5993', '45', 'Female', '5.95'),\n",
              " ('2024-08-08', '5595', '56', 'Female', '5.05'),\n",
              " ('2024-11-23', '4238', '57', 'Female', '8.11'),\n",
              " ('2024-07-04', '7825', '29', 'Female', '1.62'),\n",
              " ('2024-07-14', '6322', '38', 'Female', '4.98'),\n",
              " ('2024-05-21', '4322', '55', 'Female', '8.61'),\n",
              " ('2024-02-21', '6164', '54', 'Female', '5.37'),\n",
              " ('2024-01-13', '3490', '39', 'Female', '4.54'),\n",
              " ('2024-08-31', '6467', '58', 'Female', '6.75'),\n",
              " ('2024-07-06', '5329', '41', 'Female', '5.08'),\n",
              " ('2024-09-04', '7261', '26', 'Female', '7.14'),\n",
              " ('2024-11-11', '2897', '19', 'Female', '6.77'),\n",
              " ('2024-08-17', '9369', '42', 'Female', '5.48'),\n",
              " ('2024-10-13', '9802', '47', 'Female', '6.77'),\n",
              " ('2024-07-21', '3517', '59', 'Female', '1.68'),\n",
              " ('2024-09-01', '9509', '56', 'Female', '4.52'),\n",
              " ('2024-01-31', '6643', '33', 'Female', '6.4'),\n",
              " ('2024-08-10', '2772', '25', 'Female', '1.83'),\n",
              " ('2024-06-17', '1058', '58', 'Female', '1.94'),\n",
              " ('2024-07-31', '1435', '25', 'Female', '7.5'),\n",
              " ('2024-10-29', '6901', '48', 'Female', '5.45'),\n",
              " ('2024-05-21', '6902', '33', 'Female', '3.61'),\n",
              " ('2024-04-18', '9875', '29', 'Female', '2.29'),\n",
              " ('2024-01-06', '4190', '48', 'Female', '4.78'),\n",
              " ('2024-10-16', '2354', '20', 'Female', '4.4'),\n",
              " ('2024-11-21', '6083', '47', 'Female', '4.75'),\n",
              " ('2024-10-12', '8680', '39', 'Female', '6.14'),\n",
              " ('2024-12-03', '5145', '32', 'Female', '7.37'),\n",
              " ('2024-02-23', '8681', '21', 'Female', '6.83'),\n",
              " ('2024-03-27', '1868', '33', 'Female', '7.34'),\n",
              " ('2024-10-23', '8123', '27', 'Female', '2.05'),\n",
              " ('2024-02-08', '4684', '57', 'Female', '4.97'),\n",
              " ('2024-12-30', '8120', '24', 'Female', '2.06'),\n",
              " ('2024-11-03', '4546', '27', 'Female', '3.23'),\n",
              " ('2024-06-09', '2425', '31', 'Female', '5.38'),\n",
              " ('2024-07-27', '3731', '27', 'Female', '4.86'),\n",
              " ('2024-10-07', '7947', '24', 'Female', '4.58'),\n",
              " ('2024-08-08', '9490', '46', 'Female', '4.98'),\n",
              " ('2024-04-04', '9102', '30', 'Female', '5.21'),\n",
              " ('2024-02-19', '5318', '34', 'Female', '7.44'),\n",
              " ('2024-09-10', '4956', '43', 'Female', '5.35'),\n",
              " ('2024-11-25', '6798', '47', 'Female', '5.77'),\n",
              " ('2024-01-13', '9727', '57', 'Female', '7.63'),\n",
              " ('2024-12-12', '8446', '46', 'Female', '4.57'),\n",
              " ('2024-06-23', '7023', '41', 'Female', '5.73'),\n",
              " ('2024-10-30', '8772', '33', 'Female', '7.53'),\n",
              " ('2024-12-25', '9709', '56', 'Female', '3.43'),\n",
              " ('2024-09-12', '5268', '19', 'Female', '5.68'),\n",
              " ('2024-01-25', '1713', '34', 'Female', '5.05'),\n",
              " ('2024-12-06', '3857', '18', 'Female', '4.42'),\n",
              " ('2024-02-25', '7723', '27', 'Female', '4.6'),\n",
              " ('2024-05-14', '2798', '56', 'Female', '4.09'),\n",
              " ('2024-01-01', '4037', '55', 'Female', '5.23'),\n",
              " ('2024-10-18', '1073', '24', 'Female', '4.57'),\n",
              " ('2024-08-05', '9464', '44', 'Female', '7.57'),\n",
              " ('2024-12-17', '6892', '25', 'Female', '3.36'),\n",
              " ('2024-05-27', '6959', '18', 'Female', '3.8'),\n",
              " ('2024-08-18', '1533', '35', 'Female', '7.51'),\n",
              " ('2024-08-30', '1723', '51', 'Female', '2.79'),\n",
              " ('2024-05-12', '4061', '49', 'Female', '2.42'),\n",
              " ('2024-07-07', '5046', '43', 'Female', '4.57'),\n",
              " ('2024-04-24', '7015', '20', 'Female', '4.72'),\n",
              " ('2024-08-03', '2629', '25', 'Female', '6.03'),\n",
              " ('2024-05-27', '7327', '52', 'Female', '4.58'),\n",
              " ('2024-08-15', '4819', '54', 'Female', '6.21'),\n",
              " ('2024-07-07', '1944', '46', 'Female', '4.86'),\n",
              " ('2024-08-17', '1248', '26', 'Female', '4.89'),\n",
              " ('2024-03-14', '4089', '52', 'Female', '5.7'),\n",
              " ('2024-09-07', '4356', '32', 'Female', '6.97'),\n",
              " ('2024-03-30', '7833', '34', 'Female', '2.97'),\n",
              " ('2024-12-12', '4574', '35', 'Female', '6.28'),\n",
              " ('2024-01-27', '2120', '50', 'Female', '6.85'),\n",
              " ('2024-02-03', '7023', '30', 'Female', '5.1'),\n",
              " ('2024-04-11', '6412', '35', 'Female', '5.35'),\n",
              " ('2024-06-28', '5174', '52', 'Female', '6.09'),\n",
              " ('2024-03-03', '2054', '27', 'Female', '6.51'),\n",
              " ('2024-12-13', '2277', '32', 'Female', '6.26'),\n",
              " ('2024-08-10', '6413', '27', 'Female', '2.83'),\n",
              " ('2024-01-07', '2586', '43', 'Female', '5.32'),\n",
              " ('2024-05-12', '9909', '55', 'Female', '2.19'),\n",
              " ('2024-06-10', '1978', '23', 'Female', '6.25'),\n",
              " ('2024-08-12', '9771', '20', 'Female', '5.14'),\n",
              " ('2024-09-17', '2146', '56', 'Female', '1.89'),\n",
              " ('2024-03-19', '1981', '51', 'Female', '7.27'),\n",
              " ('2024-03-19', '2222', '36', 'Female', '2.58'),\n",
              " ('2024-10-19', '2793', '22', 'Female', '2.89'),\n",
              " ('2024-10-24', '4354', '23', 'Female', '8.06'),\n",
              " ('2024-08-04', '7817', '45', 'Female', '7.7'),\n",
              " ('2024-03-11', '3925', '54', 'Female', '5.39'),\n",
              " ('2024-04-01', '9233', '56', 'Female', '2.64'),\n",
              " ('2024-09-13', '2720', '47', 'Female', '6.26'),\n",
              " ('2024-05-09', '1842', '34', 'Female', '5.69'),\n",
              " ('2024-09-13', '2648', '31', 'Female', '4.95'),\n",
              " ('2024-08-21', '1407', '35', 'Female', '4.42'),\n",
              " ('2024-08-24', '8185', '49', 'Female', '6.83'),\n",
              " ('2024-08-02', '8216', '18', 'Female', '3.8'),\n",
              " ('2024-02-01', '2094', '22', 'Female', '4.51'),\n",
              " ('2024-09-14', '8832', '36', 'Female', '6.74'),\n",
              " ('2024-11-10', '2325', '59', 'Female', '1.16'),\n",
              " ('2024-11-07', '7705', '24', 'Female', '6.77'),\n",
              " ('2024-08-15', '2506', '23', 'Female', '3.04'),\n",
              " ('2024-10-13', '3258', '41', 'Female', '4.65'),\n",
              " ('2024-07-02', '1673', '34', 'Female', '2.88'),\n",
              " ('2024-04-22', '3472', '39', 'Female', '6.81'),\n",
              " ('2024-12-08', '9431', '28', 'Female', '7.95'),\n",
              " ('2024-06-07', '2608', '35', 'Female', '4.25'),\n",
              " ('2024-03-20', '8257', '54', 'Female', '5.43'),\n",
              " ('2024-03-17', '4815', '19', 'Female', '4.42'),\n",
              " ('2024-08-16', '4168', '42', 'Female', '2.08'),\n",
              " ('2024-02-10', '7589', '19', 'Female', '4.8'),\n",
              " ('2024-05-16', '5172', '54', 'Female', '2.88'),\n",
              " ('2024-07-25', '2543', '37', 'Female', '4.91'),\n",
              " ('2024-07-16', '9861', '24', 'Female', '5.05'),\n",
              " ('2024-12-31', '5714', '45', 'Female', '0.97'),\n",
              " ('2024-12-11', '2548', '33', 'Female', '3.66'),\n",
              " ('2024-09-09', '1448', '59', 'Female', '5.16'),\n",
              " ('2024-11-01', '7701', '49', 'Female', '6.57'),\n",
              " ('2024-11-23', '9988', '42', 'Female', '5.72'),\n",
              " ('2024-11-28', '4728', '44', 'Female', '2.57'),\n",
              " ('2024-02-15', '3552', '45', 'Female', '5.17'),\n",
              " ('2024-10-04', '4759', '46', 'Female', '2.28'),\n",
              " ('2024-01-04', '7536', '32', 'Female', '5.1'),\n",
              " ('2024-07-20', '4980', '46', 'Female', '4.83'),\n",
              " ('2024-11-15', '5307', '30', 'Female', '8.02'),\n",
              " ('2024-06-05', '7073', '31', 'Female', '2.74'),\n",
              " ('2024-09-27', '7255', '33', 'Female', '4.28'),\n",
              " ('2024-11-14', '2535', '38', 'Female', '8.71'),\n",
              " ('2024-07-10', '1513', '18', 'Female', '1.87'),\n",
              " ('2024-07-14', '5694', '49', 'Female', '5.26'),\n",
              " ('2024-05-05', '2031', '41', 'Female', '6.56'),\n",
              " ('2024-08-30', '8750', '30', 'Female', '2.64'),\n",
              " ('2024-01-17', '8108', '29', 'Female', '4.65'),\n",
              " ('2024-11-23', '5031', '21', 'Female', '4.16'),\n",
              " ('2024-03-11', '8483', '37', 'Female', '5.9'),\n",
              " ('2024-07-30', '9199', '52', 'Female', '5.13'),\n",
              " ('2024-08-06', '6434', '26', 'Female', '6.43'),\n",
              " ('2024-06-19', '5370', '55', 'Female', '8.84'),\n",
              " ('2024-02-11', '7209', '18', 'Female', '5.6'),\n",
              " ('2024-06-03', '8490', '50', 'Female', '4.23'),\n",
              " ('2024-12-14', '3377', '37', 'Female', '7.99'),\n",
              " ('2024-11-23', '9536', '48', 'Female', '4.06'),\n",
              " ('2024-11-08', '9113', '19', 'Female', '4.29'),\n",
              " ('2024-06-22', '6560', '45', 'Female', '2.47'),\n",
              " ('2024-02-10', '4255', '52', 'Female', '4.18'),\n",
              " ('2024-06-10', '4370', '27', 'Female', '6.17'),\n",
              " ('2024-08-26', '8399', '53', 'Female', '3.85'),\n",
              " ('2024-01-07', '6130', '29', 'Female', '2.84'),\n",
              " ('2024-12-01', '1080', '40', 'Female', '4.43'),\n",
              " ('2024-08-01', '6566', '35', 'Female', '4.36'),\n",
              " ('2024-10-11', '9294', '36', 'Female', '6.15'),\n",
              " ('2024-10-08', '3577', '53', 'Female', '5.16'),\n",
              " ('2024-10-24', '5661', '49', 'Female', '2.77'),\n",
              " ('2024-09-15', '2745', '43', 'Female', '3.92'),\n",
              " ('2024-06-13', '8283', '39', 'Female', '6.26'),\n",
              " ('2024-12-15', '6856', '36', 'Female', '2.91'),\n",
              " ('2024-06-15', '3625', '49', 'Female', '4.45'),\n",
              " ('2024-01-29', '2534', '47', 'Female', '3.88'),\n",
              " ('2024-02-11', '7066', '52', 'Female', '6.01'),\n",
              " ('2024-07-29', '4097', '20', 'Female', '8.34'),\n",
              " ('2024-04-15', '1554', '26', 'Female', '6.84'),\n",
              " ('2024-11-15', '6717', '37', 'Female', '3.62'),\n",
              " ('2024-09-23', '9972', '50', 'Female', '5.95'),\n",
              " ('2024-04-03', '6207', '23', 'Female', '6.77'),\n",
              " ('2024-12-14', '1787', '27', 'Female', '8.76'),\n",
              " ('2024-02-07', '5558', '23', 'Female', '2.06'),\n",
              " ('2024-02-11', '9951', '47', 'Female', '4.46'),\n",
              " ('2024-12-09', '7058', '57', 'Female', '4.21'),\n",
              " ('2024-10-18', '2632', '18', 'Female', '8.7'),\n",
              " ('2024-06-19', '9767', '24', 'Female', '6.27'),\n",
              " ('2024-01-15', '2674', '51', 'Female', '7.27'),\n",
              " ('2024-02-24', '4836', '30', 'Female', '5.42'),\n",
              " ('2024-09-13', '9308', '36', 'Female', '6.1'),\n",
              " ('2024-05-23', '9276', '29', 'Female', '3.76'),\n",
              " ('2024-11-21', '4686', '42', 'Female', '3.14'),\n",
              " ('2024-01-27', '1454', '39', 'Female', '4.26'),\n",
              " ('2024-06-09', '2795', '56', 'Female', '3.33'),\n",
              " ('2024-03-10', '5789', '50', 'Female', '5.38'),\n",
              " ('2024-11-05', '7417', '44', 'Female', '5.91'),\n",
              " ('2024-11-12', '6516', '42', 'Female', '4.52'),\n",
              " ('2024-09-29', '7609', '40', 'Female', '3.47'),\n",
              " ('2024-08-27', '5530', '37', 'Female', '5.65'),\n",
              " ('2024-10-09', '3661', '52', 'Female', '7.66'),\n",
              " ('2024-05-26', '7783', '55', 'Female', '6.32'),\n",
              " ('2024-08-04', '1478', '30', 'Female', '3.14'),\n",
              " ('2024-02-27', '4328', '30', 'Female', '5.88'),\n",
              " ('2024-12-29', '3030', '47', 'Female', '6.53'),\n",
              " ('2024-03-29', '3550', '39', 'Female', '4.67'),\n",
              " ('2024-12-05', '3173', '37', 'Female', '4.1'),\n",
              " ('2024-08-14', '6312', '27', 'Female', '5.79'),\n",
              " ('2024-05-24', '7091', '42', 'Female', '3.65'),\n",
              " ('2024-11-24', '3305', '21', 'Female', '1.08'),\n",
              " ('2024-03-20', '7952', '51', 'Female', '7.57'),\n",
              " ('2024-10-31', '6681', '31', 'Female', '3.83'),\n",
              " ('2024-06-08', '9588', '55', 'Female', '4.12'),\n",
              " ('2024-04-26', '5019', '28', 'Female', '4.66'),\n",
              " ('2024-07-20', '3705', '31', 'Female', '2.12'),\n",
              " ('2024-01-16', '3020', '39', 'Female', '3.25'),\n",
              " ('2024-04-11', '9794', '59', 'Female', '6.74'),\n",
              " ('2024-06-10', '6202', '44', 'Female', '4.45'),\n",
              " ('2024-09-16', '5971', '35', 'Female', '5.31'),\n",
              " ('2024-01-29', '3122', '22', 'Female', '7.22'),\n",
              " ('2024-07-20', '1493', '55', 'Female', '2.64'),\n",
              " ('2024-06-30', '3083', '37', 'Female', '4.43'),\n",
              " ('2024-11-01', '3864', '52', 'Female', '7.49'),\n",
              " ('2024-10-18', '8381', '57', 'Female', '3.74'),\n",
              " ('2024-08-25', '9024', '39', 'Female', '3.7'),\n",
              " ('2024-05-02', '4253', '42', 'Female', '2.44'),\n",
              " ('2024-06-24', '5887', '37', 'Female', '3.76'),\n",
              " ('2024-01-13', '8424', '19', 'Female', '6.89'),\n",
              " ('2024-06-18', '7220', '22', 'Female', '2.64'),\n",
              " ('2024-12-13', '9614', '38', 'Female', '4.96'),\n",
              " ('2024-09-13', '8442', '40', 'Female', '5.23'),\n",
              " ('2024-09-18', '7686', '58', 'Female', '7.58'),\n",
              " ('2024-09-09', '5499', '22', 'Female', '6.09'),\n",
              " ('2024-02-05', '8045', '39', 'Female', '6.06'),\n",
              " ('2024-03-16', '8928', '53', 'Female', '3.12'),\n",
              " ('2024-10-16', '7697', '25', 'Female', '2.81'),\n",
              " ('2024-05-29', '3099', '44', 'Female', '2.66'),\n",
              " ('2024-06-09', '6914', '57', 'Female', '4.92'),\n",
              " ('2024-08-10', '5979', '59', 'Female', '6.14'),\n",
              " ('2024-07-18', '1500', '28', 'Female', '3.09'),\n",
              " ('2024-04-28', '6424', '37', 'Female', '5.32'),\n",
              " ('2024-10-15', '9951', '20', 'Female', '7.93'),\n",
              " ('2024-07-26', '7586', '25', 'Female', '7.22'),\n",
              " ('2024-04-02', '9974', '38', 'Female', '3.08'),\n",
              " ('2024-02-20', '8138', '39', 'Female', '4.73'),\n",
              " ('2024-05-13', '8556', '58', 'Female', '6.67'),\n",
              " ('2024-10-24', '6399', '18', 'Female', '4.05'),\n",
              " ('2024-04-23', '4426', '34', 'Female', '4.44'),\n",
              " ('2024-05-17', '3762', '31', 'Female', '4.25'),\n",
              " ('2024-01-21', '6060', '24', 'Female', '3.81'),\n",
              " ('2024-05-21', '2142', '46', 'Female', '4.78'),\n",
              " ('2024-05-26', '9114', '53', 'Female', '6.17'),\n",
              " ('2024-01-16', '7609', '35', 'Female', '2.23'),\n",
              " ('2024-09-17', '6301', '39', 'Female', '1.97'),\n",
              " ('2024-06-21', '7822', '18', 'Female', '6.7'),\n",
              " ('2024-07-02', '5303', '33', 'Female', '7.1'),\n",
              " ('2024-12-10', '7453', '45', 'Female', '8.94'),\n",
              " ('2024-11-30', '9638', '45', 'Female', '2.49'),\n",
              " ('2024-11-14', '9980', '57', 'Female', '2.58'),\n",
              " ('2024-05-18', '1333', '59', 'Female', '3.63'),\n",
              " ('2024-01-23', '3957', '22', 'Female', '1.93'),\n",
              " ('2024-06-21', '8501', '54', 'Female', '5.57'),\n",
              " ('2024-03-12', '1219', '21', 'Female', '3.71'),\n",
              " ('2024-10-26', '3386', '33', 'Female', '4.67'),\n",
              " ('2024-08-15', '2805', '31', 'Female', '4.96'),\n",
              " ('2024-05-07', '6895', '46', 'Female', '2.87'),\n",
              " ('2024-02-29', '4532', '49', 'Female', '7.74'),\n",
              " ('2024-12-24', '9846', '36', 'Female', '5.49'),\n",
              " ('2024-01-18', '7729', '46', 'Female', '5.55'),\n",
              " ('2024-11-11', '8425', '53', 'Female', '6.36'),\n",
              " ('2024-03-31', '3909', '58', 'Female', '6.64'),\n",
              " ('2024-02-18', '6554', '25', 'Female', '5.07'),\n",
              " ('2024-03-12', '4041', '57', 'Female', '5.53'),\n",
              " ('2024-05-19', '6492', '55', 'Female', '1.05'),\n",
              " ('2024-03-22', '3061', '36', 'Female', '4.7'),\n",
              " ('2024-10-04', '2563', '29', 'Female', '8.95'),\n",
              " ('2024-10-05', '4646', '23', 'Female', '6.59'),\n",
              " ('2024-11-28', '4012', '59', 'Female', '0.99'),\n",
              " ('2024-03-06', '4410', '55', 'Female', '4.24'),\n",
              " ('2024-10-28', '5709', '59', 'Female', '7.77'),\n",
              " ('2024-07-25', '8472', '53', 'Female', '2.56'),\n",
              " ('2024-11-05', '3753', '39', 'Female', '8.28'),\n",
              " ('2024-06-23', '4995', '35', 'Female', '5.75'),\n",
              " ('2024-11-07', '8428', '20', 'Female', '5.06'),\n",
              " ('2024-01-10', '4630', '21', 'Female', '1.9'),\n",
              " ('2024-07-11', '7023', '35', 'Female', '4.41'),\n",
              " ('2024-10-29', '2561', '41', 'Female', '2.69'),\n",
              " ('2024-07-31', '4978', '28', 'Female', '2.18'),\n",
              " ('2024-02-16', '8682', '19', 'Female', '8.53'),\n",
              " ('2024-06-20', '3010', '40', 'Female', '6.7'),\n",
              " ('2024-07-25', '9796', '22', 'Female', '1.92'),\n",
              " ('2024-01-30', '7289', '43', 'Female', '5.02'),\n",
              " ('2024-04-25', '7886', '31', 'Female', '2.0'),\n",
              " ('2024-06-04', '8661', '53', 'Female', '4.84'),\n",
              " ('2024-06-27', '7413', '59', 'Female', '1.79'),\n",
              " ('2024-06-09', '2605', '50', 'Female', '6.84'),\n",
              " ('2024-05-30', '2659', '49', 'Female', '5.64'),\n",
              " ('2024-08-08', '2360', '26', 'Female', '5.98'),\n",
              " ('2024-01-26', '2333', '58', 'Female', '3.92'),\n",
              " ('2024-11-14', '8046', '32', 'Female', '7.88'),\n",
              " ('2024-11-06', '2177', '32', 'Female', '4.44'),\n",
              " ('2024-05-03', '5451', '43', 'Female', '1.1'),\n",
              " ('2024-10-01', '5054', '58', 'Female', '3.07'),\n",
              " ('2024-03-04', '4096', '25', 'Female', '3.89'),\n",
              " ('2024-08-15', '9391', '42', 'Female', '7.22'),\n",
              " ('2024-05-01', '9604', '25', 'Female', '4.82'),\n",
              " ('2024-05-12', '7299', '39', 'Female', '6.89'),\n",
              " ('2024-03-17', '9734', '56', 'Female', '6.19'),\n",
              " ('2024-08-11', '3026', '29', 'Female', '5.03'),\n",
              " ('2024-12-13', '5604', '58', 'Female', '4.25'),\n",
              " ('2024-02-03', '1328', '51', 'Female', '8.83'),\n",
              " ('2024-12-19', '9186', '54', 'Female', '5.6'),\n",
              " ('2024-12-15', '7071', '22', 'Female', '5.54'),\n",
              " ('2024-06-13', '3513', '50', 'Female', '2.12'),\n",
              " ('2024-04-03', '2750', '41', 'Female', '1.45'),\n",
              " ('2024-02-04', '3467', '32', 'Female', '5.45'),\n",
              " ('2024-09-01', '1065', '53', 'Female', '4.84'),\n",
              " ('2024-08-19', '2832', '48', 'Female', '4.88'),\n",
              " ('2024-01-21', '7184', '28', 'Female', '5.56'),\n",
              " ('2024-04-03', '7883', '40', 'Female', '6.02'),\n",
              " ('2024-01-21', '9487', '59', 'Female', '7.58'),\n",
              " ('2024-12-16', '6554', '54', 'Female', '5.48'),\n",
              " ('2024-08-29', '6860', '27', 'Female', '4.96'),\n",
              " ('2024-07-08', '6935', '45', 'Female', '4.48'),\n",
              " ('2024-09-09', '3768', '51', 'Female', '6.78'),\n",
              " ('2024-10-31', '1177', '33', 'Female', '7.11'),\n",
              " ('2024-12-22', '3201', '21', 'Female', '5.68'),\n",
              " ('2024-07-30', '2903', '34', 'Female', '6.07'),\n",
              " ('2024-01-04', '1315', '39', 'Female', '4.28'),\n",
              " ('2024-05-09', '4032', '46', 'Female', '3.22'),\n",
              " ('2024-09-11', '6350', '28', 'Female', '4.47'),\n",
              " ('2024-02-24', '1841', '34', 'Female', '4.71'),\n",
              " ('2024-04-11', '9880', '19', 'Female', '2.65'),\n",
              " ('2024-05-30', '8234', '20', 'Female', '3.07'),\n",
              " ('2024-09-17', '8791', '41', 'Female', '5.56'),\n",
              " ('2024-06-20', '4394', '18', 'Female', '2.85'),\n",
              " ('2024-04-16', '4266', '39', 'Female', '4.37'),\n",
              " ('2024-12-07', '5000', '58', 'Female', '6.81'),\n",
              " ('2024-05-05', '4006', '54', 'Female', '8.5'),\n",
              " ('2024-11-04', '9965', '24', 'Female', '6.71'),\n",
              " ('2024-05-27', '4770', '38', 'Female', '4.95'),\n",
              " ('2024-10-04', '9544', '22', 'Female', '7.93'),\n",
              " ('2024-02-06', '2605', '37', 'Female', '6.27'),\n",
              " ('2024-08-03', '1602', '35', 'Female', '3.07'),\n",
              " ('2024-05-26', '1551', '23', 'Female', '6.03'),\n",
              " ('2024-02-20', '4808', '22', 'Female', '6.02'),\n",
              " ('2024-03-04', '1529', '51', 'Female', '5.1'),\n",
              " ('2024-07-29', '1132', '22', 'Female', '7.19'),\n",
              " ('2024-12-11', '9126', '58', 'Female', '7.61'),\n",
              " ('2024-09-09', '7414', '46', 'Female', '8.01'),\n",
              " ('2024-12-01', '4655', '45', 'Female', '1.51'),\n",
              " ('2024-03-19', '4978', '57', 'Female', '6.25'),\n",
              " ('2024-04-28', '9775', '31', 'Female', '5.08'),\n",
              " ('2024-02-06', '7240', '56', 'Female', '5.35'),\n",
              " ('2024-01-18', '5379', '21', 'Female', '5.11'),\n",
              " ('2024-01-21', '6794', '24', 'Female', '5.07'),\n",
              " ('2024-11-25', '6575', '40', 'Female', '5.12'),\n",
              " ('2024-06-10', '6612', '22', 'Female', '5.07'),\n",
              " ('2024-08-09', '5983', '43', 'Female', '4.59'),\n",
              " ('2024-03-04', '5661', '19', 'Female', '2.41'),\n",
              " ('2024-07-28', '6978', '54', 'Female', '5.08'),\n",
              " ('2024-10-26', '1900', '59', 'Female', '4.89'),\n",
              " ('2024-07-13', '2522', '43', 'Female', '6.99'),\n",
              " ('2024-02-25', '9199', '41', 'Female', '4.55'),\n",
              " ('2024-10-27', '7797', '58', 'Female', '4.85'),\n",
              " ('2024-06-28', '8020', '49', 'Female', '3.14'),\n",
              " ('2024-11-19', '2674', '30', 'Female', '6.07'),\n",
              " ('2024-02-06', '1105', '38', 'Female', '5.18'),\n",
              " ('2024-08-28', '6978', '55', 'Female', '7.55'),\n",
              " ('2024-10-25', '5434', '22', 'Female', '6.46'),\n",
              " ('2024-08-05', '6516', '47', 'Female', '6.48'),\n",
              " ('2024-10-23', '8010', '45', 'Female', '5.81'),\n",
              " ('2024-07-06', '7909', '55', 'Female', '4.06'),\n",
              " ('2024-03-09', '5599', '33', 'Female', '6.35'),\n",
              " ('2024-01-16', '6929', '58', 'Female', '5.12'),\n",
              " ('2024-12-17', '7897', '30', 'Female', '7.24'),\n",
              " ('2024-12-05', '9141', '45', 'Female', '5.21'),\n",
              " ('2024-12-03', '6334', '46', 'Female', '1.66'),\n",
              " ('2024-12-17', '6132', '22', 'Female', '2.72'),\n",
              " ('2024-02-11', '2738', '47', 'Female', '4.57'),\n",
              " ('2024-04-14', '8636', '22', 'Female', '3.82'),\n",
              " ('2024-03-22', '8068', '32', 'Female', '4.35'),\n",
              " ('2024-09-22', '3902', '34', 'Female', '4.44'),\n",
              " ('2024-12-06', '7005', '18', 'Female', '4.41'),\n",
              " ('2024-07-12', '1058', '48', 'Female', '4.03'),\n",
              " ('2024-09-03', '1984', '38', 'Female', '5.21'),\n",
              " ('2024-12-03', '1897', '27', 'Female', '7.09'),\n",
              " ('2024-06-02', '2447', '20', 'Female', '4.54'),\n",
              " ('2024-01-25', '6351', '29', 'Female', '6.22'),\n",
              " ('2024-09-24', '7166', '28', 'Female', '7.92'),\n",
              " ('2024-11-09', '5114', '49', 'Female', '4.54'),\n",
              " ('2024-01-28', '8772', '38', 'Female', '4.0'),\n",
              " ('2024-03-31', '2029', '42', 'Female', '1.69'),\n",
              " ('2024-04-12', '7148', '28', 'Female', '6.18'),\n",
              " ('2024-12-08', '9099', '43', 'Female', '5.33'),\n",
              " ('2024-11-24', '5989', '30', 'Female', '3.24'),\n",
              " ('2024-01-01', '7356', '38', 'Female', '2.65'),\n",
              " ('2024-04-30', '8630', '23', 'Female', '5.49'),\n",
              " ('2024-03-28', '6628', '27', 'Female', '5.77'),\n",
              " ('2024-01-26', '6832', '29', 'Female', '1.9'),\n",
              " ('2024-08-09', '6532', '47', 'Female', '4.31'),\n",
              " ('2024-10-15', '5301', '35', 'Female', '4.06'),\n",
              " ('2024-03-03', '2587', '27', 'Female', '6.99'),\n",
              " ('2024-03-29', '3578', '20', 'Female', '8.5'),\n",
              " ('2024-02-04', '8150', '30', 'Female', '5.28'),\n",
              " ('2024-09-12', '8581', '21', 'Female', '7.46'),\n",
              " ('2024-05-21', '5999', '41', 'Female', '6.69'),\n",
              " ('2024-02-28', '2463', '41', 'Female', '5.42'),\n",
              " ('2024-01-20', '5847', '38', 'Female', '4.57'),\n",
              " ('2024-08-27', '7520', '21', 'Female', '3.92'),\n",
              " ('2024-04-28', '8840', '40', 'Female', '5.21'),\n",
              " ('2024-04-14', '5696', '41', 'Female', '2.78'),\n",
              " ('2024-09-12', '4062', '21', 'Female', '8.85'),\n",
              " ('2024-05-28', '4480', '31', 'Female', '5.51'),\n",
              " ('2024-11-28', '8698', '34', 'Female', '3.96'),\n",
              " ('2024-12-19', '7175', '42', 'Female', '6.67'),\n",
              " ('2024-08-10', '6780', '24', 'Female', '5.76'),\n",
              " ('2024-04-06', '9471', '59', 'Female', '3.76'),\n",
              " ('2024-11-30', '3234', '59', 'Female', '1.88'),\n",
              " ('2024-01-27', '3253', '44', 'Female', '6.66'),\n",
              " ('2024-03-24', '2793', '39', 'Female', '2.23'),\n",
              " ('2024-05-10', '5254', '40', 'Female', '8.7'),\n",
              " ('2024-01-28', '2260', '21', 'Female', '5.22'),\n",
              " ('2024-06-08', '7659', '38', 'Female', '3.7'),\n",
              " ('2024-05-19', '8154', '28', 'Female', '3.59'),\n",
              " ('2024-01-07', '1461', '56', 'Female', '5.12'),\n",
              " ('2024-11-26', '8172', '48', 'Female', '2.76'),\n",
              " ('2024-12-28', '5188', '48', 'Female', '8.01'),\n",
              " ('2024-12-08', '3383', '21', 'Female', '5.58'),\n",
              " ('2024-04-04', '2882', '53', 'Female', '2.23'),\n",
              " ('2024-05-23', '9032', '50', 'Female', '3.65'),\n",
              " ('2024-05-13', '2057', '24', 'Female', '1.72'),\n",
              " ('2024-08-22', '7254', '43', 'Female', '1.94'),\n",
              " ('2024-07-24', '4938', '33', 'Female', '5.51'),\n",
              " ('2024-12-27', '9166', '30', 'Female', '7.93'),\n",
              " ('2024-09-15', '6494', '39', 'Female', '4.42'),\n",
              " ('2024-02-25', '8221', '34', 'Female', '6.61'),\n",
              " ('2024-02-15', '6163', '51', 'Female', '7.86'),\n",
              " ('2024-07-04', '6400', '58', 'Female', '5.19'),\n",
              " ('2024-06-07', '7741', '21', 'Female', '6.25'),\n",
              " ('2024-02-04', '2092', '29', 'Female', '5.75'),\n",
              " ('2024-01-22', '1421', '52', 'Female', '1.16'),\n",
              " ('2024-01-26', '5591', '29', 'Female', '8.66'),\n",
              " ('2024-08-13', '4849', '54', 'Female', '5.03'),\n",
              " ('2024-11-30', '5835', '36', 'Female', '4.58'),\n",
              " ('2024-07-31', '4685', '51', 'Female', '4.43'),\n",
              " ('2024-05-31', '7025', '32', 'Female', '7.75'),\n",
              " ('2024-11-11', '1732', '24', 'Female', '4.0'),\n",
              " ('2024-08-06', '2360', '48', 'Female', '8.0'),\n",
              " ('2024-06-02', '2446', '55', 'Female', '5.34'),\n",
              " ('2024-07-29', '9894', '24', 'Female', '6.01'),\n",
              " ('2024-03-18', '2569', '34', 'Female', '4.34'),\n",
              " ('2024-07-05', '7001', '22', 'Female', '6.33'),\n",
              " ('2024-11-28', '6777', '46', 'Female', '6.6'),\n",
              " ('2024-12-29', '1641', '26', 'Female', '3.92'),\n",
              " ('2024-04-04', '1598', '22', 'Female', '2.8'),\n",
              " ('2024-11-06', '5887', '39', 'Female', '1.75'),\n",
              " ('2024-12-15', '2547', '32', 'Female', '1.66'),\n",
              " ('2024-07-16', '5068', '57', 'Female', '6.36'),\n",
              " ('2024-09-12', '3581', '55', 'Female', '5.86'),\n",
              " ('2024-11-30', '3451', '53', 'Female', '5.88'),\n",
              " ('2024-02-04', '7087', '24', 'Female', '6.68'),\n",
              " ('2024-06-05', '5302', '35', 'Female', '4.48'),\n",
              " ('2024-02-06', '1723', '29', 'Female', '3.05'),\n",
              " ('2024-04-14', '3985', '49', 'Female', '5.72'),\n",
              " ('2024-09-05', '8810', '20', 'Female', '4.76'),\n",
              " ('2024-09-25', '1542', '47', 'Female', '3.77'),\n",
              " ('2024-11-24', '9387', '42', 'Female', '5.98'),\n",
              " ('2024-04-15', '7822', '47', 'Female', '4.59'),\n",
              " ('2024-11-30', '6698', '22', 'Female', '5.83'),\n",
              " ('2024-10-13', '2568', '46', 'Female', '5.29'),\n",
              " ('2024-08-24', '6869', '41', 'Female', '2.86'),\n",
              " ('2024-09-29', '5456', '20', 'Female', '5.27'),\n",
              " ('2024-09-16', '5387', '52', 'Female', '6.14'),\n",
              " ('2024-08-13', '3142', '23', 'Female', '7.36'),\n",
              " ('2024-12-16', '1960', '18', 'Female', '9.28'),\n",
              " ('2024-07-08', '7465', '27', 'Female', '5.46'),\n",
              " ('2024-03-11', '5794', '55', 'Female', '7.75'),\n",
              " ('2024-12-01', '9460', '18', 'Female', '6.23'),\n",
              " ('2024-10-16', '2212', '34', 'Female', '5.67'),\n",
              " ('2024-09-25', '4917', '34', 'Female', '4.9'),\n",
              " ('2024-12-18', '9544', '52', 'Female', '5.24'),\n",
              " ('2024-10-20', '8030', '39', 'Female', '5.9'),\n",
              " ('2024-11-28', '2197', '24', 'Female', '4.94'),\n",
              " ('2024-05-14', '2109', '37', 'Female', '5.05'),\n",
              " ('2024-01-05', '8829', '29', 'Female', '2.25'),\n",
              " ('2024-04-02', '3320', '39', 'Female', '6.4'),\n",
              " ('2024-01-17', '6278', '43', 'Female', '3.09'),\n",
              " ('2024-02-26', '3505', '58', 'Female', '4.68'),\n",
              " ('2024-11-22', '7386', '23', 'Female', '5.67'),\n",
              " ('2024-07-26', '9664', '56', 'Female', '4.64'),\n",
              " ('2024-10-24', '4045', '26', 'Female', '4.74'),\n",
              " ('2024-11-02', '9312', '43', 'Female', '4.69'),\n",
              " ('2024-01-28', '8967', '58', 'Female', '6.96'),\n",
              " ('2024-01-27', '1788', '56', 'Female', '4.33'),\n",
              " ('2024-02-27', '6176', '51', 'Female', '5.08'),\n",
              " ('2024-04-02', '6083', '58', 'Female', '2.44'),\n",
              " ('2024-07-09', '5149', '41', 'Female', '1.21'),\n",
              " ('2024-08-23', '7992', '30', 'Female', '3.44'),\n",
              " ('2024-01-31', '1204', '18', 'Female', '3.85'),\n",
              " ('2024-06-18', '6008', '48', 'Female', '3.74'),\n",
              " ('2024-11-22', '5718', '50', 'Female', '2.48'),\n",
              " ('2024-12-15', '4823', '18', 'Female', '4.58'),\n",
              " ('2024-02-10', '4981', '20', 'Female', '5.24'),\n",
              " ('2024-02-25', '8221', '48', 'Female', '6.92'),\n",
              " ('2024-01-09', '8945', '18', 'Female', '5.02'),\n",
              " ('2024-02-27', '6506', '25', 'Female', '8.48'),\n",
              " ('2024-01-01', '6514', '56', 'Female', '4.65'),\n",
              " ('2024-07-02', '4651', '54', 'Female', '4.47'),\n",
              " ('2024-09-19', '3190', '20', 'Female', '3.63'),\n",
              " ('2024-01-30', '2529', '27', 'Female', '1.92'),\n",
              " ('2024-06-24', '9574', '23', 'Female', '6.81'),\n",
              " ('2024-06-28', '1773', '27', 'Female', '8.33'),\n",
              " ('2024-07-12', '9783', '19', 'Female', '1.8'),\n",
              " ('2024-03-16', '5051', '21', 'Female', '4.86'),\n",
              " ('2024-11-09', '6420', '30', 'Female', '4.02'),\n",
              " ('2024-04-06', '4282', '26', 'Female', '3.91'),\n",
              " ('2024-05-29', '9892', '22', 'Female', '6.85'),\n",
              " ('2024-12-13', '4524', '49', 'Female', '4.75'),\n",
              " ('2024-12-02', '4316', '39', 'Female', '1.9'),\n",
              " ('2024-07-01', '6185', '20', 'Female', '5.01'),\n",
              " ('2024-03-26', '3261', '19', 'Female', '7.04'),\n",
              " ('2024-06-02', '9521', '51', 'Female', '6.64'),\n",
              " ('2024-11-12', '4686', '41', 'Female', '8.67'),\n",
              " ('2024-08-22', '4238', '24', 'Female', '6.9'),\n",
              " ('2024-12-04', '2358', '38', 'Female', '3.56'),\n",
              " ('2024-11-10', '5307', '36', 'Female', '4.15'),\n",
              " ('2024-03-19', '8566', '23', 'Female', '5.71'),\n",
              " ('2024-06-19', '1123', '24', 'Female', '5.07'),\n",
              " ('2024-08-25', '5627', '53', 'Female', '5.16'),\n",
              " ('2024-07-22', '2352', '24', 'Female', '3.54'),\n",
              " ('2024-12-15', '5117', '50', 'Female', '4.63'),\n",
              " ('2024-09-22', '1498', '59', 'Female', '3.6'),\n",
              " ('2024-08-29', '5482', '24', 'Female', '4.33'),\n",
              " ('2024-04-30', '7290', '43', 'Female', '8.58'),\n",
              " ('2024-09-20', '1739', '56', 'Female', '6.19'),\n",
              " ('2024-01-21', '2791', '41', 'Female', '3.18'),\n",
              " ('2024-04-08', '9846', '20', 'Female', '6.9'),\n",
              " ('2024-11-28', '6351', '47', 'Female', '7.24'),\n",
              " ('2024-01-24', '9792', '26', 'Female', '4.31'),\n",
              " ('2024-05-17', '6674', '43', 'Female', '5.2'),\n",
              " ('2024-04-23', '2540', '19', 'Female', '1.18'),\n",
              " ('2024-04-04', '8496', '20', 'Female', '6.52'),\n",
              " ('2024-11-01', '4032', '43', 'Female', '5.72'),\n",
              " ('2024-09-26', '2884', '28', 'Female', '5.05'),\n",
              " ('2024-09-16', '6781', '30', 'Female', '8.09'),\n",
              " ('2024-09-22', '1503', '23', 'Female', '4.45'),\n",
              " ('2024-10-23', '7037', '26', 'Female', '6.89'),\n",
              " ('2024-10-28', '5881', '40', 'Female', '4.77'),\n",
              " ('2024-04-19', '7233', '54', 'Female', '3.66'),\n",
              " ('2024-11-28', '2992', '45', 'Female', '2.96'),\n",
              " ('2024-12-10', '6534', '56', 'Female', '4.66'),\n",
              " ('2024-05-11', '5535', '28', 'Female', '4.9'),\n",
              " ('2024-05-27', '3294', '19', 'Female', '6.43'),\n",
              " ('2024-10-26', '1350', '24', 'Female', '2.19'),\n",
              " ('2024-01-22', '8904', '43', 'Female', '7.58'),\n",
              " ('2024-11-14', '3141', '32', 'Female', '3.37'),\n",
              " ('2024-08-24', '5172', '54', 'Female', '3.94'),\n",
              " ('2024-03-18', '9380', '48', 'Female', '5.92'),\n",
              " ('2024-11-17', '7710', '25', 'Female', '5.59'),\n",
              " ('2024-05-18', '1303', '59', 'Female', '7.01'),\n",
              " ('2024-11-30', '4470', '45', 'Female', '6.12'),\n",
              " ('2024-03-24', '8856', '47', 'Female', '4.34'),\n",
              " ('2024-11-02', '1937', '36', 'Female', '6.58'),\n",
              " ('2024-09-04', '1003', '18', 'Female', '4.34'),\n",
              " ('2024-11-05', '3994', '24', 'Female', '0.78'),\n",
              " ('2024-07-21', '8874', '30', 'Female', '7.09'),\n",
              " ('2024-11-19', '7350', '58', 'Female', '5.61'),\n",
              " ('2024-01-25', '2533', '46', 'Female', '8.98'),\n",
              " ('2024-11-20', '4827', '25', 'Female', '3.0'),\n",
              " ('2024-06-29', '7276', '22', 'Female', '5.32'),\n",
              " ('2024-06-23', '1675', '36', 'Female', '7.43'),\n",
              " ('2024-03-17', '8738', '31', 'Female', '7.8'),\n",
              " ('2024-07-21', '7863', '46', 'Female', '7.95'),\n",
              " ('2024-10-10', '8491', '49', 'Female', '2.47'),\n",
              " ('2024-08-12', '5170', '39', 'Female', '5.2'),\n",
              " ('2024-06-01', '2255', '58', 'Female', '3.86'),\n",
              " ('2024-08-12', '8398', '23', 'Female', '5.21'),\n",
              " ('2024-01-07', '8861', '26', 'Female', '5.35'),\n",
              " ('2024-10-16', '1946', '26', 'Female', '4.24'),\n",
              " ('2024-07-05', '9845', '27', 'Female', '5.89'),\n",
              " ('2024-03-19', '6194', '41', 'Female', '6.82'),\n",
              " ('2024-04-16', '4793', '38', 'Female', '3.34'),\n",
              " ('2024-06-08', '6998', '25', 'Female', '5.69'),\n",
              " ('2024-07-16', '2958', '34', 'Female', '8.94'),\n",
              " ('2024-11-13', '3407', '57', 'Female', '5.13'),\n",
              " ('2024-10-25', '8254', '35', 'Female', '4.78'),\n",
              " ('2024-10-11', '4973', '46', 'Female', '6.21'),\n",
              " ('2024-05-15', '7330', '19', 'Female', '4.86'),\n",
              " ('2024-05-22', '2123', '43', 'Female', '4.53'),\n",
              " ('2024-04-27', '7935', '38', 'Female', '3.91'),\n",
              " ('2024-09-08', '3798', '25', 'Female', '5.11'),\n",
              " ('2024-01-06', '6533', '27', 'Female', '8.39'),\n",
              " ('2024-06-08', '4696', '47', 'Female', '2.66'),\n",
              " ('2024-11-06', '7305', '41', 'Female', '7.89'),\n",
              " ('2024-03-04', '1175', '49', 'Female', '6.21'),\n",
              " ('2024-03-02', '8313', '28', 'Female', '3.01'),\n",
              " ('2024-10-19', '2719', '44', 'Female', '6.47'),\n",
              " ('2024-06-26', '1327', '25', 'Female', '5.56'),\n",
              " ('2024-09-02', '8542', '41', 'Female', '4.27'),\n",
              " ('2024-11-27', '2625', '42', 'Female', '2.36'),\n",
              " ('2024-08-17', '8606', '52', 'Female', '2.56'),\n",
              " ('2024-07-14', '6584', '55', 'Female', '6.65'),\n",
              " ('2024-07-31', '2962', '59', 'Female', '1.93'),\n",
              " ('2024-11-22', '2233', '57', 'Female', '6.71'),\n",
              " ('2024-02-28', '9485', '37', 'Female', '7.28'),\n",
              " ('2024-08-05', '7852', '21', 'Female', '4.5'),\n",
              " ('2024-11-09', '6629', '27', 'Female', '7.56'),\n",
              " ('2024-04-30', '3220', '51', 'Female', '4.59'),\n",
              " ('2024-07-22', '3934', '40', 'Female', '7.46'),\n",
              " ('2024-04-15', '9493', '30', 'Female', '6.75'),\n",
              " ('2024-02-26', '7124', '55', 'Female', '9.12'),\n",
              " ('2024-10-15', '5228', '34', 'Female', '2.6'),\n",
              " ('2024-05-21', '9422', '19', 'Female', '7.05'),\n",
              " ('2024-07-22', '1189', '51', 'Female', '6.51'),\n",
              " ('2024-02-10', '1916', '30', 'Female', '2.31'),\n",
              " ('2024-06-30', '2960', '26', 'Female', '3.23'),\n",
              " ('2024-04-22', '2335', '54', 'Female', '3.95'),\n",
              " ('2024-03-27', '7743', '22', 'Female', '4.37'),\n",
              " ('2024-08-30', '6326', '29', 'Female', '1.59'),\n",
              " ('2024-10-14', '2062', '44', 'Female', '5.64'),\n",
              " ('2024-10-30', '8059', '35', 'Female', '5.27'),\n",
              " ('2024-09-09', '7734', '21', 'Female', '3.97'),\n",
              " ('2024-05-20', '7659', '40', 'Female', '3.84'),\n",
              " ('2024-07-24', '4286', '55', 'Female', '3.96'),\n",
              " ('2024-10-20', '3304', '22', 'Female', '5.17'),\n",
              " ('2024-03-13', '8903', '54', 'Female', '5.17'),\n",
              " ('2024-03-11', '9812', '49', 'Female', '7.63'),\n",
              " ('2024-06-18', '2691', '23', 'Female', '9.05'),\n",
              " ('2024-11-24', '8400', '29', 'Female', '2.91'),\n",
              " ('2024-06-26', '6726', '52', 'Female', '7.19'),\n",
              " ('2024-03-05', '1869', '21', 'Female', '6.18'),\n",
              " ('2024-03-26', '8039', '26', 'Female', '5.4'),\n",
              " ('2024-05-11', '1760', '53', 'Female', '2.9'),\n",
              " ('2024-01-01', '7700', '21', 'Female', '5.11'),\n",
              " ('2024-11-22', '1941', '26', 'Female', '6.64'),\n",
              " ('2024-08-30', '2462', '36', 'Female', '3.49'),\n",
              " ('2024-06-10', '2132', '50', 'Female', '2.72'),\n",
              " ('2024-08-12', '9358', '23', 'Female', '4.31'),\n",
              " ('2024-07-21', '8807', '24', 'Female', '6.12'),\n",
              " ('2024-03-20', '6382', '33', 'Female', '5.57'),\n",
              " ('2024-04-15', '5293', '35', 'Female', '6.21'),\n",
              " ('2024-03-12', '2466', '48', 'Female', '3.1'),\n",
              " ('2024-10-19', '6015', '36', 'Female', '6.23'),\n",
              " ('2024-02-06', '1504', '46', 'Female', '7.28'),\n",
              " ('2024-08-19', '3920', '25', 'Female', '3.17'),\n",
              " ('2024-06-04', '5911', '38', 'Female', '7.38'),\n",
              " ('2024-06-27', '6366', '18', 'Female', '3.87'),\n",
              " ('2024-11-22', '5934', '46', 'Female', '2.99'),\n",
              " ('2024-08-11', '3404', '46', 'Female', '6.72'),\n",
              " ('2024-02-11', '5835', '30', 'Female', '5.12'),\n",
              " ('2024-04-18', '6645', '55', 'Female', '2.25'),\n",
              " ('2024-09-05', '6217', '36', 'Female', '6.67'),\n",
              " ('2024-10-10', '7471', '52', 'Female', '1.55'),\n",
              " ('2024-12-13', '9684', '41', 'Female', '6.69'),\n",
              " ('2024-07-08', '4487', '40', 'Female', '4.48'),\n",
              " ('2024-11-07', '6974', '35', 'Female', '9.12'),\n",
              " ('2024-01-07', '2675', '31', 'Female', '6.71'),\n",
              " ('2024-03-08', '4820', '33', 'Female', '7.94'),\n",
              " ('2024-08-30', '5066', '25', 'Female', '6.9'),\n",
              " ('2024-02-04', '8142', '35', 'Female', '6.98'),\n",
              " ('2024-11-20', '5732', '41', 'Female', '4.73'),\n",
              " ('2024-06-29', '8094', '55', 'Female', '1.8'),\n",
              " ('2024-09-28', '8635', '33', 'Female', '5.91'),\n",
              " ('2024-07-02', '6543', '48', 'Female', '5.72'),\n",
              " ('2024-07-23', '6503', '26', 'Female', '2.65'),\n",
              " ('2024-10-23', '8312', '25', 'Female', '4.22'),\n",
              " ('2024-08-03', '1123', '33', 'Female', '3.75'),\n",
              " ('2024-04-26', '4571', '21', 'Female', '3.11'),\n",
              " ('2024-05-10', '7593', '28', 'Female', '6.61'),\n",
              " ('2024-11-07', '3081', '18', 'Female', '5.64'),\n",
              " ('2024-05-31', '4161', '46', 'Female', '4.26'),\n",
              " ('2024-07-17', '4807', '30', 'Female', '4.31'),\n",
              " ('2024-06-29', '2788', '50', 'Female', '1.59'),\n",
              " ('2024-02-09', '9770', '36', 'Female', '4.95'),\n",
              " ('2024-07-03', '1882', '52', 'Female', '6.08'),\n",
              " ('2024-06-15', '7611', '28', 'Female', '6.92'),\n",
              " ('2024-12-31', '5387', '27', 'Female', '1.97'),\n",
              " ('2024-07-17', '1506', '53', 'Female', '1.59'),\n",
              " ('2024-12-02', '7058', '53', 'Female', '8.43'),\n",
              " ('2024-04-09', '3786', '51', 'Female', '8.95'),\n",
              " ('2024-07-31', '7258', '21', 'Female', '2.03'),\n",
              " ('2024-12-24', '3113', '59', 'Female', '7.18'),\n",
              " ('2024-07-05', '3554', '28', 'Female', '6.55'),\n",
              " ('2024-01-16', '7073', '25', 'Female', '3.84'),\n",
              " ('2024-12-31', '5020', '35', 'Female', '2.86'),\n",
              " ('2024-11-16', '9066', '46', 'Female', '4.64'),\n",
              " ('2024-05-21', '5858', '23', 'Female', '5.81'),\n",
              " ('2024-03-08', '4066', '29', 'Female', '5.82'),\n",
              " ('2024-10-25', '7339', '27', 'Female', '5.2'),\n",
              " ('2024-12-16', '5734', '27', 'Female', '3.86'),\n",
              " ('2024-07-26', '2987', '31', 'Female', '1.27'),\n",
              " ('2024-01-05', '3414', '26', 'Female', '4.45'),\n",
              " ('2024-11-10', '3813', '48', 'Female', '3.48'),\n",
              " ('2024-07-25', '2155', '22', 'Female', '7.19'),\n",
              " ('2024-04-15', '8442', '49', 'Female', '4.48'),\n",
              " ('2024-08-08', '1322', '46', 'Female', '1.96'),\n",
              " ('2024-03-21', '4096', '22', 'Female', '7.99'),\n",
              " ('2024-08-19', '4013', '51', 'Female', '6.88'),\n",
              " ('2024-12-31', '4290', '47', 'Female', '4.84'),\n",
              " ('2024-04-30', '3748', '46', 'Female', '3.38'),\n",
              " ('2024-09-03', '2082', '18', 'Female', '3.81'),\n",
              " ('2024-01-27', '3567', '51', 'Female', '6.46'),\n",
              " ('2024-08-31', '8532', '25', 'Female', '3.15'),\n",
              " ('2024-01-31', '5342', '47', 'Female', '3.86'),\n",
              " ('2024-06-29', '8897', '51', 'Female', '6.94'),\n",
              " ('2024-12-08', '8745', '33', 'Female', '7.62'),\n",
              " ('2024-11-09', '8711', '29', 'Female', '3.73'),\n",
              " ...]"
            ]
          },
          "metadata": {},
          "execution_count": 110
        }
      ]
    },
    {
      "cell_type": "markdown",
      "source": [
        "**Display the Date, Person_ID, Age, Gender and Total Sleep Hours of Male and Female**"
      ],
      "metadata": {
        "id": "o6uKSSXklSeG"
      }
    },
    {
      "cell_type": "code",
      "source": [
        "# Car name is column  0\n",
        "(sleep_rest.filter(lambda line: line.split(\",\")[3] in ['Male', 'Female']).\n",
        " map(lambda line: (line.split(\",\")[0],\n",
        "    line.split(\",\")[1],\n",
        "    line.split(\",\")[2],\n",
        "    line.split(\",\")[3],\n",
        "    line.split(\",\")[5])).collect())"
      ],
      "metadata": {
        "colab": {
          "base_uri": "https://localhost:8080/"
        },
        "id": "7iOLqDmskd3j",
        "outputId": "24883799-ffb3-4d6d-f604-68862f32d2e4"
      },
      "execution_count": null,
      "outputs": [
        {
          "output_type": "execute_result",
          "data": {
            "text/plain": [
              "[('2024-11-04', '1769', '41', 'Female', '2.43'),\n",
              " ('2024-08-31', '2528', '20', 'Male', '3.45'),\n",
              " ('2024-07-08', '7439', '38', 'Male', '6.41'),\n",
              " ('2024-01-28', '7278', '26', 'Female', '3.14'),\n",
              " ('2024-02-21', '6116', '49', 'Female', '3.89'),\n",
              " ('2024-02-14', '3693', '45', 'Female', '3.29'),\n",
              " ('2024-04-22', '2853', '29', 'Female', '6.08'),\n",
              " ('2024-09-11', '5389', '41', 'Male', '7.22'),\n",
              " ('2024-10-24', '1262', '33', 'Female', '7.02'),\n",
              " ('2024-04-08', '3255', '20', 'Female', '7.24'),\n",
              " ('2024-12-14', '3961', '35', 'Female', '5.33'),\n",
              " ('2024-05-14', '2218', '34', 'Male', '6.23'),\n",
              " ('2024-10-09', '1225', '38', 'Female', '4.29'),\n",
              " ('2024-01-06', '2060', '41', 'Male', '6.08'),\n",
              " ('2024-08-10', '7709', '20', 'Female', '7.39'),\n",
              " ('2024-10-25', '8343', '56', 'Male', '4.5'),\n",
              " ('2024-11-16', '7655', '33', 'Female', '6.02'),\n",
              " ('2024-02-27', '8509', '59', 'Female', '6.07'),\n",
              " ('2024-09-18', '1876', '49', 'Female', '6.25'),\n",
              " ('2024-11-14', '6177', '43', 'Male', '2.77'),\n",
              " ('2024-02-16', '3141', '22', 'Female', '6.32'),\n",
              " ('2024-04-09', '3849', '48', 'Female', '4.32'),\n",
              " ('2024-06-08', '1851', '41', 'Female', '4.13'),\n",
              " ('2024-02-12', '8723', '46', 'Male', '5.89'),\n",
              " ('2024-04-24', '9808', '24', 'Female', '4.46'),\n",
              " ('2024-07-10', '3786', '52', 'Female', '4.04'),\n",
              " ('2024-12-20', '5968', '47', 'Male', '4.95'),\n",
              " ('2024-05-23', '2062', '59', 'Female', '5.46'),\n",
              " ('2024-09-09', '2542', '30', 'Female', '5.78'),\n",
              " ('2024-05-24', '9702', '24', 'Male', '2.3'),\n",
              " ('2024-05-05', '5268', '30', 'Female', '8.15'),\n",
              " ('2024-11-07', '1928', '55', 'Male', '2.51'),\n",
              " ('2024-06-04', '5468', '25', 'Female', '6.4'),\n",
              " ('2024-05-24', '6320', '50', 'Male', '7.12'),\n",
              " ('2024-04-07', '8266', '18', 'Male', '8.72'),\n",
              " ('2024-12-13', '8239', '56', 'Female', '4.43'),\n",
              " ('2024-07-25', '2252', '38', 'Female', '2.73'),\n",
              " ('2024-09-29', '4579', '37', 'Male', '4.05'),\n",
              " ('2024-11-21', '7376', '29', 'Female', '2.69'),\n",
              " ('2024-12-15', '3878', '34', 'Female', '3.92'),\n",
              " ('2024-03-18', '1364', '43', 'Female', '4.08'),\n",
              " ('2024-08-14', '2906', '32', 'Male', '4.01'),\n",
              " ('2024-01-25', '8561', '20', 'Male', '1.22'),\n",
              " ('2024-04-10', '3739', '43', 'Female', '5.91'),\n",
              " ('2024-11-06', '9434', '48', 'Male', '4.44'),\n",
              " ('2024-10-01', '9915', '50', 'Male', '7.8'),\n",
              " ('2024-08-24', '2065', '42', 'Female', '5.81'),\n",
              " ('2024-10-18', '1793', '44', 'Male', '8.46'),\n",
              " ('2024-04-20', '1827', '29', 'Male', '7.64'),\n",
              " ('2024-09-13', '6732', '38', 'Female', '2.71'),\n",
              " ('2024-05-16', '9393', '43', 'Male', '6.04'),\n",
              " ('2024-01-25', '2990', '23', 'Male', '5.85'),\n",
              " ('2024-12-26', '1688', '37', 'Female', '4.63'),\n",
              " ('2024-11-13', '3079', '47', 'Male', '3.12'),\n",
              " ('2024-04-22', '6797', '21', 'Male', '4.34'),\n",
              " ('2024-10-14', '4462', '46', 'Male', '2.67'),\n",
              " ('2024-04-06', '4675', '25', 'Female', '7.96'),\n",
              " ('2024-04-28', '5491', '37', 'Male', '4.99'),\n",
              " ('2024-04-24', '3573', '26', 'Female', '2.19'),\n",
              " ('2024-03-15', '7981', '35', 'Male', '4.57'),\n",
              " ('2024-12-07', '3074', '48', 'Female', '4.4'),\n",
              " ('2024-04-07', '5150', '41', 'Female', '3.99'),\n",
              " ('2024-07-19', '1153', '19', 'Male', '2.39'),\n",
              " ('2024-05-10', '2252', '47', 'Female', '3.49'),\n",
              " ('2024-08-14', '4241', '51', 'Female', '4.33'),\n",
              " ('2024-08-23', '1271', '27', 'Female', '3.75'),\n",
              " ('2024-10-19', '8832', '18', 'Male', '3.87'),\n",
              " ('2024-11-14', '9202', '30', 'Female', '5.56'),\n",
              " ('2024-08-05', '1936', '20', 'Female', '3.72'),\n",
              " ('2024-05-02', '2218', '42', 'Female', '8.23'),\n",
              " ('2024-09-07', '4972', '43', 'Female', '3.2'),\n",
              " ('2024-02-25', '7183', '44', 'Male', '5.43'),\n",
              " ('2024-06-18', '5286', '44', 'Female', '8.01'),\n",
              " ('2024-03-14', '6352', '49', 'Female', '6.11'),\n",
              " ('2024-01-12', '9073', '18', 'Female', '2.65'),\n",
              " ('2024-01-07', '9220', '28', 'Male', '4.71'),\n",
              " ('2024-10-07', '1791', '29', 'Female', '5.58'),\n",
              " ('2024-12-14', '1959', '41', 'Female', '6.8'),\n",
              " ('2024-09-23', '1213', '41', 'Male', '5.62'),\n",
              " ('2024-01-02', '7368', '50', 'Male', '1.15'),\n",
              " ('2024-11-23', '4389', '37', 'Female', '5.89'),\n",
              " ('2024-07-29', '1661', '54', 'Male', '2.94'),\n",
              " ('2024-01-24', '9595', '54', 'Female', '4.68'),\n",
              " ('2024-10-19', '1281', '46', 'Male', '5.33'),\n",
              " ('2024-08-29', '2239', '51', 'Male', '6.31'),\n",
              " ('2024-11-05', '1454', '42', 'Male', '4.33'),\n",
              " ('2024-09-23', '8010', '25', 'Female', '5.45'),\n",
              " ('2024-08-08', '2177', '42', 'Male', '5.18'),\n",
              " ('2024-04-16', '5431', '32', 'Male', '5.57'),\n",
              " ('2024-06-07', '4654', '59', 'Male', '7.23'),\n",
              " ('2024-10-03', '7869', '45', 'Male', '4.87'),\n",
              " ('2024-09-19', '7780', '56', 'Male', '5.62'),\n",
              " ('2024-08-16', '8843', '20', 'Male', '5.17'),\n",
              " ('2024-08-17', '2735', '20', 'Female', '6.12'),\n",
              " ('2024-10-12', '5211', '25', 'Female', '9.24'),\n",
              " ('2024-05-15', '8123', '20', 'Female', '2.86'),\n",
              " ('2024-08-18', '5895', '50', 'Male', '7.59'),\n",
              " ('2024-01-12', '1560', '59', 'Female', '4.14'),\n",
              " ('2024-06-11', '7721', '44', 'Female', '7.57'),\n",
              " ('2024-03-23', '6448', '45', 'Female', '3.22'),\n",
              " ('2024-05-12', '5481', '44', 'Male', '3.42'),\n",
              " ('2024-12-03', '5268', '49', 'Male', '6.04'),\n",
              " ('2024-05-08', '1571', '46', 'Male', '2.51'),\n",
              " ('2024-03-19', '9080', '40', 'Male', '6.25'),\n",
              " ('2024-04-18', '9599', '52', 'Male', '4.5'),\n",
              " ('2024-01-28', '9754', '22', 'Male', '6.21'),\n",
              " ('2024-11-24', '4009', '32', 'Female', '4.58'),\n",
              " ('2024-05-01', '6341', '56', 'Male', '6.89'),\n",
              " ('2024-12-27', '8353', '33', 'Male', '7.97'),\n",
              " ('2024-04-21', '6132', '26', 'Female', '6.12'),\n",
              " ('2024-12-24', '6891', '37', 'Male', '5.0'),\n",
              " ('2024-09-10', '1161', '47', 'Female', '3.11'),\n",
              " ('2024-12-21', '9623', '53', 'Female', '5.47'),\n",
              " ('2024-09-15', '6068', '47', 'Female', '5.72'),\n",
              " ('2024-02-18', '9895', '22', 'Female', '1.8'),\n",
              " ('2024-06-22', '8531', '48', 'Male', '4.18'),\n",
              " ('2024-04-15', '8896', '30', 'Female', '6.07'),\n",
              " ('2024-08-05', '9100', '41', 'Male', '8.19'),\n",
              " ('2024-03-26', '4062', '50', 'Male', '6.07'),\n",
              " ('2024-03-05', '2537', '39', 'Male', '3.96'),\n",
              " ('2024-06-16', '3105', '45', 'Female', '0.84'),\n",
              " ('2024-10-05', '7744', '36', 'Male', '3.69'),\n",
              " ('2024-02-16', '9078', '57', 'Female', '5.96'),\n",
              " ('2024-08-07', '4200', '25', 'Male', '8.59'),\n",
              " ('2024-01-21', '1669', '30', 'Female', '8.36'),\n",
              " ('2024-06-02', '7788', '52', 'Male', '5.45'),\n",
              " ('2024-08-03', '1587', '45', 'Female', '5.84'),\n",
              " ('2024-11-02', '6433', '28', 'Male', '6.17'),\n",
              " ('2024-10-01', '8880', '45', 'Male', '6.35'),\n",
              " ('2024-10-12', '1264', '50', 'Male', '2.04'),\n",
              " ('2024-12-26', '8804', '39', 'Male', '7.06'),\n",
              " ('2024-11-20', '8851', '50', 'Male', '5.18'),\n",
              " ('2024-03-16', '7317', '32', 'Male', '3.74'),\n",
              " ('2024-12-13', '1771', '39', 'Male', '4.16'),\n",
              " ('2024-07-28', '7716', '29', 'Female', '2.63'),\n",
              " ('2024-11-07', '6808', '30', 'Male', '2.34'),\n",
              " ('2024-08-20', '2800', '41', 'Male', '5.26'),\n",
              " ('2024-06-16', '9210', '29', 'Male', '4.27'),\n",
              " ('2024-12-12', '9365', '40', 'Female', '1.56'),\n",
              " ('2024-05-26', '2774', '45', 'Male', '1.08'),\n",
              " ('2024-07-28', '5658', '26', 'Male', '3.81'),\n",
              " ('2024-10-20', '2819', '38', 'Female', '4.8'),\n",
              " ('2024-06-04', '4243', '32', 'Male', '4.46'),\n",
              " ('2024-06-04', '1006', '21', 'Male', '5.23'),\n",
              " ('2024-03-04', '7468', '25', 'Female', '7.25'),\n",
              " ('2024-05-01', '3172', '54', 'Female', '6.47'),\n",
              " ('2024-03-08', '4236', '58', 'Male', '1.89'),\n",
              " ('2024-09-08', '9017', '57', 'Female', '3.99'),\n",
              " ('2024-05-26', '7207', '44', 'Male', '3.43'),\n",
              " ('2024-01-20', '2960', '29', 'Female', '3.65'),\n",
              " ('2024-06-19', '4906', '27', 'Female', '5.63'),\n",
              " ('2024-03-12', '8938', '31', 'Male', '1.38'),\n",
              " ('2024-07-06', '7465', '19', 'Female', '2.89'),\n",
              " ('2024-10-21', '3368', '34', 'Male', '2.54'),\n",
              " ('2024-02-01', '6565', '27', 'Female', '6.39'),\n",
              " ('2024-11-30', '7846', '21', 'Male', '6.47'),\n",
              " ('2024-08-28', '8161', '46', 'Female', '4.98'),\n",
              " ('2024-08-22', '4607', '28', 'Male', '8.99'),\n",
              " ('2024-06-14', '4893', '39', 'Male', '8.0'),\n",
              " ('2024-05-28', '1539', '57', 'Female', '5.95'),\n",
              " ('2024-02-15', '4748', '55', 'Female', '2.39'),\n",
              " ('2024-01-29', '9931', '43', 'Female', '3.09'),\n",
              " ('2024-05-13', '5063', '49', 'Male', '4.73'),\n",
              " ('2024-04-11', '1215', '48', 'Male', '5.77'),\n",
              " ('2024-08-13', '3783', '38', 'Female', '1.96'),\n",
              " ('2024-08-22', '9811', '50', 'Male', '7.63'),\n",
              " ('2024-11-27', '6258', '54', 'Male', '2.68'),\n",
              " ('2024-04-16', '9436', '33', 'Female', '4.36'),\n",
              " ('2024-08-29', '6973', '46', 'Female', '7.81'),\n",
              " ('2024-02-24', '6722', '39', 'Male', '5.45'),\n",
              " ('2024-11-19', '4008', '18', 'Female', '7.11'),\n",
              " ('2024-10-04', '2772', '58', 'Male', '7.16'),\n",
              " ('2024-10-29', '7297', '57', 'Male', '4.62'),\n",
              " ('2024-04-21', '1614', '45', 'Female', '1.28'),\n",
              " ('2024-01-24', '4075', '20', 'Female', '4.0'),\n",
              " ('2024-07-06', '6445', '54', 'Male', '3.28'),\n",
              " ('2024-08-26', '4240', '22', 'Male', '4.96'),\n",
              " ('2024-02-08', '6141', '38', 'Female', '3.92'),\n",
              " ('2024-09-18', '2363', '20', 'Male', '6.94'),\n",
              " ('2024-12-04', '9234', '52', 'Female', '6.88'),\n",
              " ('2024-04-04', '1451', '40', 'Female', '7.21'),\n",
              " ('2024-07-28', '5595', '33', 'Male', '2.12'),\n",
              " ('2024-04-27', '1887', '50', 'Female', '3.95'),\n",
              " ('2024-03-19', '7358', '36', 'Female', '6.37'),\n",
              " ('2024-11-17', '1517', '22', 'Female', '1.52'),\n",
              " ('2024-12-10', '9399', '19', 'Female', '2.57'),\n",
              " ('2024-05-27', '4554', '19', 'Female', '4.57'),\n",
              " ('2024-02-28', '3555', '19', 'Male', '4.09'),\n",
              " ('2024-12-21', '9801', '47', 'Male', '4.09'),\n",
              " ('2024-08-24', '3093', '59', 'Female', '4.63'),\n",
              " ('2024-06-09', '5426', '33', 'Female', '3.95'),\n",
              " ('2024-12-23', '2014', '44', 'Female', '8.19'),\n",
              " ('2024-05-16', '2873', '38', 'Female', '2.69'),\n",
              " ('2024-05-18', '8352', '30', 'Female', '3.88'),\n",
              " ('2024-04-11', '6103', '46', 'Male', '5.36'),\n",
              " ('2024-02-05', '7121', '59', 'Female', '7.13'),\n",
              " ('2024-09-03', '4687', '38', 'Female', '4.53'),\n",
              " ('2024-05-17', '9306', '53', 'Female', '4.22'),\n",
              " ('2024-05-07', '5951', '43', 'Male', '4.66'),\n",
              " ('2024-11-07', '4904', '46', 'Male', '2.77'),\n",
              " ('2024-05-18', '4764', '47', 'Male', '8.29'),\n",
              " ('2024-11-30', '9923', '35', 'Female', '6.18'),\n",
              " ('2024-12-13', '1670', '51', 'Male', '3.98'),\n",
              " ('2024-09-01', '4645', '59', 'Female', '4.26'),\n",
              " ('2024-04-13', '5172', '55', 'Female', '2.86'),\n",
              " ('2024-12-16', '7396', '30', 'Male', '7.81'),\n",
              " ('2024-09-02', '6232', '59', 'Female', '0.98'),\n",
              " ('2024-02-28', '3904', '58', 'Female', '2.63'),\n",
              " ('2024-07-27', '5749', '37', 'Female', '7.08'),\n",
              " ('2024-10-19', '3789', '19', 'Female', '4.63'),\n",
              " ('2024-05-07', '3387', '33', 'Female', '3.26'),\n",
              " ('2024-12-15', '7034', '28', 'Female', '2.65'),\n",
              " ('2024-08-05', '8124', '35', 'Male', '6.1'),\n",
              " ('2024-07-05', '3535', '30', 'Male', '2.18'),\n",
              " ('2024-03-12', '5482', '29', 'Male', '5.87'),\n",
              " ('2024-01-13', '3985', '37', 'Male', '2.71'),\n",
              " ('2024-10-12', '1870', '30', 'Female', '5.39'),\n",
              " ('2024-06-28', '3761', '48', 'Male', '4.74'),\n",
              " ('2024-10-14', '2806', '29', 'Male', '5.29'),\n",
              " ('2024-05-18', '8850', '48', 'Male', '3.8'),\n",
              " ('2024-11-05', '6831', '58', 'Male', '5.06'),\n",
              " ('2024-05-26', '2051', '19', 'Female', '7.52'),\n",
              " ('2024-07-26', '7513', '21', 'Female', '4.4'),\n",
              " ('2024-09-06', '7653', '59', 'Male', '5.59'),\n",
              " ('2024-05-28', '6552', '39', 'Male', '2.62'),\n",
              " ('2024-07-18', '7646', '28', 'Male', '4.06'),\n",
              " ('2024-07-09', '7837', '59', 'Male', '3.15'),\n",
              " ('2024-06-14', '5591', '31', 'Male', '3.17'),\n",
              " ('2024-06-11', '8984', '40', 'Male', '6.6'),\n",
              " ('2024-09-05', '5621', '31', 'Male', '3.8'),\n",
              " ('2024-06-11', '9095', '57', 'Male', '5.26'),\n",
              " ('2024-10-22', '9378', '33', 'Female', '5.33'),\n",
              " ('2024-09-20', '7726', '56', 'Female', '2.86'),\n",
              " ('2024-12-15', '9069', '21', 'Male', '3.84'),\n",
              " ('2024-04-05', '6054', '21', 'Male', '2.53'),\n",
              " ('2024-01-30', '3971', '51', 'Male', '6.49'),\n",
              " ('2024-02-23', '6450', '33', 'Male', '7.07'),\n",
              " ('2024-10-18', '9711', '22', 'Female', '6.33'),\n",
              " ('2024-11-21', '5926', '53', 'Female', '5.42'),\n",
              " ('2024-01-22', '1691', '53', 'Male', '5.39'),\n",
              " ('2024-12-08', '7781', '28', 'Male', '2.62'),\n",
              " ('2024-04-17', '7553', '28', 'Female', '6.9'),\n",
              " ('2024-10-10', '5873', '59', 'Male', '5.15'),\n",
              " ('2024-06-08', '6593', '42', 'Female', '4.78'),\n",
              " ('2024-11-16', '2409', '48', 'Male', '1.77'),\n",
              " ('2024-08-03', '4981', '51', 'Female', '4.57'),\n",
              " ('2024-03-27', '3364', '24', 'Female', '4.21'),\n",
              " ('2024-12-09', '5042', '46', 'Female', '6.73'),\n",
              " ('2024-06-21', '9362', '30', 'Male', '5.86'),\n",
              " ('2024-10-25', '8244', '45', 'Male', '4.7'),\n",
              " ('2024-08-17', '9105', '45', 'Male', '5.87'),\n",
              " ('2024-12-23', '9106', '54', 'Female', '5.5'),\n",
              " ('2024-01-11', '8382', '40', 'Female', '9.05'),\n",
              " ('2024-07-26', '2773', '47', 'Male', '2.99'),\n",
              " ('2024-06-09', '3560', '51', 'Male', '7.69'),\n",
              " ('2024-10-18', '9947', '44', 'Female', '1.64'),\n",
              " ('2024-02-08', '4715', '47', 'Female', '5.62'),\n",
              " ('2024-08-24', '7533', '23', 'Female', '5.21'),\n",
              " ('2024-05-14', '1421', '54', 'Female', '1.46'),\n",
              " ('2024-01-22', '2473', '23', 'Female', '4.39'),\n",
              " ('2024-09-21', '5524', '39', 'Male', '6.39'),\n",
              " ('2024-02-14', '9022', '33', 'Male', '4.29'),\n",
              " ('2024-04-22', '3313', '33', 'Female', '6.67'),\n",
              " ('2024-12-03', '9558', '35', 'Female', '2.96'),\n",
              " ('2024-04-08', '1126', '52', 'Female', '3.71'),\n",
              " ('2024-08-01', '5180', '43', 'Male', '2.21'),\n",
              " ('2024-11-08', '6014', '44', 'Male', '4.13'),\n",
              " ('2024-09-01', '3156', '48', 'Male', '5.2'),\n",
              " ('2024-08-28', '8036', '41', 'Male', '3.48'),\n",
              " ('2024-11-24', '8209', '36', 'Male', '2.74'),\n",
              " ('2024-04-18', '7297', '21', 'Male', '4.5'),\n",
              " ('2024-03-13', '1198', '19', 'Female', '5.53'),\n",
              " ('2024-08-10', '7232', '48', 'Female', '4.49'),\n",
              " ('2024-07-13', '3933', '37', 'Male', '4.88'),\n",
              " ('2024-02-04', '7326', '31', 'Male', '6.32'),\n",
              " ('2024-08-07', '7738', '59', 'Male', '7.53'),\n",
              " ('2024-07-14', '1378', '20', 'Female', '5.45'),\n",
              " ('2024-06-26', '6603', '54', 'Male', '5.07'),\n",
              " ('2024-01-24', '6969', '31', 'Female', '7.54'),\n",
              " ('2024-12-17', '2907', '30', 'Male', '3.52'),\n",
              " ('2024-07-27', '5435', '38', 'Male', '1.83'),\n",
              " ('2024-10-04', '3721', '46', 'Female', '7.63'),\n",
              " ('2024-10-10', '2128', '53', 'Female', '2.91'),\n",
              " ('2024-08-16', '9362', '56', 'Male', '6.07'),\n",
              " ('2024-05-25', '8942', '57', 'Female', '5.14'),\n",
              " ('2024-05-05', '7568', '59', 'Female', '2.7'),\n",
              " ('2024-02-25', '2910', '36', 'Male', '8.6'),\n",
              " ('2024-01-16', '9683', '57', 'Female', '7.8'),\n",
              " ('2024-11-22', '3155', '32', 'Female', '4.2'),\n",
              " ('2024-05-29', '7943', '58', 'Male', '5.0'),\n",
              " ('2024-04-06', '8118', '53', 'Male', '7.67'),\n",
              " ('2024-03-19', '3460', '51', 'Male', '5.75'),\n",
              " ('2024-03-01', '7413', '49', 'Female', '3.39'),\n",
              " ('2024-05-09', '5734', '53', 'Female', '4.41'),\n",
              " ('2024-12-09', '5704', '34', 'Male', '2.5'),\n",
              " ('2024-05-28', '1924', '41', 'Female', '1.74'),\n",
              " ('2024-02-16', '7250', '26', 'Male', '5.26'),\n",
              " ('2024-05-10', '1786', '34', 'Male', '5.86'),\n",
              " ('2024-04-27', '3349', '53', 'Male', '1.76'),\n",
              " ('2024-08-20', '3713', '43', 'Female', '6.78'),\n",
              " ('2024-09-25', '4661', '41', 'Female', '2.83'),\n",
              " ('2024-01-18', '1523', '47', 'Male', '5.52'),\n",
              " ('2024-01-11', '1142', '20', 'Female', '4.81'),\n",
              " ('2024-09-23', '5517', '25', 'Female', '5.6'),\n",
              " ('2024-01-19', '1641', '29', 'Male', '2.97'),\n",
              " ('2024-01-10', '6127', '53', 'Male', '4.22'),\n",
              " ('2024-05-14', '6413', '39', 'Female', '3.7'),\n",
              " ('2024-12-06', '7200', '56', 'Male', '3.16'),\n",
              " ('2024-05-18', '1193', '43', 'Male', '6.2'),\n",
              " ('2024-05-19', '5887', '51', 'Male', '1.48'),\n",
              " ('2024-07-04', '4326', '29', 'Female', '8.04'),\n",
              " ('2024-07-22', '7159', '40', 'Female', '5.67'),\n",
              " ('2024-08-07', '8688', '29', 'Male', '4.29'),\n",
              " ('2024-11-02', '3569', '29', 'Female', '7.21'),\n",
              " ('2024-05-25', '8082', '52', 'Female', '5.06'),\n",
              " ('2024-06-25', '7617', '33', 'Male', '7.02'),\n",
              " ('2024-02-06', '5428', '36', 'Female', '1.66'),\n",
              " ('2024-02-03', '7468', '27', 'Female', '0.96'),\n",
              " ('2024-07-11', '7747', '56', 'Female', '1.18'),\n",
              " ('2024-06-19', '4555', '50', 'Male', '6.88'),\n",
              " ('2024-08-06', '9283', '33', 'Female', '5.61'),\n",
              " ('2024-04-02', '2407', '50', 'Male', '4.64'),\n",
              " ('2024-06-20', '5052', '40', 'Female', '6.22'),\n",
              " ('2024-07-15', '8837', '29', 'Male', '3.27'),\n",
              " ('2024-07-27', '5736', '32', 'Male', '5.37'),\n",
              " ('2024-07-22', '3241', '31', 'Female', '3.46'),\n",
              " ('2024-05-12', '6739', '59', 'Female', '6.25'),\n",
              " ('2024-01-03', '3261', '39', 'Female', '2.88'),\n",
              " ('2024-12-20', '2872', '58', 'Female', '2.75'),\n",
              " ('2024-08-03', '2036', '58', 'Male', '4.28'),\n",
              " ('2024-01-05', '9714', '24', 'Male', '6.81'),\n",
              " ('2024-10-23', '7559', '37', 'Male', '4.55'),\n",
              " ('2024-05-09', '5095', '39', 'Male', '3.68'),\n",
              " ('2024-09-30', '6285', '54', 'Female', '4.48'),\n",
              " ('2024-02-16', '1564', '55', 'Male', '6.0'),\n",
              " ('2024-04-08', '4483', '56', 'Male', '3.4'),\n",
              " ('2024-09-14', '2211', '55', 'Male', '4.03'),\n",
              " ('2024-08-05', '6820', '38', 'Male', '3.65'),\n",
              " ('2024-10-11', '5597', '33', 'Male', '2.39'),\n",
              " ('2024-03-13', '4320', '44', 'Male', '5.64'),\n",
              " ('2024-10-09', '2081', '19', 'Male', '4.47'),\n",
              " ('2024-03-06', '4670', '19', 'Female', '5.07'),\n",
              " ('2024-11-26', '6335', '39', 'Male', '2.76'),\n",
              " ('2024-11-10', '4787', '24', 'Male', '2.55'),\n",
              " ('2024-02-04', '6231', '47', 'Female', '7.31'),\n",
              " ('2024-12-22', '6795', '21', 'Male', '2.94'),\n",
              " ('2024-12-24', '7073', '37', 'Female', '7.07'),\n",
              " ('2024-12-02', '9697', '59', 'Female', '7.53'),\n",
              " ('2024-05-22', '7533', '59', 'Male', '4.46'),\n",
              " ('2024-11-15', '3149', '59', 'Female', '5.92'),\n",
              " ('2024-10-26', '8265', '22', 'Female', '2.72'),\n",
              " ('2024-07-03', '7041', '19', 'Female', '5.82'),\n",
              " ('2024-10-12', '2790', '23', 'Female', '7.51'),\n",
              " ('2024-07-22', '3032', '53', 'Female', '7.68'),\n",
              " ('2024-09-11', '3428', '47', 'Female', '6.07'),\n",
              " ('2024-01-16', '5886', '24', 'Female', '5.44'),\n",
              " ('2024-08-22', '9989', '43', 'Male', '5.43'),\n",
              " ('2024-04-13', '1600', '30', 'Male', '4.54'),\n",
              " ('2024-05-12', '7794', '47', 'Male', '0.96'),\n",
              " ('2024-12-21', '1028', '52', 'Female', '4.52'),\n",
              " ('2024-08-02', '2906', '57', 'Female', '3.78'),\n",
              " ('2024-07-16', '4071', '53', 'Male', '1.9'),\n",
              " ('2024-04-30', '3975', '43', 'Female', '5.53'),\n",
              " ('2024-10-17', '7475', '47', 'Male', '3.18'),\n",
              " ('2024-07-30', '9699', '33', 'Female', '5.17'),\n",
              " ('2024-06-26', '8135', '32', 'Male', '3.75'),\n",
              " ('2024-02-26', '3233', '31', 'Male', '8.22'),\n",
              " ('2024-01-18', '2096', '50', 'Male', '6.36'),\n",
              " ('2024-01-11', '1858', '33', 'Female', '2.52'),\n",
              " ('2024-06-26', '9106', '53', 'Male', '6.65'),\n",
              " ('2024-04-12', '8734', '18', 'Male', '5.94'),\n",
              " ('2024-08-19', '4513', '41', 'Male', '7.06'),\n",
              " ('2024-05-18', '4345', '31', 'Female', '7.03'),\n",
              " ('2024-06-19', '6330', '39', 'Male', '5.86'),\n",
              " ('2024-05-14', '3269', '45', 'Female', '8.0'),\n",
              " ('2024-04-09', '7404', '50', 'Male', '4.58'),\n",
              " ('2024-08-29', '5581', '21', 'Female', '4.17'),\n",
              " ('2024-10-12', '6141', '20', 'Male', '5.0'),\n",
              " ('2024-12-14', '1224', '27', 'Female', '8.28'),\n",
              " ('2024-08-22', '7643', '50', 'Female', '8.36'),\n",
              " ('2024-07-17', '8630', '37', 'Female', '2.28'),\n",
              " ('2024-02-18', '2325', '55', 'Female', '1.0'),\n",
              " ('2024-10-15', '8280', '46', 'Male', '4.69'),\n",
              " ('2024-08-05', '1823', '57', 'Male', '6.69'),\n",
              " ('2024-03-20', '4718', '39', 'Male', '6.4'),\n",
              " ('2024-08-19', '9648', '58', 'Female', '4.07'),\n",
              " ('2024-10-02', '2736', '40', 'Female', '3.1'),\n",
              " ('2024-04-08', '5070', '24', 'Female', '8.49'),\n",
              " ('2024-12-02', '1809', '29', 'Female', '3.58'),\n",
              " ('2024-06-14', '3908', '58', 'Female', '4.24'),\n",
              " ('2024-08-11', '5613', '52', 'Female', '4.6'),\n",
              " ('2024-11-29', '5134', '54', 'Female', '4.78'),\n",
              " ('2024-04-22', '4061', '40', 'Female', '3.91'),\n",
              " ('2024-12-05', '5607', '35', 'Male', '4.29'),\n",
              " ('2024-06-25', '1877', '18', 'Male', '4.49'),\n",
              " ('2024-05-03', '4602', '24', 'Female', '7.99'),\n",
              " ('2024-12-28', '4740', '56', 'Female', '3.49'),\n",
              " ('2024-11-04', '7800', '39', 'Male', '3.4'),\n",
              " ('2024-03-29', '1665', '56', 'Male', '6.82'),\n",
              " ('2024-10-01', '8233', '32', 'Female', '7.0'),\n",
              " ('2024-08-26', '5798', '31', 'Male', '5.0'),\n",
              " ('2024-08-03', '9444', '23', 'Female', '7.02'),\n",
              " ('2024-05-18', '6411', '48', 'Male', '5.52'),\n",
              " ('2024-04-14', '9791', '19', 'Female', '3.67'),\n",
              " ('2024-05-27', '8740', '40', 'Male', '5.21'),\n",
              " ('2024-06-11', '2834', '46', 'Male', '3.45'),\n",
              " ('2024-10-16', '1109', '18', 'Male', '5.59'),\n",
              " ('2024-05-13', '7382', '24', 'Male', '7.93'),\n",
              " ('2024-06-09', '1238', '37', 'Female', '5.52'),\n",
              " ('2024-06-24', '3592', '36', 'Male', '8.38'),\n",
              " ('2024-02-17', '8764', '45', 'Female', '6.87'),\n",
              " ('2024-09-13', '4878', '38', 'Male', '3.92'),\n",
              " ('2024-01-10', '7458', '22', 'Female', '2.06'),\n",
              " ('2024-10-07', '8382', '29', 'Female', '6.05'),\n",
              " ('2024-12-03', '3889', '51', 'Female', '3.29'),\n",
              " ('2024-01-23', '7668', '42', 'Female', '2.51'),\n",
              " ('2024-04-21', '4167', '57', 'Female', '7.94'),\n",
              " ('2024-11-26', '8848', '20', 'Male', '3.73'),\n",
              " ('2024-04-15', '7694', '45', 'Female', '7.62'),\n",
              " ('2024-06-25', '3110', '50', 'Female', '5.89'),\n",
              " ('2024-02-15', '1941', '28', 'Male', '4.67'),\n",
              " ('2024-11-05', '9529', '20', 'Female', '4.24'),\n",
              " ('2024-04-20', '3916', '29', 'Female', '5.35'),\n",
              " ('2024-01-13', '6938', '34', 'Female', '5.05'),\n",
              " ('2024-08-30', '4688', '27', 'Female', '3.46'),\n",
              " ('2024-12-20', '5784', '31', 'Male', '3.14'),\n",
              " ('2024-01-14', '1256', '43', 'Female', '0.83'),\n",
              " ('2024-11-23', '1909', '59', 'Male', '3.42'),\n",
              " ('2024-10-20', '5838', '23', 'Male', '7.2'),\n",
              " ('2024-04-01', '1446', '57', 'Female', '6.38'),\n",
              " ('2024-10-03', '1179', '51', 'Male', '6.5'),\n",
              " ('2024-07-10', '7802', '32', 'Female', '6.54'),\n",
              " ('2024-07-02', '4770', '23', 'Female', '5.66'),\n",
              " ('2024-12-21', '6392', '21', 'Male', '5.32'),\n",
              " ('2024-07-18', '3586', '42', 'Female', '2.38'),\n",
              " ('2024-12-04', '6769', '55', 'Female', '2.63'),\n",
              " ('2024-01-23', '8727', '57', 'Female', '5.22'),\n",
              " ('2024-05-18', '3506', '23', 'Male', '1.59'),\n",
              " ('2024-02-28', '2832', '47', 'Male', '2.7'),\n",
              " ('2024-10-07', '1256', '49', 'Female', '2.33'),\n",
              " ('2024-05-10', '7200', '21', 'Male', '6.93'),\n",
              " ('2024-03-28', '1712', '39', 'Male', '3.91'),\n",
              " ('2024-04-26', '2578', '44', 'Male', '2.37'),\n",
              " ('2024-08-29', '8370', '48', 'Male', '1.87'),\n",
              " ('2024-02-26', '9848', '56', 'Female', '6.18'),\n",
              " ('2024-07-02', '2046', '35', 'Male', '5.52'),\n",
              " ('2024-07-07', '5483', '31', 'Female', '4.73'),\n",
              " ('2024-02-10', '6241', '52', 'Female', '8.02'),\n",
              " ('2024-05-21', '5239', '50', 'Male', '6.47'),\n",
              " ('2024-05-17', '9663', '27', 'Male', '4.93'),\n",
              " ('2024-09-04', '8287', '20', 'Male', '4.15'),\n",
              " ('2024-06-09', '9480', '25', 'Male', '6.21'),\n",
              " ('2024-11-24', '3690', '43', 'Male', '7.13'),\n",
              " ('2024-09-14', '5370', '37', 'Female', '5.99'),\n",
              " ('2024-06-02', '5535', '53', 'Male', '5.35'),\n",
              " ('2024-07-02', '1544', '27', 'Female', '8.6'),\n",
              " ('2024-10-27', '9399', '35', 'Male', '3.4'),\n",
              " ('2024-05-15', '1386', '42', 'Female', '4.74'),\n",
              " ('2024-05-14', '3484', '42', 'Female', '2.66'),\n",
              " ('2024-02-02', '4285', '26', 'Male', '2.88'),\n",
              " ('2024-04-09', '7704', '26', 'Female', '4.52'),\n",
              " ('2024-07-25', '7476', '30', 'Male', '8.12'),\n",
              " ('2024-10-18', '8978', '32', 'Male', '3.27'),\n",
              " ('2024-10-05', '2050', '23', 'Female', '5.43'),\n",
              " ('2024-03-30', '5635', '25', 'Female', '7.65'),\n",
              " ('2024-10-07', '5979', '19', 'Female', '1.87'),\n",
              " ('2024-09-25', '9494', '40', 'Female', '6.26'),\n",
              " ('2024-07-16', '9007', '53', 'Male', '5.92'),\n",
              " ('2024-11-28', '2198', '29', 'Male', '4.6'),\n",
              " ('2024-06-15', '1565', '52', 'Female', '4.99'),\n",
              " ('2024-04-20', '1716', '33', 'Female', '3.3'),\n",
              " ('2024-07-01', '1889', '48', 'Female', '4.55'),\n",
              " ('2024-09-20', '7207', '24', 'Male', '6.59'),\n",
              " ('2024-04-01', '5578', '48', 'Male', '3.12'),\n",
              " ('2024-10-10', '4430', '55', 'Male', '5.81'),\n",
              " ('2024-12-23', '7539', '48', 'Female', '9.1'),\n",
              " ('2024-05-21', '7852', '40', 'Male', '4.6'),\n",
              " ('2024-08-27', '5008', '34', 'Male', '9.06'),\n",
              " ('2024-11-24', '1296', '59', 'Male', '4.39'),\n",
              " ('2024-09-20', '2118', '58', 'Female', '3.2'),\n",
              " ('2024-07-30', '5760', '47', 'Female', '2.15'),\n",
              " ('2024-05-10', '5511', '37', 'Female', '2.32'),\n",
              " ('2024-09-05', '9664', '38', 'Female', '4.13'),\n",
              " ('2024-09-27', '7651', '50', 'Female', '2.62'),\n",
              " ('2024-02-01', '4083', '30', 'Male', '3.5'),\n",
              " ('2024-04-14', '5673', '24', 'Male', '4.81'),\n",
              " ('2024-07-04', '4937', '32', 'Female', '5.61'),\n",
              " ('2024-04-04', '4397', '27', 'Female', '3.92'),\n",
              " ('2024-09-06', '1331', '31', 'Male', '8.21'),\n",
              " ('2024-11-01', '3575', '59', 'Male', '3.51'),\n",
              " ('2024-11-13', '1442', '18', 'Female', '3.35'),\n",
              " ('2024-10-07', '8862', '36', 'Male', '2.09'),\n",
              " ('2024-10-19', '2233', '43', 'Male', '5.54'),\n",
              " ('2024-01-13', '1740', '43', 'Female', '0.79'),\n",
              " ('2024-10-08', '3770', '29', 'Male', '6.47'),\n",
              " ('2024-02-28', '6370', '32', 'Female', '2.61'),\n",
              " ('2024-03-26', '7929', '52', 'Male', '5.62'),\n",
              " ('2024-10-17', '2715', '40', 'Female', '5.56'),\n",
              " ('2024-06-12', '5187', '41', 'Male', '5.69'),\n",
              " ('2024-03-12', '3980', '47', 'Male', '4.0'),\n",
              " ('2024-03-12', '9650', '34', 'Female', '4.31'),\n",
              " ('2024-02-28', '5952', '41', 'Male', '4.4'),\n",
              " ('2024-03-05', '4038', '47', 'Male', '5.69'),\n",
              " ('2024-06-18', '3422', '43', 'Female', '4.01'),\n",
              " ('2024-06-16', '2074', '22', 'Male', '4.4'),\n",
              " ('2024-05-14', '7999', '30', 'Male', '8.11'),\n",
              " ('2024-06-30', '4853', '47', 'Male', '5.99'),\n",
              " ('2024-03-16', '3419', '57', 'Male', '9.06'),\n",
              " ('2024-02-20', '5746', '24', 'Female', '3.31'),\n",
              " ('2024-02-06', '2478', '43', 'Female', '5.84'),\n",
              " ('2024-04-02', '9500', '26', 'Male', '5.38'),\n",
              " ('2024-09-11', '9705', '20', 'Female', '3.97'),\n",
              " ('2024-04-09', '1255', '48', 'Male', '5.77'),\n",
              " ('2024-12-09', '6790', '28', 'Male', '2.47'),\n",
              " ('2024-10-01', '9437', '59', 'Female', '3.75'),\n",
              " ('2024-01-13', '3504', '51', 'Male', '6.54'),\n",
              " ('2024-01-23', '9401', '36', 'Female', '4.75'),\n",
              " ('2024-06-04', '6604', '40', 'Male', '2.08'),\n",
              " ('2024-10-16', '3400', '59', 'Male', '3.58'),\n",
              " ('2024-12-13', '3280', '27', 'Female', '5.3'),\n",
              " ('2024-12-29', '3107', '51', 'Female', '8.08'),\n",
              " ('2024-10-02', '8963', '19', 'Male', '4.75'),\n",
              " ('2024-11-20', '3808', '36', 'Female', '5.08'),\n",
              " ('2024-03-28', '8187', '31', 'Male', '1.93'),\n",
              " ('2024-11-04', '5791', '44', 'Female', '6.5'),\n",
              " ('2024-12-21', '1124', '42', 'Female', '7.75'),\n",
              " ('2024-12-07', '6302', '34', 'Male', '6.42'),\n",
              " ('2024-08-19', '4957', '28', 'Female', '3.44'),\n",
              " ('2024-04-18', '5457', '42', 'Male', '4.79'),\n",
              " ('2024-02-17', '9269', '47', 'Male', '6.45'),\n",
              " ('2024-09-10', '3776', '49', 'Male', '1.35'),\n",
              " ('2024-07-07', '9711', '57', 'Male', '4.53'),\n",
              " ('2024-05-12', '7227', '50', 'Female', '0.89'),\n",
              " ('2024-05-29', '3922', '40', 'Male', '7.01'),\n",
              " ('2024-06-21', '5970', '26', 'Male', '6.03'),\n",
              " ('2024-07-25', '4653', '34', 'Male', '1.62'),\n",
              " ('2024-02-11', '1730', '51', 'Female', '2.23'),\n",
              " ('2024-08-24', '4535', '34', 'Female', '1.74'),\n",
              " ('2024-01-26', '2885', '45', 'Female', '5.71'),\n",
              " ('2024-08-14', '1704', '22', 'Male', '6.28'),\n",
              " ('2024-05-31', '3407', '38', 'Male', '9.04'),\n",
              " ('2024-05-30', '4909', '33', 'Female', '7.77'),\n",
              " ('2024-04-21', '3368', '44', 'Female', '7.02'),\n",
              " ('2024-12-11', '1759', '37', 'Male', '4.28'),\n",
              " ('2024-10-30', '2308', '44', 'Female', '7.15'),\n",
              " ('2024-10-31', '5370', '31', 'Male', '8.17'),\n",
              " ('2024-01-28', '6181', '34', 'Male', '6.26'),\n",
              " ('2024-04-27', '1665', '34', 'Female', '5.06'),\n",
              " ('2024-04-19', '9561', '20', 'Female', '3.68'),\n",
              " ('2024-01-24', '7994', '23', 'Female', '1.68'),\n",
              " ('2024-02-04', '7702', '39', 'Male', '4.02'),\n",
              " ('2024-07-30', '8762', '44', 'Male', '5.39'),\n",
              " ('2024-01-14', '2945', '25', 'Male', '4.66'),\n",
              " ('2024-11-21', '9015', '46', 'Female', '5.36'),\n",
              " ('2024-10-03', '2487', '32', 'Female', '4.95'),\n",
              " ('2024-07-08', '9287', '43', 'Female', '4.67'),\n",
              " ('2024-04-24', '7406', '31', 'Female', '7.21'),\n",
              " ('2024-03-10', '7765', '21', 'Male', '5.26'),\n",
              " ('2024-09-02', '1143', '28', 'Female', '5.41'),\n",
              " ('2024-04-13', '3567', '32', 'Female', '7.47'),\n",
              " ('2024-12-24', '9440', '44', 'Female', '2.99'),\n",
              " ('2024-12-15', '2149', '38', 'Male', '3.55'),\n",
              " ('2024-01-16', '1605', '55', 'Female', '5.22'),\n",
              " ('2024-07-28', '4046', '28', 'Female', '2.77'),\n",
              " ('2024-12-05', '7324', '31', 'Male', '6.75'),\n",
              " ('2024-10-27', '7147', '22', 'Male', '2.45'),\n",
              " ('2024-09-21', '2361', '20', 'Female', '4.46'),\n",
              " ('2024-02-23', '7895', '29', 'Male', '3.57'),\n",
              " ('2024-03-24', '9713', '46', 'Female', '3.36'),\n",
              " ('2024-12-13', '2612', '29', 'Female', '6.18'),\n",
              " ('2024-12-06', '5409', '32', 'Male', '5.35'),\n",
              " ('2024-06-20', '2295', '39', 'Female', '5.98'),\n",
              " ('2024-02-20', '1633', '56', 'Female', '6.64'),\n",
              " ('2024-12-02', '6095', '36', 'Male', '3.21'),\n",
              " ('2024-06-26', '2954', '41', 'Male', '4.12'),\n",
              " ('2024-11-17', '2059', '20', 'Male', '4.44'),\n",
              " ('2024-03-23', '6452', '43', 'Female', '3.98'),\n",
              " ('2024-10-02', '9204', '20', 'Female', '3.85'),\n",
              " ('2024-05-31', '5668', '35', 'Female', '2.06'),\n",
              " ('2024-12-21', '6912', '28', 'Female', '3.56'),\n",
              " ('2024-05-05', '6291', '48', 'Male', '4.05'),\n",
              " ('2024-05-09', '6346', '20', 'Female', '5.01'),\n",
              " ('2024-05-19', '8720', '32', 'Female', '6.77'),\n",
              " ('2024-05-26', '5422', '48', 'Female', '8.69'),\n",
              " ('2024-01-27', '8111', '49', 'Male', '2.7'),\n",
              " ('2024-09-17', '9254', '52', 'Male', '2.63'),\n",
              " ('2024-05-20', '3755', '53', 'Female', '2.03'),\n",
              " ('2024-12-27', '2251', '32', 'Male', '5.23'),\n",
              " ('2024-02-25', '2126', '45', 'Male', '5.77'),\n",
              " ('2024-04-15', '1500', '29', 'Male', '1.19'),\n",
              " ('2024-02-15', '8758', '55', 'Male', '4.32'),\n",
              " ('2024-06-06', '9656', '57', 'Female', '6.53'),\n",
              " ('2024-03-16', '3292', '49', 'Female', '8.0'),\n",
              " ('2024-06-06', '3745', '51', 'Female', '3.28'),\n",
              " ('2024-01-16', '3401', '18', 'Male', '5.56'),\n",
              " ('2024-02-14', '9271', '56', 'Male', '2.76'),\n",
              " ('2024-06-30', '1033', '45', 'Female', '5.0'),\n",
              " ('2024-07-20', '2942', '54', 'Male', '6.74'),\n",
              " ('2024-11-12', '3673', '28', 'Female', '8.25'),\n",
              " ('2024-10-08', '9772', '50', 'Female', '3.21'),\n",
              " ('2024-02-08', '8899', '21', 'Male', '6.0'),\n",
              " ('2024-11-05', '7661', '31', 'Female', '6.02'),\n",
              " ('2024-04-07', '4980', '40', 'Male', '4.8'),\n",
              " ('2024-11-07', '1362', '30', 'Female', '7.75'),\n",
              " ('2024-11-03', '7851', '38', 'Female', '5.12'),\n",
              " ('2024-07-19', '4832', '52', 'Male', '5.15'),\n",
              " ('2024-09-12', '7088', '26', 'Male', '2.9'),\n",
              " ('2024-03-05', '4299', '25', 'Male', '6.94'),\n",
              " ('2024-02-20', '8529', '22', 'Male', '6.89'),\n",
              " ('2024-06-05', '7268', '54', 'Male', '2.77'),\n",
              " ('2024-09-07', '9172', '18', 'Male', '4.92'),\n",
              " ('2024-10-06', '6419', '59', 'Female', '3.69'),\n",
              " ('2024-04-08', '2059', '34', 'Female', '5.29'),\n",
              " ('2024-12-16', '9702', '30', 'Female', '5.17'),\n",
              " ('2024-04-17', '7176', '40', 'Male', '3.63'),\n",
              " ('2024-05-25', '3525', '30', 'Female', '2.63'),\n",
              " ('2024-04-03', '1296', '47', 'Male', '6.61'),\n",
              " ('2024-02-24', '6069', '57', 'Male', '4.26'),\n",
              " ('2024-08-18', '4232', '50', 'Female', '5.74'),\n",
              " ('2024-05-28', '8155', '51', 'Female', '5.17'),\n",
              " ('2024-11-26', '4793', '40', 'Female', '3.67'),\n",
              " ('2024-02-05', '5993', '45', 'Female', '5.95'),\n",
              " ('2024-08-08', '5595', '56', 'Female', '5.05'),\n",
              " ('2024-01-26', '5899', '56', 'Male', '8.25'),\n",
              " ('2024-11-23', '4238', '57', 'Female', '8.11'),\n",
              " ('2024-11-02', '6429', '43', 'Male', '4.44'),\n",
              " ('2024-07-04', '7825', '29', 'Female', '1.62'),\n",
              " ('2024-07-14', '6322', '38', 'Female', '4.98'),\n",
              " ('2024-06-28', '1796', '55', 'Male', '1.62'),\n",
              " ('2024-05-21', '4322', '55', 'Female', '8.61'),\n",
              " ('2024-02-21', '6164', '54', 'Female', '5.37'),\n",
              " ('2024-01-13', '3490', '39', 'Female', '4.54'),\n",
              " ('2024-03-03', '4090', '44', 'Male', '3.05'),\n",
              " ('2024-08-31', '6467', '58', 'Female', '6.75'),\n",
              " ('2024-07-06', '5329', '41', 'Female', '5.08'),\n",
              " ('2024-09-04', '7261', '26', 'Female', '7.14'),\n",
              " ('2024-11-11', '2897', '19', 'Female', '6.77'),\n",
              " ('2024-08-17', '9369', '42', 'Female', '5.48'),\n",
              " ('2024-09-05', '5297', '27', 'Male', '7.26'),\n",
              " ('2024-10-13', '9802', '47', 'Female', '6.77'),\n",
              " ('2024-07-21', '3517', '59', 'Female', '1.68'),\n",
              " ('2024-09-01', '9509', '56', 'Female', '4.52'),\n",
              " ('2024-01-31', '6643', '33', 'Female', '6.4'),\n",
              " ('2024-08-10', '2772', '25', 'Female', '1.83'),\n",
              " ('2024-06-17', '1058', '58', 'Female', '1.94'),\n",
              " ('2024-07-31', '1435', '25', 'Female', '7.5'),\n",
              " ('2024-10-29', '6901', '48', 'Female', '5.45'),\n",
              " ('2024-03-19', '2301', '51', 'Male', '7.26'),\n",
              " ('2024-05-14', '8137', '27', 'Male', '2.78'),\n",
              " ('2024-06-20', '6682', '36', 'Male', '2.1'),\n",
              " ('2024-11-25', '2810', '24', 'Male', '6.22'),\n",
              " ('2024-04-17', '3407', '54', 'Male', '3.43'),\n",
              " ('2024-05-21', '6902', '33', 'Female', '3.61'),\n",
              " ('2024-11-21', '2672', '38', 'Male', '5.43'),\n",
              " ('2024-09-17', '5722', '44', 'Male', '6.07'),\n",
              " ('2024-11-30', '9678', '27', 'Male', '4.32'),\n",
              " ('2024-09-08', '9130', '38', 'Male', '2.3'),\n",
              " ('2024-04-18', '9875', '29', 'Female', '2.29'),\n",
              " ('2024-10-21', '2064', '54', 'Male', '2.58'),\n",
              " ('2024-06-12', '6600', '40', 'Male', '2.42'),\n",
              " ('2024-09-21', '7854', '47', 'Male', '4.0'),\n",
              " ('2024-01-23', '7247', '24', 'Male', '5.38'),\n",
              " ('2024-01-06', '4190', '48', 'Female', '4.78'),\n",
              " ('2024-10-16', '2354', '20', 'Female', '4.4'),\n",
              " ('2024-11-21', '6083', '47', 'Female', '4.75'),\n",
              " ('2024-03-26', '3493', '21', 'Male', '4.44'),\n",
              " ('2024-10-12', '8680', '39', 'Female', '6.14'),\n",
              " ('2024-07-10', '1662', '44', 'Male', '4.62'),\n",
              " ('2024-10-31', '6834', '58', 'Male', '1.42'),\n",
              " ('2024-12-03', '5145', '32', 'Female', '7.37'),\n",
              " ('2024-02-23', '8681', '21', 'Female', '6.83'),\n",
              " ('2024-03-27', '1868', '33', 'Female', '7.34'),\n",
              " ('2024-01-31', '8996', '54', 'Male', '2.62'),\n",
              " ('2024-04-21', '8580', '21', 'Male', '3.28'),\n",
              " ('2024-10-19', '3779', '29', 'Male', '6.66'),\n",
              " ('2024-03-23', '3612', '18', 'Male', '7.99'),\n",
              " ('2024-12-08', '5476', '57', 'Male', '5.54'),\n",
              " ('2024-10-23', '8123', '27', 'Female', '2.05'),\n",
              " ('2024-07-08', '8803', '37', 'Male', '5.56'),\n",
              " ('2024-02-08', '4684', '57', 'Female', '4.97'),\n",
              " ('2024-04-04', '1016', '40', 'Male', '3.71'),\n",
              " ('2024-12-30', '8120', '24', 'Female', '2.06'),\n",
              " ('2024-11-03', '4546', '27', 'Female', '3.23'),\n",
              " ('2024-06-09', '2425', '31', 'Female', '5.38'),\n",
              " ('2024-07-27', '3731', '27', 'Female', '4.86'),\n",
              " ('2024-10-07', '7947', '24', 'Female', '4.58'),\n",
              " ('2024-08-08', '9490', '46', 'Female', '4.98'),\n",
              " ('2024-04-04', '9102', '30', 'Female', '5.21'),\n",
              " ('2024-01-01', '4773', '29', 'Male', '4.36'),\n",
              " ('2024-04-20', '5681', '53', 'Male', '8.39'),\n",
              " ('2024-02-19', '5318', '34', 'Female', '7.44'),\n",
              " ('2024-02-21', '6840', '20', 'Male', '6.72'),\n",
              " ('2024-09-15', '3087', '42', 'Male', '3.23'),\n",
              " ('2024-07-08', '4307', '43', 'Male', '2.18'),\n",
              " ('2024-12-29', '5908', '49', 'Male', '3.03'),\n",
              " ('2024-09-10', '4956', '43', 'Female', '5.35'),\n",
              " ('2024-06-24', '5415', '47', 'Male', '1.33'),\n",
              " ('2024-11-25', '6798', '47', 'Female', '5.77'),\n",
              " ('2024-01-13', '9727', '57', 'Female', '7.63'),\n",
              " ('2024-12-12', '8446', '46', 'Female', '4.57'),\n",
              " ('2024-07-27', '3995', '58', 'Male', '4.19'),\n",
              " ('2024-10-16', '6582', '52', 'Male', '4.32'),\n",
              " ('2024-09-30', '2210', '44', 'Male', '4.9'),\n",
              " ('2024-06-23', '7023', '41', 'Female', '5.73'),\n",
              " ('2024-10-30', '8772', '33', 'Female', '7.53'),\n",
              " ('2024-05-11', '5274', '28', 'Male', '5.75'),\n",
              " ('2024-10-09', '8943', '38', 'Male', '5.25'),\n",
              " ('2024-12-25', '9709', '56', 'Female', '3.43'),\n",
              " ('2024-09-12', '5268', '19', 'Female', '5.68'),\n",
              " ('2024-04-23', '7304', '41', 'Male', '4.82'),\n",
              " ('2024-12-24', '9893', '27', 'Male', '4.42'),\n",
              " ('2024-03-28', '2853', '57', 'Male', '1.31'),\n",
              " ('2024-04-01', '7098', '50', 'Male', '1.91'),\n",
              " ('2024-01-25', '1713', '34', 'Female', '5.05'),\n",
              " ('2024-12-06', '3857', '18', 'Female', '4.42'),\n",
              " ('2024-10-28', '5682', '23', 'Male', '6.9'),\n",
              " ('2024-02-25', '7723', '27', 'Female', '4.6'),\n",
              " ('2024-05-14', '2798', '56', 'Female', '4.09'),\n",
              " ('2024-05-10', '2293', '53', 'Male', '3.76'),\n",
              " ('2024-10-01', '3076', '40', 'Male', '3.65'),\n",
              " ('2024-01-01', '4037', '55', 'Female', '5.23'),\n",
              " ('2024-07-27', '8101', '58', 'Male', '1.89'),\n",
              " ('2024-10-18', '1073', '24', 'Female', '4.57'),\n",
              " ('2024-03-05', '5928', '56', 'Male', '4.97'),\n",
              " ('2024-08-14', '5470', '46', 'Male', '2.47'),\n",
              " ('2024-07-10', '6321', '23', 'Male', '4.28'),\n",
              " ('2024-08-05', '9464', '44', 'Female', '7.57'),\n",
              " ('2024-12-17', '6892', '25', 'Female', '3.36'),\n",
              " ('2024-09-08', '2038', '51', 'Male', '2.57'),\n",
              " ('2024-07-08', '1418', '23', 'Male', '0.82'),\n",
              " ('2024-05-27', '6959', '18', 'Female', '3.8'),\n",
              " ('2024-12-14', '2540', '42', 'Male', '7.32'),\n",
              " ('2024-01-21', '7900', '27', 'Male', '7.86'),\n",
              " ('2024-01-16', '4368', '43', 'Male', '2.9'),\n",
              " ('2024-11-27', '2235', '40', 'Male', '3.48'),\n",
              " ('2024-08-18', '1533', '35', 'Female', '7.51'),\n",
              " ('2024-08-30', '1723', '51', 'Female', '2.79'),\n",
              " ('2024-01-16', '2373', '55', 'Male', '4.35'),\n",
              " ('2024-12-26', '3755', '22', 'Male', '3.48'),\n",
              " ('2024-05-12', '4061', '49', 'Female', '2.42'),\n",
              " ('2024-07-07', '5046', '43', 'Female', '4.57'),\n",
              " ('2024-10-12', '3745', '22', 'Male', '3.77'),\n",
              " ('2024-10-01', '7322', '54', 'Male', '7.16'),\n",
              " ('2024-04-24', '7015', '20', 'Female', '4.72'),\n",
              " ('2024-08-03', '2629', '25', 'Female', '6.03'),\n",
              " ('2024-05-27', '7327', '52', 'Female', '4.58'),\n",
              " ('2024-08-15', '4819', '54', 'Female', '6.21'),\n",
              " ('2024-07-07', '1944', '46', 'Female', '4.86'),\n",
              " ('2024-08-17', '1248', '26', 'Female', '4.89'),\n",
              " ('2024-03-14', '4089', '52', 'Female', '5.7'),\n",
              " ('2024-09-07', '4356', '32', 'Female', '6.97'),\n",
              " ('2024-03-30', '7833', '34', 'Female', '2.97'),\n",
              " ('2024-10-11', '6027', '54', 'Male', '3.53'),\n",
              " ('2024-09-29', '2210', '20', 'Male', '3.83'),\n",
              " ('2024-04-06', '9167', '34', 'Male', '5.93'),\n",
              " ('2024-04-13', '2566', '53', 'Male', '6.08'),\n",
              " ('2024-05-24', '1109', '37', 'Male', '4.81'),\n",
              " ('2024-12-12', '4574', '35', 'Female', '6.28'),\n",
              " ('2024-01-27', '2120', '50', 'Female', '6.85'),\n",
              " ('2024-10-26', '6926', '22', 'Male', '8.25'),\n",
              " ('2024-02-28', '8044', '59', 'Male', '5.48'),\n",
              " ('2024-02-03', '7023', '30', 'Female', '5.1'),\n",
              " ('2024-04-11', '6412', '35', 'Female', '5.35'),\n",
              " ('2024-06-28', '5174', '52', 'Female', '6.09'),\n",
              " ('2024-03-17', '6945', '49', 'Male', '2.84'),\n",
              " ('2024-11-26', '4544', '59', 'Male', '6.2'),\n",
              " ('2024-03-03', '2054', '27', 'Female', '6.51'),\n",
              " ('2024-08-19', '2152', '32', 'Male', '7.02'),\n",
              " ('2024-12-29', '2658', '53', 'Male', '5.37'),\n",
              " ('2024-08-28', '7587', '53', 'Male', '7.35'),\n",
              " ('2024-12-13', '2277', '32', 'Female', '6.26'),\n",
              " ('2024-12-26', '8084', '57', 'Male', '4.26'),\n",
              " ('2024-02-04', '3866', '24', 'Male', '2.42'),\n",
              " ('2024-05-31', '7283', '40', 'Male', '4.79'),\n",
              " ('2024-08-10', '6413', '27', 'Female', '2.83'),\n",
              " ('2024-01-07', '2586', '43', 'Female', '5.32'),\n",
              " ('2024-05-12', '9909', '55', 'Female', '2.19'),\n",
              " ('2024-10-20', '7827', '23', 'Male', '5.73'),\n",
              " ('2024-06-10', '1978', '23', 'Female', '6.25'),\n",
              " ('2024-08-12', '9771', '20', 'Female', '5.14'),\n",
              " ('2024-12-09', '4568', '34', 'Male', '7.99'),\n",
              " ('2024-09-17', '2146', '56', 'Female', '1.89'),\n",
              " ('2024-03-14', '7961', '53', 'Male', '2.84'),\n",
              " ('2024-03-19', '1981', '51', 'Female', '7.27'),\n",
              " ('2024-04-29', '9783', '59', 'Male', '5.68'),\n",
              " ('2024-08-08', '6091', '38', 'Male', '4.77'),\n",
              " ('2024-02-11', '5904', '28', 'Male', '5.75'),\n",
              " ('2024-03-19', '2222', '36', 'Female', '2.58'),\n",
              " ('2024-11-24', '5325', '57', 'Male', '5.54'),\n",
              " ('2024-01-28', '8985', '19', 'Male', '8.51'),\n",
              " ('2024-05-19', '4659', '36', 'Male', '4.17'),\n",
              " ('2024-10-19', '2793', '22', 'Female', '2.89'),\n",
              " ('2024-10-24', '4354', '23', 'Female', '8.06'),\n",
              " ('2024-04-12', '8749', '28', 'Male', '8.49'),\n",
              " ('2024-08-04', '7817', '45', 'Female', '7.7'),\n",
              " ('2024-03-11', '3925', '54', 'Female', '5.39'),\n",
              " ('2024-07-28', '9722', '44', 'Male', '4.87'),\n",
              " ('2024-04-11', '3223', '27', 'Male', '5.44'),\n",
              " ('2024-04-01', '9233', '56', 'Female', '2.64'),\n",
              " ('2024-09-13', '2720', '47', 'Female', '6.26'),\n",
              " ('2024-12-03', '6073', '19', 'Male', '8.58'),\n",
              " ('2024-05-22', '6356', '48', 'Male', '4.06'),\n",
              " ('2024-06-25', '5116', '56', 'Male', '5.73'),\n",
              " ('2024-06-30', '1862', '41', 'Male', '5.0'),\n",
              " ('2024-10-09', '8646', '24', 'Male', '2.31'),\n",
              " ('2024-05-09', '1842', '34', 'Female', '5.69'),\n",
              " ('2024-09-13', '2648', '31', 'Female', '4.95'),\n",
              " ('2024-07-31', '1479', '48', 'Male', '5.19'),\n",
              " ('2024-06-26', '9937', '20', 'Male', '7.89'),\n",
              " ('2024-08-21', '1407', '35', 'Female', '4.42'),\n",
              " ('2024-02-26', '3422', '32', 'Male', '5.39'),\n",
              " ('2024-08-24', '8185', '49', 'Female', '6.83'),\n",
              " ('2024-08-02', '8216', '18', 'Female', '3.8'),\n",
              " ('2024-02-01', '2094', '22', 'Female', '4.51'),\n",
              " ('2024-09-14', '8832', '36', 'Female', '6.74'),\n",
              " ('2024-05-05', '1948', '38', 'Male', '4.87'),\n",
              " ('2024-09-28', '3369', '55', 'Male', '3.97'),\n",
              " ('2024-05-05', '9232', '36', 'Male', '2.65'),\n",
              " ('2024-04-09', '4572', '20', 'Male', '2.97'),\n",
              " ('2024-01-30', '9002', '45', 'Male', '3.98'),\n",
              " ('2024-11-10', '2325', '59', 'Female', '1.16'),\n",
              " ('2024-01-23', '5516', '25', 'Male', '4.78'),\n",
              " ('2024-11-07', '7705', '24', 'Female', '6.77'),\n",
              " ('2024-07-29', '5779', '55', 'Male', '1.1'),\n",
              " ('2024-09-23', '4591', '18', 'Male', '7.01'),\n",
              " ('2024-06-19', '4730', '31', 'Male', '7.21'),\n",
              " ('2024-07-07', '1293', '19', 'Male', '4.86'),\n",
              " ('2024-07-27', '1899', '39', 'Male', '3.19'),\n",
              " ('2024-08-15', '2506', '23', 'Female', '3.04'),\n",
              " ('2024-10-13', '3258', '41', 'Female', '4.65'),\n",
              " ('2024-07-02', '1673', '34', 'Female', '2.88'),\n",
              " ('2024-01-25', '6962', '34', 'Male', '6.67'),\n",
              " ('2024-04-22', '3472', '39', 'Female', '6.81'),\n",
              " ('2024-09-06', '6177', '42', 'Male', '7.77'),\n",
              " ('2024-12-08', '9431', '28', 'Female', '7.95'),\n",
              " ('2024-09-24', '1838', '18', 'Male', '6.93'),\n",
              " ('2024-04-07', '1599', '32', 'Male', '4.12'),\n",
              " ('2024-06-07', '2608', '35', 'Female', '4.25'),\n",
              " ('2024-07-11', '2348', '29', 'Male', '3.65'),\n",
              " ('2024-09-11', '1994', '48', 'Male', '7.39'),\n",
              " ('2024-03-02', '6765', '28', 'Male', '3.39'),\n",
              " ('2024-03-20', '8257', '54', 'Female', '5.43'),\n",
              " ('2024-03-17', '4815', '19', 'Female', '4.42'),\n",
              " ('2024-09-25', '1483', '59', 'Male', '7.03'),\n",
              " ('2024-08-16', '4168', '42', 'Female', '2.08'),\n",
              " ('2024-07-02', '3452', '48', 'Male', '3.16'),\n",
              " ('2024-02-10', '7589', '19', 'Female', '4.8'),\n",
              " ('2024-03-17', '5723', '20', 'Male', '7.89'),\n",
              " ('2024-05-16', '5172', '54', 'Female', '2.88'),\n",
              " ('2024-08-03', '1632', '41', 'Male', '7.98'),\n",
              " ('2024-09-18', '9128', '33', 'Male', '3.98'),\n",
              " ('2024-07-25', '2543', '37', 'Female', '4.91'),\n",
              " ('2024-07-16', '9861', '24', 'Female', '5.05'),\n",
              " ('2024-07-08', '7008', '57', 'Male', '5.56'),\n",
              " ('2024-12-31', '5714', '45', 'Female', '0.97'),\n",
              " ('2024-12-11', '2548', '33', 'Female', '3.66'),\n",
              " ('2024-05-16', '7882', '37', 'Male', '4.61'),\n",
              " ('2024-09-09', '1448', '59', 'Female', '5.16'),\n",
              " ('2024-11-01', '7701', '49', 'Female', '6.57'),\n",
              " ('2024-03-02', '9810', '28', 'Male', '6.99'),\n",
              " ('2024-11-23', '9988', '42', 'Female', '5.72'),\n",
              " ('2024-11-28', '4728', '44', 'Female', '2.57'),\n",
              " ('2024-02-15', '3552', '45', 'Female', '5.17'),\n",
              " ('2024-10-15', '2867', '39', 'Male', '2.2'),\n",
              " ('2024-12-13', '2144', '29', 'Male', '4.27'),\n",
              " ('2024-05-12', '5290', '38', 'Male', '6.36'),\n",
              " ('2024-10-04', '4759', '46', 'Female', '2.28'),\n",
              " ('2024-01-04', '7536', '32', 'Female', '5.1'),\n",
              " ('2024-07-20', '4980', '46', 'Female', '4.83'),\n",
              " ('2024-07-14', '9165', '47', 'Male', '5.54'),\n",
              " ('2024-11-15', '5307', '30', 'Female', '8.02'),\n",
              " ('2024-06-05', '7073', '31', 'Female', '2.74'),\n",
              " ('2024-09-27', '7255', '33', 'Female', '4.28'),\n",
              " ('2024-11-14', '2535', '38', 'Female', '8.71'),\n",
              " ('2024-08-23', '9204', '55', 'Male', '5.14'),\n",
              " ('2024-03-12', '1224', '42', 'Male', '5.89'),\n",
              " ('2024-05-25', '7097', '23', 'Male', '6.46'),\n",
              " ('2024-07-10', '1513', '18', 'Female', '1.87'),\n",
              " ('2024-07-14', '5694', '49', 'Female', '5.26'),\n",
              " ('2024-05-05', '2031', '41', 'Female', '6.56'),\n",
              " ('2024-11-18', '4041', '39', 'Male', '7.74'),\n",
              " ('2024-02-27', '2517', '48', 'Male', '8.8'),\n",
              " ('2024-08-30', '8750', '30', 'Female', '2.64'),\n",
              " ('2024-01-17', '8108', '29', 'Female', '4.65'),\n",
              " ('2024-05-21', '3944', '34', 'Male', '7.81'),\n",
              " ('2024-03-06', '2169', '56', 'Male', '7.43'),\n",
              " ('2024-11-23', '5031', '21', 'Female', '4.16'),\n",
              " ('2024-03-11', '8483', '37', 'Female', '5.9'),\n",
              " ('2024-07-30', '9199', '52', 'Female', '5.13'),\n",
              " ('2024-08-06', '6434', '26', 'Female', '6.43'),\n",
              " ('2024-06-19', '5370', '55', 'Female', '8.84'),\n",
              " ('2024-09-13', '6909', '21', 'Male', '4.28'),\n",
              " ('2024-10-23', '7084', '53', 'Male', '6.22'),\n",
              " ('2024-05-11', '6955', '42', 'Male', '3.92'),\n",
              " ('2024-05-13', '5486', '55', 'Male', '5.55'),\n",
              " ('2024-02-11', '7209', '18', 'Female', '5.6'),\n",
              " ('2024-12-31', '9526', '40', 'Male', '6.72'),\n",
              " ('2024-10-30', '7990', '32', 'Male', '2.77'),\n",
              " ('2024-07-21', '5939', '39', 'Male', '3.64'),\n",
              " ('2024-06-03', '8490', '50', 'Female', '4.23'),\n",
              " ('2024-04-21', '2329', '47', 'Male', '6.45'),\n",
              " ('2024-12-14', '3377', '37', 'Female', '7.99'),\n",
              " ('2024-11-23', '9536', '48', 'Female', '4.06'),\n",
              " ('2024-07-11', '5470', '54', 'Male', '5.52'),\n",
              " ('2024-11-08', '9113', '19', 'Female', '4.29'),\n",
              " ('2024-02-18', '2046', '28', 'Male', '2.94'),\n",
              " ('2024-07-20', '4288', '53', 'Male', '2.23'),\n",
              " ('2024-03-10', '5142', '24', 'Male', '5.13'),\n",
              " ('2024-04-19', '5182', '52', 'Male', '3.85'),\n",
              " ('2024-06-22', '6560', '45', 'Female', '2.47'),\n",
              " ('2024-01-13', '4233', '41', 'Male', '6.03'),\n",
              " ('2024-04-06', '3401', '53', 'Male', '4.91'),\n",
              " ('2024-02-26', '9689', '55', 'Male', '5.49'),\n",
              " ('2024-08-14', '1111', '37', 'Male', '7.83'),\n",
              " ('2024-12-23', '8890', '59', 'Male', '5.7'),\n",
              " ('2024-09-03', '2539', '46', 'Male', '3.92'),\n",
              " ('2024-02-10', '4255', '52', 'Female', '4.18'),\n",
              " ('2024-12-07', '6802', '25', 'Male', '3.81'),\n",
              " ('2024-06-10', '4370', '27', 'Female', '6.17'),\n",
              " ('2024-08-26', '8399', '53', 'Female', '3.85'),\n",
              " ('2024-03-07', '4522', '53', 'Male', '6.35'),\n",
              " ('2024-01-07', '6130', '29', 'Female', '2.84'),\n",
              " ('2024-05-10', '5245', '31', 'Male', '5.16'),\n",
              " ('2024-12-01', '1080', '40', 'Female', '4.43'),\n",
              " ('2024-08-01', '6566', '35', 'Female', '4.36'),\n",
              " ('2024-07-15', '2353', '18', 'Male', '8.15'),\n",
              " ('2024-09-07', '1637', '27', 'Male', '3.7'),\n",
              " ('2024-09-06', '6320', '41', 'Male', '6.46'),\n",
              " ('2024-04-17', '4185', '56', 'Male', '3.73'),\n",
              " ('2024-05-23', '2459', '43', 'Male', '5.39'),\n",
              " ('2024-10-11', '9294', '36', 'Female', '6.15'),\n",
              " ('2024-10-08', '3577', '53', 'Female', '5.16'),\n",
              " ('2024-06-12', '7018', '23', 'Male', '3.13'),\n",
              " ('2024-12-23', '8084', '46', 'Male', '5.93'),\n",
              " ('2024-03-07', '3704', '26', 'Male', '2.64'),\n",
              " ('2024-10-24', '5661', '49', 'Female', '2.77'),\n",
              " ('2024-09-15', '2745', '43', 'Female', '3.92'),\n",
              " ('2024-06-13', '8283', '39', 'Female', '6.26'),\n",
              " ('2024-03-25', '2935', '20', 'Male', '7.66'),\n",
              " ('2024-11-22', '5226', '53', 'Male', '4.53'),\n",
              " ('2024-12-15', '6856', '36', 'Female', '2.91'),\n",
              " ('2024-06-15', '3625', '49', 'Female', '4.45'),\n",
              " ('2024-02-23', '2775', '56', 'Male', '6.61'),\n",
              " ('2024-12-28', '4604', '59', 'Male', '4.37'),\n",
              " ('2024-01-29', '2534', '47', 'Female', '3.88'),\n",
              " ('2024-08-20', '3101', '18', 'Male', '2.85'),\n",
              " ('2024-11-25', '4597', '52', 'Male', '3.5'),\n",
              " ('2024-09-09', '2812', '38', 'Male', '6.57'),\n",
              " ('2024-05-01', '2739', '23', 'Male', '5.44'),\n",
              " ('2024-05-11', '5576', '38', 'Male', '6.83'),\n",
              " ('2024-02-11', '7066', '52', 'Female', '6.01'),\n",
              " ('2024-06-24', '2573', '47', 'Male', '6.87'),\n",
              " ('2024-07-29', '4097', '20', 'Female', '8.34'),\n",
              " ('2024-07-05', '7804', '59', 'Male', '1.04'),\n",
              " ('2024-10-16', '5407', '49', 'Male', '4.06'),\n",
              " ('2024-03-09', '1869', '19', 'Male', '7.2'),\n",
              " ('2024-04-15', '1554', '26', 'Female', '6.84'),\n",
              " ('2024-11-09', '3774', '54', 'Male', '7.71'),\n",
              " ('2024-09-08', '4450', '53', 'Male', '5.38'),\n",
              " ('2024-05-08', '9299', '22', 'Male', '4.36'),\n",
              " ('2024-03-08', '9638', '35', 'Male', '7.07'),\n",
              " ('2024-02-04', '9755', '50', 'Male', '5.51'),\n",
              " ('2024-11-15', '6717', '37', 'Female', '3.62'),\n",
              " ('2024-09-23', '9972', '50', 'Female', '5.95'),\n",
              " ('2024-05-29', '9222', '53', 'Male', '1.85'),\n",
              " ('2024-01-30', '7372', '20', 'Male', '5.34'),\n",
              " ('2024-04-03', '6207', '23', 'Female', '6.77'),\n",
              " ('2024-12-14', '1787', '27', 'Female', '8.76'),\n",
              " ('2024-05-01', '5055', '48', 'Male', '3.35'),\n",
              " ('2024-02-07', '5558', '23', 'Female', '2.06'),\n",
              " ('2024-02-11', '9951', '47', 'Female', '4.46'),\n",
              " ('2024-05-12', '3766', '59', 'Male', '6.62'),\n",
              " ('2024-12-09', '7058', '57', 'Female', '4.21'),\n",
              " ('2024-04-16', '5692', '44', 'Male', '6.79'),\n",
              " ('2024-03-20', '8994', '42', 'Male', '3.64'),\n",
              " ('2024-12-20', '5473', '33', 'Male', '7.65'),\n",
              " ('2024-02-09', '1429', '58', 'Male', '8.08'),\n",
              " ('2024-10-18', '2632', '18', 'Female', '8.7'),\n",
              " ('2024-02-13', '4251', '29', 'Male', '5.21'),\n",
              " ('2024-06-19', '9767', '24', 'Female', '6.27'),\n",
              " ('2024-01-15', '2674', '51', 'Female', '7.27'),\n",
              " ('2024-05-30', '5158', '43', 'Male', '4.92'),\n",
              " ('2024-02-24', '4836', '30', 'Female', '5.42'),\n",
              " ('2024-07-21', '8089', '59', 'Male', '2.38'),\n",
              " ('2024-09-13', '9308', '36', 'Female', '6.1'),\n",
              " ('2024-11-11', '8230', '53', 'Male', '4.12'),\n",
              " ('2024-07-27', '3634', '18', 'Male', '6.53'),\n",
              " ('2024-07-05', '7771', '23', 'Male', '3.61'),\n",
              " ('2024-05-23', '9276', '29', 'Female', '3.76'),\n",
              " ('2024-01-16', '9400', '47', 'Male', '2.59'),\n",
              " ('2024-11-21', '4686', '42', 'Female', '3.14'),\n",
              " ('2024-12-05', '3972', '20', 'Male', '6.79'),\n",
              " ('2024-01-27', '1454', '39', 'Female', '4.26'),\n",
              " ('2024-08-26', '5345', '24', 'Male', '4.77'),\n",
              " ('2024-09-11', '9806', '52', 'Male', '3.95'),\n",
              " ('2024-06-08', '9762', '44', 'Male', '3.13'),\n",
              " ('2024-12-23', '6102', '24', 'Male', '6.09'),\n",
              " ('2024-05-22', '8167', '23', 'Male', '6.87'),\n",
              " ('2024-06-09', '2795', '56', 'Female', '3.33'),\n",
              " ('2024-03-10', '5789', '50', 'Female', '5.38'),\n",
              " ...]"
            ]
          },
          "metadata": {},
          "execution_count": 112
        }
      ]
    },
    {
      "cell_type": "markdown",
      "source": [
        "### Create a totally empty dataframe"
      ],
      "metadata": {
        "id": "fhzxT-d7lf3n"
      }
    },
    {
      "cell_type": "code",
      "source": [
        "from pyspark.sql.types import StructType\n",
        "sc = spark.sparkContext\n",
        "#Create empty df\n",
        "schema = StructType([])\n",
        "empty = spark.createDataFrame(sc.emptyRDD(), schema)\n",
        "empty.show()"
      ],
      "metadata": {
        "colab": {
          "base_uri": "https://localhost:8080/"
        },
        "id": "5QfIjSpHl1_N",
        "outputId": "5570d18c-dc55-4127-9f26-f19f606e4beb"
      },
      "execution_count": null,
      "outputs": [
        {
          "output_type": "stream",
          "name": "stdout",
          "text": [
            "++\n",
            "||\n",
            "++\n",
            "++\n",
            "\n"
          ]
        }
      ]
    },
    {
      "cell_type": "markdown",
      "source": [
        "### Create an empty dataframe with header"
      ],
      "metadata": {
        "id": "Wb8o3Yril4fV"
      }
    },
    {
      "cell_type": "code",
      "source": [
        "from pyspark.sql.types import StructType, StructField\n",
        "#Create empty df with header\n",
        "schema_header = StructType([StructField(\"name\", StringType(), True)])\n",
        "empty_with_header = spark.createDataFrame(sc.emptyRDD(), schema_header)\n",
        "empty_with_header.show()"
      ],
      "metadata": {
        "colab": {
          "base_uri": "https://localhost:8080/"
        },
        "id": "FxgNx2mFl7RI",
        "outputId": "7cd3246d-5539-4a74-96b5-8a861af32422"
      },
      "execution_count": null,
      "outputs": [
        {
          "output_type": "stream",
          "name": "stdout",
          "text": [
            "+----+\n",
            "|name|\n",
            "+----+\n",
            "+----+\n",
            "\n"
          ]
        }
      ]
    },
    {
      "cell_type": "markdown",
      "source": [
        "### Create a dataframe with header and data"
      ],
      "metadata": {
        "id": "9dYY_dzYl-ee"
      }
    },
    {
      "cell_type": "code",
      "source": [
        "from pyspark.sql import Row\n",
        "mylist = [\n",
        "  {\"name\":'Alice',\"age\":13},\n",
        "  {\"name\":'Jacob',\"age\":24},\n",
        "  {\"name\":'Betty',\"age\":135},\n",
        "]\n",
        "spark.createDataFrame(Row(**x) for x in mylist).show()"
      ],
      "metadata": {
        "colab": {
          "base_uri": "https://localhost:8080/"
        },
        "id": "Dlm3bw-MmAJl",
        "outputId": "574c3e04-259d-49dc-a521-806a8c6e76fc"
      },
      "execution_count": null,
      "outputs": [
        {
          "output_type": "stream",
          "name": "stdout",
          "text": [
            "+-----+---+\n",
            "| name|age|\n",
            "+-----+---+\n",
            "|Alice| 13|\n",
            "|Jacob| 24|\n",
            "|Betty|135|\n",
            "+-----+---+\n",
            "\n"
          ]
        }
      ]
    },
    {
      "cell_type": "code",
      "source": [
        "# You can achieve the same using this - note that we are using spark context here, not a spark session\n",
        "from pyspark.sql import Row\n",
        "df = sc.parallelize([\n",
        "        Row(name='Alice', age=13),\n",
        "        Row(name='Jacob', age=24),\n",
        "        Row(name='Betty', age=135)]).toDF()\n",
        "df.show()"
      ],
      "metadata": {
        "colab": {
          "base_uri": "https://localhost:8080/"
        },
        "id": "1NdAHF3GmKCA",
        "outputId": "f627b0fb-7503-4037-a55f-25d05d2ae5f4"
      },
      "execution_count": null,
      "outputs": [
        {
          "output_type": "stream",
          "name": "stdout",
          "text": [
            "+-----+---+\n",
            "| name|age|\n",
            "+-----+---+\n",
            "|Alice| 13|\n",
            "|Jacob| 24|\n",
            "|Betty|135|\n",
            "+-----+---+\n",
            "\n"
          ]
        }
      ]
    },
    {
      "cell_type": "markdown",
      "source": [
        "## Drop Duplicates"
      ],
      "metadata": {
        "id": "ccV4QrYfmN9C"
      }
    },
    {
      "cell_type": "code",
      "source": [
        "from pyspark.sql import Row\n",
        "from pyspark.sql import Row\n",
        "mylist = [\n",
        "  {\"name\":'Alice',\"age\":5,\"height\":80},\n",
        "  {\"name\":'Jacob',\"age\":24,\"height\":80},\n",
        "  {\"name\":'Alice',\"age\":5,\"height\":80}\n",
        "]\n",
        "df = spark.createDataFrame(Row(**x) for x in mylist)\n",
        "df.dropDuplicates().show()"
      ],
      "metadata": {
        "colab": {
          "base_uri": "https://localhost:8080/"
        },
        "id": "RbZEArKamPhA",
        "outputId": "56ae8870-e2f7-450f-8382-8569ea5f7a02"
      },
      "execution_count": null,
      "outputs": [
        {
          "output_type": "stream",
          "name": "stdout",
          "text": [
            "+-----+---+------+\n",
            "| name|age|height|\n",
            "+-----+---+------+\n",
            "|Alice|  5|    80|\n",
            "|Jacob| 24|    80|\n",
            "+-----+---+------+\n",
            "\n"
          ]
        }
      ]
    },
    {
      "cell_type": "code",
      "source": [
        "df.dropDuplicates(subset=['height']).show()"
      ],
      "metadata": {
        "colab": {
          "base_uri": "https://localhost:8080/"
        },
        "id": "FtaWNGuFmZlN",
        "outputId": "c6d20e7a-5d9f-4944-e348-ccb5e9d56cc0"
      },
      "execution_count": null,
      "outputs": [
        {
          "output_type": "stream",
          "name": "stdout",
          "text": [
            "+-----+---+------+\n",
            "| name|age|height|\n",
            "+-----+---+------+\n",
            "|Alice|  5|    80|\n",
            "+-----+---+------+\n",
            "\n"
          ]
        }
      ]
    }
  ]
}